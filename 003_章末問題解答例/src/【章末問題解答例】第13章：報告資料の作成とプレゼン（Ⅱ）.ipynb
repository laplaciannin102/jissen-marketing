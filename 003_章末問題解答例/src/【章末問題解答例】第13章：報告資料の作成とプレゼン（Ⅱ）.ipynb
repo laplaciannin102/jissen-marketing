{
 "cells": [
  {
   "cell_type": "markdown",
   "id": "6bcf4f29",
   "metadata": {},
   "source": [
    "# 第13章：報告資料の作成とプレゼン（Ⅱ）"
   ]
  },
  {
   "cell_type": "markdown",
   "id": "fde5ef10",
   "metadata": {},
   "source": [
    "## 13.1 プレゼン資料を作成し、輪講を進めている仲間に対して1人10分で報告を行い、フィードバックをもらおう。"
   ]
  },
  {
   "cell_type": "markdown",
   "id": "ed7b63b4",
   "metadata": {},
   "source": [
    "### 【解答例】"
   ]
  },
  {
   "cell_type": "markdown",
   "id": "f103c020",
   "metadata": {},
   "source": [
    "- ※別紙13-1として掲載"
   ]
  },
  {
   "cell_type": "markdown",
   "id": "06f511b8",
   "metadata": {},
   "source": [
    "### 【解説】"
   ]
  },
  {
   "cell_type": "markdown",
   "id": "94e3c7f6",
   "metadata": {},
   "source": [
    "- 第7章で作成した解答例に機械学習モデルの構築に関する記載を加えて最終報告書として整理しました。\n",
    "- 今回は機械学習モデルの結果のみを記載しましたが、必要に応じて経緯（決定木だとAUCはxxxだった、精度向上のためにxxxを特徴量として追加した、など）を記載すると良いでしょう。"
   ]
  },
  {
   "cell_type": "markdown",
   "id": "2effb866",
   "metadata": {},
   "source": [
    "## 13.2 自分なりの「ふりかえり」をやってみよう。"
   ]
  },
  {
   "cell_type": "markdown",
   "id": "41ff3d1e",
   "metadata": {},
   "source": [
    "### 【解答例】"
   ]
  },
  {
   "cell_type": "markdown",
   "id": "a17c7aa6",
   "metadata": {},
   "source": [
    "- ※別紙13-2として掲載"
   ]
  },
  {
   "cell_type": "markdown",
   "id": "ca8fe044",
   "metadata": {},
   "source": [
    "### 【解説】"
   ]
  },
  {
   "cell_type": "markdown",
   "id": "d004df04",
   "metadata": {},
   "source": [
    "- プロジェクトが終わると、終わりっぱなしになってしまうことが良くあります。プロジェクトがうまくいった時もうまくいかなかった時も、そのプロジェクトの経験から得られる学びは数多くあるはずです。\n",
    "- 継続的な学びを得るためにも、是非ふりかえりを欠かさず行いましょう。"
   ]
  }
 ],
 "metadata": {
  "kernelspec": {
   "display_name": "Python 3 (ipykernel)",
   "language": "python",
   "name": "python3"
  },
  "language_info": {
   "codemirror_mode": {
    "name": "ipython",
    "version": 3
   },
   "file_extension": ".py",
   "mimetype": "text/x-python",
   "name": "python",
   "nbconvert_exporter": "python",
   "pygments_lexer": "ipython3",
   "version": "3.8.8"
  },
  "toc": {
   "base_numbering": 1,
   "nav_menu": {},
   "number_sections": true,
   "sideBar": true,
   "skip_h1_title": false,
   "title_cell": "Table of Contents",
   "title_sidebar": "Contents",
   "toc_cell": false,
   "toc_position": {
    "height": "calc(100% - 180px)",
    "left": "10px",
    "top": "150px",
    "width": "321.825px"
   },
   "toc_section_display": true,
   "toc_window_display": true
  },
  "varInspector": {
   "cols": {
    "lenName": 16,
    "lenType": 16,
    "lenVar": 40
   },
   "kernels_config": {
    "python": {
     "delete_cmd_postfix": "",
     "delete_cmd_prefix": "del ",
     "library": "var_list.py",
     "varRefreshCmd": "print(var_dic_list())"
    },
    "r": {
     "delete_cmd_postfix": ") ",
     "delete_cmd_prefix": "rm(",
     "library": "var_list.r",
     "varRefreshCmd": "cat(var_dic_list()) "
    }
   },
   "types_to_exclude": [
    "module",
    "function",
    "builtin_function_or_method",
    "instance",
    "_Feature"
   ],
   "window_display": false
  }
 },
 "nbformat": 4,
 "nbformat_minor": 5
}
