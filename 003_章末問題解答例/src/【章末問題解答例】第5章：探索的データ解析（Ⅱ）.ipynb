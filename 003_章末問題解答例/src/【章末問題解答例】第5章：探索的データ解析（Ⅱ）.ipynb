{
 "cells": [
  {
   "cell_type": "markdown",
   "id": "a1073722",
   "metadata": {},
   "source": [
    "# 第5章：探索的データ解析（Ⅱ）"
   ]
  },
  {
   "cell_type": "markdown",
   "id": "decb12d6",
   "metadata": {},
   "source": [
    "## 5.1 エリアごとに性別・年代の円グラフを作成してみよう。エリアごとに違いはあるだろうか？"
   ]
  },
  {
   "cell_type": "markdown",
   "id": "83f22354",
   "metadata": {},
   "source": [
    "### 【解答例1】"
   ]
  },
  {
   "cell_type": "markdown",
   "id": "ed21b092",
   "metadata": {},
   "source": [
    "#### エリアごとの性別の円グラフ"
   ]
  },
  {
   "cell_type": "code",
   "execution_count": null,
   "id": "a7d6177b",
   "metadata": {},
   "outputs": [],
   "source": [
    "import numpy as np\n",
    "import pandas as pd\n",
    "import matplotlib.pyplot as plt\n",
    "%matplotlib inline\n",
    "\n",
    "df1 = pd.read_csv(\"../input/gi_train_mm10.csv\") # 10月のデータ\n",
    "df2 = pd.read_csv(\"../input/gi_train_mm11.csv\") # 11月のデータ\n",
    "\n",
    "df_tmp = pd.concat([df1, df2])\n",
    "df = df_tmp[df_tmp[\"customer_id\"].notna()].copy()\n",
    "df_et1 = df.loc[(df[\"event_type\"] == 1)]\n",
    "df_et2 = df.loc[(df[\"event_type\"] == 2)]\n",
    "df_et2[\"area_id\"] = df_et2[\"area_id\"].astype(int).astype(str)"
   ]
  },
  {
   "cell_type": "code",
   "execution_count": null,
   "id": "0ff4d3ee",
   "metadata": {},
   "outputs": [],
   "source": [
    "df_customer_attribute = \\\n",
    "    df_et2[[\"customer_id\", \"gender\", \"age\", \"age_category\", \"area_id\"]].drop_duplicates()"
   ]
  },
  {
   "cell_type": "code",
   "execution_count": null,
   "id": "6243a29a",
   "metadata": {},
   "outputs": [],
   "source": [
    "df_customer_attribute_ai1 = df_customer_attribute.loc[(df_customer_attribute[\"area_id\"] == \"1\")]\n",
    "df_customer_attribute_ai2 = df_customer_attribute.loc[(df_customer_attribute[\"area_id\"] == \"2\")]\n",
    "df_customer_attribute_ai3 = df_customer_attribute.loc[(df_customer_attribute[\"area_id\"] == \"3\")]\n",
    "df_customer_attribute_ai4 = df_customer_attribute.loc[(df_customer_attribute[\"area_id\"] == \"4\")]\n",
    "df_customer_attribute_ai5 = df_customer_attribute.loc[(df_customer_attribute[\"area_id\"] == \"5\")]"
   ]
  },
  {
   "cell_type": "code",
   "execution_count": null,
   "id": "3ff0af64",
   "metadata": {},
   "outputs": [],
   "source": [
    "gender_counts = df_customer_attribute_ai1[\"gender\"].value_counts()\n",
    "plt.pie(\\\n",
    "    gender_counts, labels=gender_counts.index, autopct=\"%.1f%%\", startangle=90) \n",
    "plt.show()\n",
    "print(gender_counts)"
   ]
  },
  {
   "cell_type": "code",
   "execution_count": null,
   "id": "c5343a49",
   "metadata": {},
   "outputs": [],
   "source": [
    "gender_counts = df_customer_attribute_ai2[\"gender\"].value_counts()\n",
    "plt.pie(\\\n",
    "    gender_counts, labels=gender_counts.index, autopct=\"%.1f%%\", startangle=90) \n",
    "plt.show()\n",
    "print(gender_counts)"
   ]
  },
  {
   "cell_type": "code",
   "execution_count": null,
   "id": "ab2add23",
   "metadata": {},
   "outputs": [],
   "source": [
    "gender_counts = df_customer_attribute_ai3[\"gender\"].value_counts()\n",
    "plt.pie(\\\n",
    "    gender_counts, labels=gender_counts.index, autopct=\"%.1f%%\", startangle=90) \n",
    "plt.show()\n",
    "print(gender_counts)"
   ]
  },
  {
   "cell_type": "code",
   "execution_count": null,
   "id": "99abe247",
   "metadata": {},
   "outputs": [],
   "source": [
    "gender_counts = df_customer_attribute_ai4[\"gender\"].value_counts()\n",
    "plt.pie(\\\n",
    "    gender_counts, labels=gender_counts.index, autopct=\"%.1f%%\", startangle=90) \n",
    "plt.show()\n",
    "print(gender_counts)"
   ]
  },
  {
   "cell_type": "code",
   "execution_count": null,
   "id": "6bad5cb7",
   "metadata": {},
   "outputs": [],
   "source": [
    "gender_counts = df_customer_attribute_ai5[\"gender\"].value_counts()\n",
    "plt.pie(\\\n",
    "    gender_counts, labels=gender_counts.index, autopct=\"%.1f%%\", startangle=90) \n",
    "plt.show()\n",
    "print(gender_counts)"
   ]
  },
  {
   "cell_type": "markdown",
   "id": "4f52e3b0",
   "metadata": {},
   "source": [
    "#### エリアごとの年代の円グラフ"
   ]
  },
  {
   "cell_type": "code",
   "execution_count": null,
   "id": "fcf05ece",
   "metadata": {},
   "outputs": [],
   "source": [
    "age_counts = \\\n",
    "    df_customer_attribute_ai1[\"age\"].value_counts().sort_index(ascending=False)\n",
    "plt.pie(age_counts, labels=age_counts.index, autopct=\"%.1f%%\", startangle=90) \n",
    "plt.show()\n",
    "print(age_counts)"
   ]
  },
  {
   "cell_type": "code",
   "execution_count": null,
   "id": "9bc16b5f",
   "metadata": {},
   "outputs": [],
   "source": [
    "age_counts = \\\n",
    "    df_customer_attribute_ai2[\"age\"].value_counts().sort_index(ascending=False)\n",
    "plt.pie(age_counts, labels=age_counts.index, autopct=\"%.1f%%\", startangle=90) \n",
    "plt.show()\n",
    "print(age_counts)"
   ]
  },
  {
   "cell_type": "code",
   "execution_count": null,
   "id": "efd8c39f",
   "metadata": {},
   "outputs": [],
   "source": [
    "age_counts = \\\n",
    "    df_customer_attribute_ai3[\"age\"].value_counts().sort_index(ascending=False)\n",
    "plt.pie(age_counts, labels=age_counts.index, autopct=\"%.1f%%\", startangle=90) \n",
    "plt.show()\n",
    "print(age_counts)"
   ]
  },
  {
   "cell_type": "code",
   "execution_count": null,
   "id": "c8f8f464",
   "metadata": {},
   "outputs": [],
   "source": [
    "age_counts = \\\n",
    "    df_customer_attribute_ai4[\"age\"].value_counts().sort_index(ascending=False)\n",
    "plt.pie(age_counts, labels=age_counts.index, autopct=\"%.1f%%\", startangle=90) \n",
    "plt.show()\n",
    "print(age_counts)"
   ]
  },
  {
   "cell_type": "code",
   "execution_count": null,
   "id": "31737a48",
   "metadata": {},
   "outputs": [],
   "source": [
    "age_counts = \\\n",
    "    df_customer_attribute_ai5[\"age\"].value_counts().sort_index(ascending=False)\n",
    "plt.pie(age_counts, labels=age_counts.index, autopct=\"%.1f%%\", startangle=90) \n",
    "plt.show()\n",
    "print(age_counts)"
   ]
  },
  {
   "cell_type": "markdown",
   "id": "7c91cadf",
   "metadata": {},
   "source": [
    "### 【解説1】"
   ]
  },
  {
   "cell_type": "markdown",
   "id": "e5b33278",
   "metadata": {},
   "source": [
    "- 性別に関する円グラフを5個（5エリア分）、年代に関する円グラフを5個（5エリア分）、合計で10この円グラフを表示してみました。\n",
    "- これを見比べると、エリアによって性別・年代が変わることが分かるでしょう。どうやら同じ飲料でもサブカテゴリ（水・お茶・炭酸飲料・果汁飲料・コーヒー飲料…など）によって立寄者の性別・年代が変わるということが分かりました。\n",
    "- ところで、このプログラムは以下の点で改善点があります。\n",
    "    - まったく同じようなプログラムが複数ある\n",
    "    - わざわざ画面をスクロールしないと比較ができない\n",
    "- このような場合は、棒グラフにしてエリアごとに横に並べると良さそうです。（通常の）積み上げ棒グラフの場合と100%積み上げ棒グラフの場合を両方作成してみましょう。"
   ]
  },
  {
   "cell_type": "markdown",
   "id": "dad583bd",
   "metadata": {},
   "source": [
    "### 【解答例2】"
   ]
  },
  {
   "cell_type": "markdown",
   "id": "285c5152",
   "metadata": {},
   "source": [
    "#### エリアごとの性別の棒グラフ（積み上げ）"
   ]
  },
  {
   "cell_type": "code",
   "execution_count": null,
   "id": "737bf13d",
   "metadata": {},
   "outputs": [],
   "source": [
    "# エリア×性別でクロス集計\n",
    "tmp = df_customer_attribute.pivot_table(index=\"gender\",columns=\"area_id\",values=\"customer_id\",aggfunc=len)\n",
    "for i in range(len(tmp)):\n",
    "    # 棒グラフの作成\n",
    "    p = plt.bar(tmp.columns,tmp.iloc[i],bottom=tmp.iloc[:i].sum(),label=tmp.index[i])\n",
    "    # データラベルの入力\n",
    "    plt.bar_label(p,label_type=\"center\")\n",
    "    # 推移線の作成\n",
    "    N = len(tmp.columns)\n",
    "    ind = np.arange(N)\n",
    "    width = 0.8   # 一つの棒グラフの太さ\n",
    "    ind_p = ind + width/2\n",
    "    ind_m = ind - width/2\n",
    "    ind_line = np.sort(np.concatenate([ind_p,ind_m]))\n",
    "    line = (np.insert(tmp.iloc[:i+1].sum().values,np.arange(N),tmp.iloc[:i+1].sum().values))\n",
    "    plt.plot(ind_line,line,\"--k\",zorder=0)\n",
    "       \n",
    "plt.legend()\n",
    "plt.show()"
   ]
  },
  {
   "cell_type": "markdown",
   "id": "6b28809d",
   "metadata": {},
   "source": [
    "#### エリアごとの年代の棒グラフ（積み上げ）"
   ]
  },
  {
   "cell_type": "code",
   "execution_count": null,
   "id": "8010e123",
   "metadata": {},
   "outputs": [],
   "source": [
    "# エリア×年齢でクロス集計\n",
    "tmp = df_customer_attribute.pivot_table(index=\"age\",columns=\"area_id\",values=\"customer_id\",aggfunc=len)\n",
    "for i in range(len(tmp)):\n",
    "    # 棒グラフの作成\n",
    "    p = plt.bar(tmp.columns,tmp.iloc[i],bottom=tmp.iloc[:i].sum(),label=tmp.index[i])\n",
    "    # データラベルの入力\n",
    "    plt.bar_label(p,label_type=\"center\")\n",
    "    # 推移線の作成\n",
    "    N = len(tmp.columns)\n",
    "    ind = np.arange(N)\n",
    "    width = 0.8   # 一つの棒グラフの太さ\n",
    "    ind_p = ind + width/2\n",
    "    ind_m = ind - width/2\n",
    "    ind_line = np.sort(np.concatenate([ind_p,ind_m]))\n",
    "    line = (np.insert(tmp.iloc[:i+1].sum().values,np.arange(N),tmp.iloc[:i+1].sum().values))\n",
    "    plt.plot(ind_line,line,\"--k\",zorder=0)\n",
    "\n",
    "# 凡例がグラフと重なるため、右上に\n",
    "plt.legend(bbox_to_anchor=(1.05, 1),loc=\"upper left\")\n",
    "plt.show()"
   ]
  },
  {
   "cell_type": "markdown",
   "id": "01c0147a",
   "metadata": {},
   "source": [
    "### 【解説2】"
   ]
  },
  {
   "cell_type": "markdown",
   "id": "f67df0d8",
   "metadata": {},
   "source": [
    "- このように各エリアの情報を横に並べてみると、そもそもエリアによってだいぶ人数が異なることが分かるかと思います。\n",
    "- ただ、これだと例えば「40代の割合がもっとも多いエリアはどこか」と言ったことが分かりづらい表示になっています。各エリアにおける構成比を比較したい場合は、次に示す100%積み上げの方が良いでしょう。\n",
    "- なお、ここでは各エリアに立ち寄った回数ベースでカウントしています。つまりAさんがエリア1に行き、エリア2に行き、またエリア1に戻ってきた場合は、エリア1にAさんの情報が2回カウントされている状態です。もしこれをユニーク数にする場合は、2行目の「aggfunc=len」-> 「aggfunc= lambda x:x.nunique()」に変更するだけで可能です。"
   ]
  },
  {
   "cell_type": "markdown",
   "id": "c455731b",
   "metadata": {},
   "source": [
    "### 【解答例3】"
   ]
  },
  {
   "cell_type": "markdown",
   "id": "f2acafcc",
   "metadata": {},
   "source": [
    "#### エリアごとの性別の棒グラフ（100%積み上げ）"
   ]
  },
  {
   "cell_type": "code",
   "execution_count": null,
   "id": "2505bf32",
   "metadata": {},
   "outputs": [],
   "source": [
    "# エリア×性別でクロス集計し、比率で返す\n",
    "tmp = df_customer_attribute.pivot_table(index=\"gender\",columns=\"area_id\",values=\"customer_id\",aggfunc=len).apply(lambda x : 100*x/sum(x), axis=0)\n",
    "for i in range(len(tmp)):\n",
    "    # 棒グラフの作成\n",
    "    p = plt.bar(tmp.columns,tmp.iloc[i],bottom=tmp.iloc[:i].sum(),label=tmp.index[i])\n",
    "    # データラベルの入力\n",
    "    plt.bar_label(p,fmt=\"%.1f\",label_type=\"center\")\n",
    "    # 推移線の作成\n",
    "    N = len(tmp.columns)\n",
    "    ind = np.arange(N)\n",
    "    width = 0.8   # 一つの棒グラフの太さ\n",
    "    ind_p = ind + width/2\n",
    "    ind_m = ind - width/2\n",
    "    ind_line = np.sort(np.concatenate([ind_p,ind_m]))\n",
    "    line = (np.insert(tmp.iloc[:i+1].sum().values,np.arange(N),tmp.iloc[:i+1].sum().values))\n",
    "    plt.plot(ind_line,line,\"--k\",zorder=0)\n",
    "\n",
    "# 凡例がグラフと重なるため、右上に\n",
    "plt.legend(bbox_to_anchor=(1.05, 1),loc=\"upper left\")\n",
    "plt.show()"
   ]
  },
  {
   "cell_type": "markdown",
   "id": "e909679b",
   "metadata": {},
   "source": [
    "#### エリアごとの年代の棒グラフ（100%積み上げ）"
   ]
  },
  {
   "cell_type": "code",
   "execution_count": null,
   "id": "04cd1e57",
   "metadata": {},
   "outputs": [],
   "source": [
    "# エリア×年齢でクロス集計し、比率で返す\n",
    "tmp = df_customer_attribute.pivot_table(index=\"age\",columns=\"area_id\",values=\"customer_id\",aggfunc=len).apply(lambda x : 100*x/sum(x), axis=0)\n",
    "for i in range(len(tmp)):\n",
    "    # 棒グラフの作成\n",
    "    p = plt.bar(tmp.columns,tmp.iloc[i],bottom=tmp.iloc[:i].sum(),label=tmp.index[i])\n",
    "    # データラベルの入力\n",
    "    plt.bar_label(p,fmt=\"%.1f\",label_type=\"center\")\n",
    "    # 推移線の作成\n",
    "    N = len(tmp.columns)\n",
    "    ind = np.arange(N)\n",
    "    width = 0.8   # 一つの棒グラフの太さ\n",
    "    ind_p = ind + width/2\n",
    "    ind_m = ind - width/2\n",
    "    ind_line = np.sort(np.concatenate([ind_p,ind_m]))\n",
    "    line = (np.insert(tmp.iloc[:i+1].sum().values,np.arange(N),tmp.iloc[:i+1].sum().values))\n",
    "    plt.plot(ind_line,line,\"--k\",zorder=0)\n",
    "\n",
    "# 凡例がグラフと重なるため、右上に\n",
    "plt.legend(bbox_to_anchor=(1.05, 1),loc=\"upper left\")\n",
    "plt.show()"
   ]
  },
  {
   "cell_type": "markdown",
   "id": "e4735efa",
   "metadata": {},
   "source": [
    "### 【解説3】"
   ]
  },
  {
   "cell_type": "markdown",
   "id": "a4ec6a6e",
   "metadata": {},
   "source": [
    "- 100%積み上げグラフにすることで、エリアごとに構成比が比較しやすくなったのが分かるかと思います。\n",
    "- このように、知りたいことを知るためにどのようなグラフで表現すると最も分かりやすいかを常に考えましょう。"
   ]
  },
  {
   "cell_type": "markdown",
   "id": "a0cd69ce",
   "metadata": {},
   "source": [
    "## 5.2 性別の円グラフを作成する際に、男性と女性が分かりやすい色分けにしてみよう。"
   ]
  },
  {
   "cell_type": "markdown",
   "id": "9544771d",
   "metadata": {},
   "source": [
    "### 【解答例】"
   ]
  },
  {
   "cell_type": "code",
   "execution_count": null,
   "id": "42a10050",
   "metadata": {},
   "outputs": [],
   "source": [
    "gender_counts = df_customer_attribute[\"gender\"].value_counts()\n",
    "pie_colors = [\"r\", \"b\"]\n",
    "plt.pie(\\\n",
    "    gender_counts, labels=gender_counts.index, autopct=\"%.1f%%\", startangle=90, colors=pie_colors) \n",
    "plt.show()\n",
    "print(gender_counts)"
   ]
  },
  {
   "cell_type": "markdown",
   "id": "567ab99c",
   "metadata": {},
   "source": [
    "### 【解説】"
   ]
  },
  {
   "cell_type": "markdown",
   "id": "de158598",
   "metadata": {},
   "source": [
    "- 2行目で円グラフの色を指定しています。rはred（赤）、bはblue（青）を意味しています。\n",
    "- これを3行目でパラメタとして指定しています。これで色を変更できます。"
   ]
  },
  {
   "cell_type": "markdown",
   "id": "cd9b8cb5",
   "metadata": {},
   "source": [
    "## 5.3 滞在時間と商品接触回数に相関はあるだろうか？また、他にも相関がありそうな変数はあるだろうか？調べてみよう。"
   ]
  },
  {
   "cell_type": "markdown",
   "id": "330a6c5a",
   "metadata": {},
   "source": [
    "### 【解答例】"
   ]
  },
  {
   "cell_type": "code",
   "execution_count": null,
   "id": "eb00587b",
   "metadata": {},
   "outputs": [],
   "source": [
    "shopper_time_duration_list = df_et1[[\"customer_id\",\"time_duration\"]].set_index(\"customer_id\")\n",
    "shopper_time_duration_list"
   ]
  },
  {
   "cell_type": "code",
   "execution_count": null,
   "id": "e4fcb71b",
   "metadata": {},
   "outputs": [],
   "source": [
    "shopper_contact_list = df.groupby(\"customer_id\")[[\"num_touch\"]].sum().astype(int).rename(columns={\"num_touch\" : \"接触回数\"})\n",
    "shopper_contact_list"
   ]
  },
  {
   "cell_type": "code",
   "execution_count": null,
   "id": "1cb1d436",
   "metadata": {},
   "outputs": [],
   "source": [
    "df_shopper = pd.concat([shopper_time_duration_list, shopper_contact_list], axis=1)\n",
    "df_shopper"
   ]
  },
  {
   "cell_type": "code",
   "execution_count": null,
   "id": "eb0c32dc",
   "metadata": {},
   "outputs": [],
   "source": [
    "plt.scatter(df_shopper[\"time_duration\"], df_shopper[\"接触回数\"])"
   ]
  },
  {
   "cell_type": "code",
   "execution_count": null,
   "id": "7300e5e4",
   "metadata": {},
   "outputs": [],
   "source": [
    "df_shopper.corr()"
   ]
  },
  {
   "cell_type": "markdown",
   "id": "dc76e3ff",
   "metadata": {},
   "source": [
    "### 【解説】"
   ]
  },
  {
   "cell_type": "markdown",
   "id": "3a8c60b3",
   "metadata": {},
   "source": [
    "- 最初に人物IDと滞在時間のDataFrameを、次に人物IDと商品接触回数のDataFrameをそれぞれ作成し、マージしてひとつのDataFrameとしました。\n",
    "- その後に散布図を作成して相関係数を算出しました。散布図からもだいたい分かりますが、相関係数も0.3を下回っており、あまり相関が無さそうなことが分かりました。\n",
    "- 同じような方法で、他にも「購入回数」や「立寄時間帯」などで相関を確認してみると、なにか発見があるかもしれません。"
   ]
  }
 ],
 "metadata": {
  "kernelspec": {
   "display_name": "Python 3 (ipykernel)",
   "language": "python",
   "name": "python3"
  },
  "language_info": {
   "codemirror_mode": {
    "name": "ipython",
    "version": 3
   },
   "file_extension": ".py",
   "mimetype": "text/x-python",
   "name": "python",
   "nbconvert_exporter": "python",
   "pygments_lexer": "ipython3",
   "version": "3.8.8"
  },
  "toc": {
   "base_numbering": 1,
   "nav_menu": {},
   "number_sections": true,
   "sideBar": true,
   "skip_h1_title": false,
   "title_cell": "Table of Contents",
   "title_sidebar": "Contents",
   "toc_cell": false,
   "toc_position": {
    "height": "calc(100% - 180px)",
    "left": "10px",
    "top": "150px",
    "width": "321.825px"
   },
   "toc_section_display": true,
   "toc_window_display": true
  },
  "varInspector": {
   "cols": {
    "lenName": 16,
    "lenType": 16,
    "lenVar": 40
   },
   "kernels_config": {
    "python": {
     "delete_cmd_postfix": "",
     "delete_cmd_prefix": "del ",
     "library": "var_list.py",
     "varRefreshCmd": "print(var_dic_list())"
    },
    "r": {
     "delete_cmd_postfix": ") ",
     "delete_cmd_prefix": "rm(",
     "library": "var_list.r",
     "varRefreshCmd": "cat(var_dic_list()) "
    }
   },
   "types_to_exclude": [
    "module",
    "function",
    "builtin_function_or_method",
    "instance",
    "_Feature"
   ],
   "window_display": false
  }
 },
 "nbformat": 4,
 "nbformat_minor": 5
}
