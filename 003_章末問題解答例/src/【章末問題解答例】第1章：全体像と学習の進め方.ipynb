{
 "cells": [
  {
   "cell_type": "markdown",
   "id": "d6ffe699",
   "metadata": {},
   "source": [
    "# 第1章：全体像と学習の進め方"
   ]
  },
  {
   "cell_type": "markdown",
   "id": "d5ecfad0",
   "metadata": {},
   "source": [
    "以下の手順にしたがってこれからの学習計画を考えてみよう。"
   ]
  },
  {
   "cell_type": "markdown",
   "id": "eeaa8a5c",
   "metadata": {},
   "source": [
    "## 1.1 目次を読んでそれぞれの章の学習日を決めよう。"
   ]
  },
  {
   "cell_type": "markdown",
   "id": "c21892d6",
   "metadata": {},
   "source": [
    "### 【解答例】"
   ]
  },
  {
   "cell_type": "markdown",
   "id": "638f486e",
   "metadata": {},
   "source": [
    "- 4/5（水）：はじめに、第1章\n",
    "- 4/12（水）：第2章、第3章\n",
    "- 4/19（水）：第4章、第5章\n",
    "- 4/26（水）：第6章\n",
    "- 5/10（水）：第7章\n",
    "- 5/17（水）：第8章、第9章\n",
    "- 5/24（水）：第10章\n",
    "- 5/31（水）：第11章\n",
    "- 3/29（水）：第12章\n",
    "- 6/7（水）：第13章、第14章\n",
    "- 6/14（水）：第15章、あとがき\n",
    "\n",
    "進め方の例\n",
    "\n",
    "- 各自当日までに本文を読んで気になった点を共有ファイル（OneNote）に記載しておく\n",
    "- 当日はファシリテーター（持ち回り制）を中心にOneNoteのメモを参考に輪講を行う\n",
    "- 演習問題については各自で意見を出す\n",
    "- 次回までに章末問題に取り組んで次回の冒頭で次のファシリテーターが発表する"
   ]
  },
  {
   "cell_type": "markdown",
   "id": "a4b7662e",
   "metadata": {},
   "source": [
    "### 【解説】"
   ]
  },
  {
   "cell_type": "markdown",
   "id": "3888599f",
   "metadata": {},
   "source": [
    "- 1週間につき1～2章進めるぐらいのペースが無理がなくてよいでしょう。\n",
    "- 章ごとにボリュームもバラバラなので、ざっくりとページ数などで1章分だけ行う日、2章分まとめて行う日などを決めると良いでしょう。\n",
    "- また、可能であれば上記のように進め方をある程度決めておくと良いでしょう。上記は複数人で輪講と演習を行うスタイルで考えてみました。"
   ]
  },
  {
   "cell_type": "markdown",
   "id": "f31c7052",
   "metadata": {},
   "source": [
    "## 1.2 本書を通して身に付けたいことを3つ挙げよう。"
   ]
  },
  {
   "cell_type": "markdown",
   "id": "1f9e891e",
   "metadata": {},
   "source": [
    "### 【解答例】"
   ]
  },
  {
   "cell_type": "markdown",
   "id": "b96a9f7f",
   "metadata": {},
   "source": [
    "- Pythonでデータ分析を行い適切な可視化（グラフ化）ができるスキルを身に付ける\n",
    "- わかりやすいスライドを作成し伝わるプレゼンが出来るスキルを身に付ける\n",
    "- はじめてのドメイン（事業領域）での業務でも、ドメイン知識をすぐに身に付けることが出来るスキルを身に付ける"
   ]
  },
  {
   "cell_type": "markdown",
   "id": "d67edfbf",
   "metadata": {},
   "source": [
    "### 【解説】"
   ]
  },
  {
   "cell_type": "markdown",
   "id": "7a67e0d7",
   "metadata": {},
   "source": [
    "- 何を勉強したいのか目的意識をもって本書を読むと、効率的なスキルアップができるでしょう。\n",
    "- ぼんやり頭の中に思い描くだけでなく、実際に文字にして明文化するとさらに良いでしょう。"
   ]
  },
  {
   "cell_type": "markdown",
   "id": "37f4f62d",
   "metadata": {},
   "source": [
    "## 1.3 もし本書による学習を複数のメンバーで一緒に進めていたら、各自のスキルや得意分野を書き出してみよう。"
   ]
  },
  {
   "cell_type": "markdown",
   "id": "1736317d",
   "metadata": {},
   "source": [
    "### 【解答例】"
   ]
  },
  {
   "cell_type": "markdown",
   "id": "b983afde",
   "metadata": {},
   "source": [
    "- 種子島さん：営業部門。お客さんの意向をヒアリングしてビジネスニーズをまとめるのが得意。\n",
    "- 調布さん：経理部門。数字をまとめて表やグラフにするのが得意。ExcelやPowerPointのスキルが高い。\n",
    "- 筑波さん：事業戦略部門。数字からどのようなことが言えるのか、どんな戦略を立てられるのかを考えるのが得意。\n",
    "- 内之浦さん：データサイエンス部門。PythonやRによるプログラミングが得意。統計検定2級。\n",
    "- 相模原さん：データサイエンス部門。Kaggleコンペに日夜取り組んでおり機械学習のモデル構築が得意。"
   ]
  },
  {
   "cell_type": "markdown",
   "id": "f67d84e5",
   "metadata": {},
   "source": [
    "### 【解説】"
   ]
  },
  {
   "cell_type": "markdown",
   "id": "d0f9222d",
   "metadata": {},
   "source": [
    "- これまでのキャリアや現職の背景などから、どのようなことができるのか具体的に書き出すと良いでしょう。\n",
    "- 自分では当たり前に思っているようなことでも、他の人から見たら類まれな長所だったりするものです。複数人で学習を進める場合には、ぜひお互いに隠れた得意分野を探しあってみましょう。"
   ]
  },
  {
   "cell_type": "markdown",
   "id": "82d54536",
   "metadata": {},
   "source": [
    "## 1.4 メンバーの役割分担を決めよう。1人で取り組む場合は自分の得意な分野と苦手な分野を挙げておこう。"
   ]
  },
  {
   "cell_type": "markdown",
   "id": "c76b2963",
   "metadata": {},
   "source": [
    "### 【解答例】"
   ]
  },
  {
   "cell_type": "markdown",
   "id": "2c94e977",
   "metadata": {},
   "source": [
    "- 種子島さん：鳥居さんのやりたいことを整理してビジネスニーズをまとめる。\n",
    "- 調布さん：ExcelやPowerPointを使って表やグラフを作成する。\n",
    "- 筑波さん：報告資料作成のメイン担当。スライド構成や中身のメッセージを考える。\n",
    "- 内之浦さん：GIデータを統計的に解釈しPythonプログラミングにより分析を行う。\n",
    "- 相模原さん：決定木やロジスティック回帰などの機械学習モデルを構築し精度を向上させる。"
   ]
  },
  {
   "cell_type": "markdown",
   "id": "2152cfbf",
   "metadata": {},
   "source": [
    "### 【解説】"
   ]
  },
  {
   "cell_type": "markdown",
   "id": "bf3bfc61",
   "metadata": {},
   "source": [
    "- 各自の長所を生かして担当を割り振ると生産性が高くなって良いでしょう。\n",
    "- 一方で学びの場ということを考えると、「苦手だけど勉強したい」という分野を各自でフォローアップしあえる体制にするのも良いでしょう。例えば、相模原さんが「苦手だけどビジネスニーズを把握することにもチャレンジしたい」と思っていたら、種子島さんをメイン担当にして、相模原さんがサブ担当になり種子島さんの活動を見ながら勉強するというのも良いでしょう。"
   ]
  }
 ],
 "metadata": {
  "kernelspec": {
   "display_name": "Python 3",
   "language": "python",
   "name": "python3"
  },
  "language_info": {
   "codemirror_mode": {
    "name": "ipython",
    "version": 3
   },
   "file_extension": ".py",
   "mimetype": "text/x-python",
   "name": "python",
   "nbconvert_exporter": "python",
   "pygments_lexer": "ipython3",
   "version": "3.8.8"
  },
  "toc": {
   "base_numbering": 1,
   "nav_menu": {},
   "number_sections": true,
   "sideBar": true,
   "skip_h1_title": false,
   "title_cell": "Table of Contents",
   "title_sidebar": "Contents",
   "toc_cell": false,
   "toc_position": {
    "height": "calc(100% - 180px)",
    "left": "10px",
    "top": "150px",
    "width": "321.825px"
   },
   "toc_section_display": true,
   "toc_window_display": true
  },
  "varInspector": {
   "cols": {
    "lenName": 16,
    "lenType": 16,
    "lenVar": 40
   },
   "kernels_config": {
    "python": {
     "delete_cmd_postfix": "",
     "delete_cmd_prefix": "del ",
     "library": "var_list.py",
     "varRefreshCmd": "print(var_dic_list())"
    },
    "r": {
     "delete_cmd_postfix": ") ",
     "delete_cmd_prefix": "rm(",
     "library": "var_list.r",
     "varRefreshCmd": "cat(var_dic_list()) "
    }
   },
   "types_to_exclude": [
    "module",
    "function",
    "builtin_function_or_method",
    "instance",
    "_Feature"
   ],
   "window_display": false
  }
 },
 "nbformat": 4,
 "nbformat_minor": 5
}
