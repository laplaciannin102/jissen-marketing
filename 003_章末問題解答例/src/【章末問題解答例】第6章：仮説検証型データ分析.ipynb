{
 "cells": [
  {
   "cell_type": "markdown",
   "id": "d1a8f423",
   "metadata": {},
   "source": [
    "# 第6章：仮説検証型データ分析"
   ]
  },
  {
   "cell_type": "markdown",
   "id": "877295c2",
   "metadata": {},
   "source": [
    "## 6.1 売場に立ち寄っただけのショッパーと、商品を購入したショッパーでは、なにが違うだろうか？商品を購入したショッパーにはなにか特徴があるだろうか？"
   ]
  },
  {
   "cell_type": "markdown",
   "id": "dd86184d",
   "metadata": {},
   "source": [
    "### 【解答例】"
   ]
  },
  {
   "cell_type": "markdown",
   "id": "dd36b2fb",
   "metadata": {},
   "source": [
    "まずは以下の通り仮説を立てた。\n",
    "\n",
    "- 仮説1:売場に立ち寄っただけのショッパー（以降「立寄者」）はエリア立寄回数が少ないが、商品を購入したショッパー（以降「購入者」）はエリア立寄回数が多い\n",
    "- 仮説2:立寄者はフレーム滞在時間が短いが、購入者はフレーム滞在時間が長い\n",
    "- 仮説3:立寄者は商品接触回数が多いが、購入者は商品接触回数が少ない\n",
    "\n",
    "この3つの仮説をデータから検証してみよう。"
   ]
  },
  {
   "cell_type": "markdown",
   "id": "01a485fe",
   "metadata": {},
   "source": [
    "- 初期処理"
   ]
  },
  {
   "cell_type": "code",
   "execution_count": null,
   "id": "69a3a4cf",
   "metadata": {},
   "outputs": [],
   "source": [
    "import numpy as np\n",
    "import pandas as pd\n",
    "import matplotlib.pyplot as plt\n",
    "%matplotlib inline\n",
    "\n",
    "df1 = pd.read_csv(\"../input/gi_train_mm10.csv\") # 10月のデータ\n",
    "df2 = pd.read_csv(\"../input/gi_train_mm11.csv\") # 11月のデータ\n",
    "\n",
    "df_tmp = pd.concat([df1, df2])\n",
    "df = df_tmp[df_tmp[\"customer_id\"].notna()].copy()"
   ]
  },
  {
   "cell_type": "markdown",
   "id": "59a9bc44",
   "metadata": {},
   "source": [
    "- 立寄者：売場に立寄ったが商品は購入していないショッパー\n",
    "- 購入者：売場に立寄り、商品を購入したショッパー"
   ]
  },
  {
   "cell_type": "code",
   "execution_count": null,
   "id": "cde37f22",
   "metadata": {},
   "outputs": [],
   "source": [
    "buy_customer = set(df[df[\"buy_flag\"]==1][\"customer_id\"].unique())\n",
    "tachiyori_customer = set(df[\"customer_id\"].unique()) - buy_customer\n",
    "\n",
    "buy_customer_df = df[df[\"customer_id\"].isin(buy_customer)]\n",
    "tachiyori_customer_df = df[df[\"customer_id\"].isin(tachiyori_customer)]"
   ]
  },
  {
   "cell_type": "markdown",
   "id": "9f1d6d65",
   "metadata": {},
   "source": [
    "#### 仮説1"
   ]
  },
  {
   "cell_type": "markdown",
   "id": "f9497bd5",
   "metadata": {},
   "source": [
    "- エリア立寄数のカウント方法\n",
    "  - 一人のショッパーがあるエリアに入って、出て、入って、出てをした場合、エリア立寄数のカウントは「2」とする\n",
    "  - 仮に、同じエリアの複数回の出入をしたとしてもエリア立寄数のカウントを「1」にするには下記スクリプトの「count()」を「nunique()」に変更する"
   ]
  },
  {
   "cell_type": "code",
   "execution_count": null,
   "id": "eee8967b",
   "metadata": {},
   "outputs": [],
   "source": [
    "# 立寄者\n",
    "print(\"立寄者一人あたりのエリア立寄数の平均\",tachiyori_customer_df.groupby(\"customer_id\")[\"area_id\"].count().mean())\n",
    "\n",
    "# 購入者\n",
    "print(\"購入者一人あたりのエリア立寄数の平均\",buy_customer_df.groupby(\"customer_id\")[\"area_id\"].count().mean())"
   ]
  },
  {
   "cell_type": "markdown",
   "id": "08c38c55",
   "metadata": {},
   "source": [
    "以上から、立寄者よりも購入者の方がエリア立寄回数が多く、仮説は正しいことが分かった。"
   ]
  },
  {
   "cell_type": "markdown",
   "id": "eeabf18c",
   "metadata": {},
   "source": [
    "#### 仮説2"
   ]
  },
  {
   "cell_type": "code",
   "execution_count": null,
   "id": "816c745d",
   "metadata": {},
   "outputs": [],
   "source": [
    "# 立寄者\n",
    "print(\"立寄者一人あたりのフレーム滞在時間の平均\",tachiyori_customer_df[tachiyori_customer_df[\"event_type\"]==1][\"time_duration\"].mean())\n",
    "\n",
    "# 購入者\n",
    "print(\"購入者一人あたりのフレーム滞在時間の平均\",buy_customer_df[buy_customer_df[\"event_type\"]==1][\"time_duration\"].mean())"
   ]
  },
  {
   "cell_type": "markdown",
   "id": "a0da552f",
   "metadata": {},
   "source": [
    "以上から、立寄者よりも購入者の方がフレーム滞在時間が長く、仮説は正しいことが分かった。"
   ]
  },
  {
   "cell_type": "markdown",
   "id": "3460e6f8",
   "metadata": {},
   "source": [
    "#### 仮説3"
   ]
  },
  {
   "cell_type": "code",
   "execution_count": null,
   "id": "eb2894ad",
   "metadata": {},
   "outputs": [],
   "source": [
    "# 立寄者\n",
    "print(\"立寄者一人あたりの商品接触回数の平均\",tachiyori_customer_df.groupby(\"customer_id\")[\"num_touch\"].sum().mean())\n",
    "\n",
    "# 購入者\n",
    "print(\"購入者一人あたりの商品接触回数の平均\",buy_customer_df.groupby(\"customer_id\")[\"num_touch\"].sum().mean())"
   ]
  },
  {
   "cell_type": "markdown",
   "id": "da77ddbf",
   "metadata": {},
   "source": [
    "以上から、立寄者よりも購入者のほうが商品接触回数が多く、仮説は誤りであることが分かった。"
   ]
  },
  {
   "cell_type": "markdown",
   "id": "0159cd00",
   "metadata": {},
   "source": [
    "### 【解説】"
   ]
  },
  {
   "cell_type": "markdown",
   "id": "5b95eaaf",
   "metadata": {},
   "source": [
    "- 書籍本編でも行ったように、まずは日本語で仮説を立ててみましょう。その際、お題通り「売場に立ち寄っただけのショッパーは○○、商品を購入したショッパーは××」というように対比して書き出して見ると、データ分析にも繋げやすいでしょう。\n",
    "- 仮説3のように、実際にデータを分析してみたら仮説と異なる結果が出てくることも多くあります。このように、直感とは異なる事実を見つけることが出来るのも仮説検証型データ分析の醍醐味です。"
   ]
  },
  {
   "cell_type": "markdown",
   "id": "b26f86b8",
   "metadata": {},
   "source": [
    "## 6.2 最も併接触される商品の組み合わせはなんだろうか？"
   ]
  },
  {
   "cell_type": "markdown",
   "id": "3ba881bd",
   "metadata": {},
   "source": [
    "### 【解答例】"
   ]
  },
  {
   "cell_type": "markdown",
   "id": "be9a5360",
   "metadata": {},
   "source": [
    "- ここではまず、どのような導出の仕方をしたら良いかを日本語で書いてみよう\n",
    "\n",
    "- まずは「最も併接触される商品の組み合わせ」といった時に、いくつの商品の組み合わせを考えるのかで考え方が変わってくる。ここでは簡便化のために「2商品の組み合わせ」を考えてみよう。つまり「最も併接触される商品の組み合わせは『商品Aと商品Bの組み合わせ』である」というのが答え方になる。\n",
    "- そこで、2つの商品組み合わせを作るスクリプトを書いてみよう。\n",
    "  - 商品A、商品B\n",
    "  - 商品A、商品C\n",
    "  - ・\n",
    "  - ・\n",
    "  - ・\n",
    "  - 商品Y、商品Z\n",
    "- 次にそれぞれの組み合わせ商品を両方接触している人を特定しよう\n",
    "  - 商品Aに接触している人は・・・\n",
    "  - 商品Bに接触している人は・・・\n",
    "  - 商品Aと商品Bの両方に接触している人は・・・\n",
    "- 上記を1つのDataFrameにまとめてみよう"
   ]
  },
  {
   "cell_type": "code",
   "execution_count": null,
   "id": "79c75be7",
   "metadata": {},
   "outputs": [],
   "source": [
    "import itertools"
   ]
  },
  {
   "cell_type": "code",
   "execution_count": null,
   "id": "1a6a9edf",
   "metadata": {},
   "outputs": [],
   "source": [
    "# 商品の組み合わせDataFrameを作成\n",
    "combis = list(itertools.combinations(df[\"product_name\"].unique(), 2))\n",
    "base_df = pd.DataFrame(combis, columns=[\"商品_A\",\"商品_B\"])\n",
    "# 欠損値が含むレコードを削除する\n",
    "base_df.dropna(how=\"any\",inplace=True)\n",
    "base_df.head()"
   ]
  },
  {
   "cell_type": "code",
   "execution_count": null,
   "id": "e114c28c",
   "metadata": {},
   "outputs": [],
   "source": [
    "# データフレームを1行ずつ取り出し、商品_Aと商品_Bの両方に接触した人を特定する\n",
    "for index, data in base_df.iterrows():\n",
    "    # 商品_Aに接触したショッパー\n",
    "    customer_A = set(df[(df[\"product_name\"]==data[\"商品_A\"]) & (df[\"num_touch\"]==1)][\"customer_id\"].unique())\n",
    "    # 商品_Bに接触したショッパー\n",
    "    customer_B = set(df[(df[\"product_name\"]==data[\"商品_B\"]) & (df[\"num_touch\"]==1)][\"customer_id\"].unique())\n",
    "    # 商品_Aと商品_Bの両方に接触したショッパー\n",
    "    customer_A_B = customer_A & customer_B\n",
    "    # データフレームに併接触人数を追加する\n",
    "    base_df.loc[index,\"併接触人数\"] = len(customer_A_B)\n",
    "    \n",
    "# 併接触人数が多い順に並び替え\n",
    "base_df.sort_values(\"併接触人数\",ascending=False,inplace=True)\n",
    "\n",
    "base_df.head()"
   ]
  },
  {
   "cell_type": "markdown",
   "id": "746f0271",
   "metadata": {},
   "source": [
    "以上から、「アフタヌーンレモンティー500ml」と「ほっと一息500ml」の組み合わせが、最も併接触される（16人）商品の組み合わせであるといえる。"
   ]
  },
  {
   "cell_type": "markdown",
   "id": "3cd9b40f",
   "metadata": {},
   "source": [
    "### 【解説】"
   ]
  },
  {
   "cell_type": "markdown",
   "id": "7c214f51",
   "metadata": {},
   "source": [
    "- このように、少し複雑なプログラムになりそうな場合は、まずは日本語でその仕様を書き出してみると良いでしょう。\n",
    "- また「1人の人が同一商品を複数回接触した際にどのようにカウントするか」のような疑問が出てきた場合は、解答例のように具体的な事例を挙げて考えてみると分かりやすいでしょう。"
   ]
  },
  {
   "cell_type": "markdown",
   "id": "d7e04732",
   "metadata": {},
   "source": [
    "## 6.3 時間帯別に立寄者の性別や年代は異なるだろうか？また、その結果と時間帯別の接触商品にはなにか関係性はありそうだろうか？"
   ]
  },
  {
   "cell_type": "markdown",
   "id": "93da7fcb",
   "metadata": {},
   "source": [
    "### 【解答例】"
   ]
  },
  {
   "cell_type": "markdown",
   "id": "002a0bf0",
   "metadata": {},
   "source": [
    "- まずは「時間帯別に立寄者の性別や年代は異なるだろうか？」について考えてみよう。この問題を以下のふたつの問題にさらに分解してデータ分析で解答をだしてみよう。\n",
    "    - 時間帯ごとに「最も多い立寄者の性別」を導出する\n",
    "    - 時間帯ごとに「最も多い立寄者の年代」を導出する\n",
    "- この2つはそれぞれ表として出せそうで、それを組み合わせると1つの表になりそうだ。このプログラムを作成してみると、以下のようになるだろう。"
   ]
  },
  {
   "cell_type": "code",
   "execution_count": null,
   "id": "f21feef1",
   "metadata": {},
   "outputs": [],
   "source": [
    "# 時間のカラムを作成するために、まずはin_timeをobject -> datetime型に変更する\n",
    "df[\"in_time\"] = pd.to_datetime(df[\"in_time\"])\n",
    "# 時間カラムを追加する\n",
    "df[\"時間\"] = df[\"in_time\"].dt.hour"
   ]
  },
  {
   "cell_type": "markdown",
   "id": "43d76d16",
   "metadata": {},
   "source": [
    "- 時間帯ごとに「最も多い立寄者の性別」を導出する"
   ]
  },
  {
   "cell_type": "code",
   "execution_count": null,
   "id": "2ce42255",
   "metadata": {},
   "outputs": [],
   "source": [
    "# ピポットテーブルを作成する\n",
    "gender_df = df[df[\"event_type\"]==1].pivot_table(index=\"時間\",columns=\"gender\",values=\"customer_id\",aggfunc=len)\n",
    "\n",
    "# データフレームを1行ずつ取り出し、man/womanの多い方を判定カラムに追加する\n",
    "for index, data in gender_df.iterrows():\n",
    "    gender_df.loc[index,\"判定(性別)\"] = data.idxmax()\n",
    "\n",
    "gender_df"
   ]
  },
  {
   "cell_type": "markdown",
   "id": "988292bb",
   "metadata": {},
   "source": [
    "- 時間帯ごとに「最も多い立寄者の年代」を導出する"
   ]
  },
  {
   "cell_type": "code",
   "execution_count": null,
   "id": "d18bed61",
   "metadata": {},
   "outputs": [],
   "source": [
    "age_df = df[df[\"event_type\"]==1].pivot_table(index=\"時間\",columns=\"age\",values=\"customer_id\",aggfunc=len)\n",
    "\n",
    "# データフレームを1行ずつ取り出し、年代の多い方を判定カラムに追加する\n",
    "for index, data in age_df.iterrows():\n",
    "    age_df.loc[index,\"判定(年代)\"] = data.idxmax()\n",
    "\n",
    "age_df"
   ]
  },
  {
   "cell_type": "markdown",
   "id": "c18688f4",
   "metadata": {},
   "source": [
    "- 2つのDataFrameを連結する（判定列のみ）"
   ]
  },
  {
   "cell_type": "code",
   "execution_count": null,
   "id": "e0343a7e",
   "metadata": {},
   "outputs": [],
   "source": [
    "gender_age_df = pd.concat([gender_df[[\"判定(性別)\"]],age_df[[\"判定(年代)\"]]],axis=1)\n",
    "gender_age_df"
   ]
  },
  {
   "cell_type": "markdown",
   "id": "dba5668d",
   "metadata": {},
   "source": [
    "- このプログラムの結果から「時間帯別に立寄者の性別や年代は異なる」ということがいえそうだ。\n",
    "- 朝（8時台）や夜（19時台以降）は男性の方が多く、昼間の時間帯は女性の方が多いということも興味深い。\n",
    "- では次に「その結果と時間帯別の接触商品にはなにか関係性はありそうだろうか？」について考えてみよう。先ほど作成した一覧表の一番右側の列に「その時間帯に最も接触された商品」の列を追加してみよう。"
   ]
  },
  {
   "cell_type": "code",
   "execution_count": null,
   "id": "7e92cf40",
   "metadata": {},
   "outputs": [],
   "source": [
    "for index, data in gender_age_df.iterrows():\n",
    "    # 各時間毎の最も接触された商品\n",
    "    most_touch_product = df[(df[\"時間\"]==index) & (df[\"num_touch\"]==1)][\"product_name\"].value_counts().index[0]\n",
    "    # 先ほどのデータフレームに追加する\n",
    "    gender_age_df.loc[index,\"最も接触された商品\"] = most_touch_product\n",
    "\n",
    "gender_age_df"
   ]
  },
  {
   "cell_type": "markdown",
   "id": "c1a227b6",
   "metadata": {},
   "source": [
    "- この結果から以下のようなことがいえそうだ。\n",
    "    - 時間帯別に立寄者の最も多い性別や年代は異なる\n",
    "    - 時間帯別に最も多く接触された商品も異なる\n",
    "- 一方で、時間帯と性別と年代と最も多く接触された商品に相関があるのか、ということは、ここからはまだなんともいえない。「最も多く接触された商品」というようなデータは数値データではないため、相関係数を算出するのもできそうもない。\n",
    "- ただし、「最も接触された商品」として最も商品名が挙がった「トラディショナル緑茶525ml」について、時間帯と性別と年代の関係を捉えることはできそうだ。\n",
    "- 時間帯と性別・年代のピポットテーブルを作成し、それぞれの関係性をみていく。"
   ]
  },
  {
   "cell_type": "code",
   "execution_count": null,
   "id": "5d21dc4c",
   "metadata": {},
   "outputs": [],
   "source": [
    "import seaborn as sns\n",
    "import japanize_matplotlib"
   ]
  },
  {
   "cell_type": "code",
   "execution_count": null,
   "id": "35dac588",
   "metadata": {},
   "outputs": [],
   "source": [
    "# トラディショナル緑茶525mlに接触した人の、性別×年代別の集計\n",
    "tmp = df[(df[\"product_name\"]==\"トラディショナル緑茶525ml\") & (df[\"num_touch\"]==1)].pivot_table(index=\"時間\",columns=[\"age\",\"gender\"],values=\"customer_id\",aggfunc=len).fillna(0)\n",
    "sns.heatmap(tmp,annot=True,cmap=\"Blues\")"
   ]
  },
  {
   "cell_type": "markdown",
   "id": "f67d2fe6",
   "metadata": {},
   "source": [
    "- 上記をみると、「トラディショナル緑茶525ml」は15時以降の30代・40代の男女ともに接触が多いことがわかる。\n",
    "- 時間帯と性別と年代と商品接触回数の関係性がみえてきた。\n",
    "- 他の商品にも同じような傾向があるか確認する必要がありそうだ。ぜひ試してみよう。"
   ]
  },
  {
   "cell_type": "markdown",
   "id": "eb705b29",
   "metadata": {},
   "source": [
    "### 【解説】"
   ]
  },
  {
   "cell_type": "markdown",
   "id": "f7082a7c",
   "metadata": {},
   "source": [
    "- 最後の問いかけのように「関係性を出したい」という場合に相関係数以外にどのような解答の出し方があるのか、そのやり方を考えてみると良いでしょう。今回は「トラディショナル緑茶525ml」に着目して、その商品が最も手に取られる時間帯と性別・年代の組み合わせについて、マトリクスにしてヒートマップ形式で表示するという方法をとりましたが、もちろん他にも傾向を掴む方法あるでしょう。\n",
    "- なお、今回はseabornという可視化ライブラリを使用してヒートマップのような形にしてみました。こうすると、特定の性別・年代・時間帯にその商品の接触回数が多い・少ないといったことが一目で分かります。このような可視化手法を色々知っておくとより精緻にデータと向き合うことができます。"
   ]
  }
 ],
 "metadata": {
  "kernelspec": {
   "display_name": "Python 3 (ipykernel)",
   "language": "python",
   "name": "python3"
  },
  "language_info": {
   "codemirror_mode": {
    "name": "ipython",
    "version": 3
   },
   "file_extension": ".py",
   "mimetype": "text/x-python",
   "name": "python",
   "nbconvert_exporter": "python",
   "pygments_lexer": "ipython3",
   "version": "3.8.8"
  },
  "toc": {
   "base_numbering": 1,
   "nav_menu": {},
   "number_sections": true,
   "sideBar": true,
   "skip_h1_title": false,
   "title_cell": "Table of Contents",
   "title_sidebar": "Contents",
   "toc_cell": false,
   "toc_position": {
    "height": "calc(100% - 180px)",
    "left": "10px",
    "top": "150px",
    "width": "321.825px"
   },
   "toc_section_display": true,
   "toc_window_display": true
  },
  "varInspector": {
   "cols": {
    "lenName": 16,
    "lenType": 16,
    "lenVar": 40
   },
   "kernels_config": {
    "python": {
     "delete_cmd_postfix": "",
     "delete_cmd_prefix": "del ",
     "library": "var_list.py",
     "varRefreshCmd": "print(var_dic_list())"
    },
    "r": {
     "delete_cmd_postfix": ") ",
     "delete_cmd_prefix": "rm(",
     "library": "var_list.r",
     "varRefreshCmd": "cat(var_dic_list()) "
    }
   },
   "types_to_exclude": [
    "module",
    "function",
    "builtin_function_or_method",
    "instance",
    "_Feature"
   ],
   "window_display": false
  }
 },
 "nbformat": 4,
 "nbformat_minor": 5
}
