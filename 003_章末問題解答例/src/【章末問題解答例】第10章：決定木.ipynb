{
 "cells": [
  {
   "cell_type": "markdown",
   "id": "198591e6",
   "metadata": {},
   "source": [
    "# 第10章：決定木"
   ]
  },
  {
   "cell_type": "markdown",
   "id": "2cd454a6",
   "metadata": {},
   "source": [
    "## 10.1 決定木のハイパーパラメータを変更してAUCを向上できないか試してみよう。"
   ]
  },
  {
   "cell_type": "markdown",
   "id": "98557072",
   "metadata": {},
   "source": [
    "### 【解答例】"
   ]
  },
  {
   "cell_type": "markdown",
   "id": "e0f08474",
   "metadata": {},
   "source": [
    "- 途中までは書籍本文と同様の処理を実行する。"
   ]
  },
  {
   "cell_type": "code",
   "execution_count": null,
   "id": "81f662ba",
   "metadata": {},
   "outputs": [],
   "source": [
    "import numpy as np\n",
    "import pandas as pd\n",
    "import matplotlib.pyplot as plt\n",
    "import joblib\n",
    "from sklearn.model_selection import train_test_split # ホールドアウト用モジュール\n",
    "from sklearn.tree import DecisionTreeClassifier as dtc # 決定木用モジュール\n",
    "from sklearn.tree import plot_tree # 決定木の可視化モジュール\n",
    "from sklearn.metrics import accuracy_score, roc_auc_score # 評価指標用モジュール"
   ]
  },
  {
   "cell_type": "code",
   "execution_count": null,
   "id": "675cbbbe",
   "metadata": {},
   "outputs": [],
   "source": [
    "# 前処理済み中間データのdictを読み取る\n",
    "pp_data_dict = joblib.load(\"../intermediate/pp_data_dict.pkl3\")\n",
    "\n",
    "# 辞書型変数の値に格納された決定木向け中間データを読み取る\n",
    "dtc_train_df = pp_data_dict[\"dtc\"][\"train\"]\n",
    "dtc_test_df = pp_data_dict[\"dtc\"][\"test\"]"
   ]
  },
  {
   "cell_type": "code",
   "execution_count": null,
   "id": "2f5a7b7a",
   "metadata": {},
   "outputs": [],
   "source": [
    "# 6:4の割合でホールドアウト法を行う.\n",
    "dtc_train_train_df, dtc_train_valid_df = train_test_split(dtc_train_df, test_size=0.4, random_state=57, shuffle=True)"
   ]
  },
  {
   "cell_type": "code",
   "execution_count": null,
   "id": "d07a3717",
   "metadata": {},
   "outputs": [],
   "source": [
    "dtc_train_df.shape, dtc_train_train_df.shape, dtc_train_valid_df.shape, dtc_test_df.shape"
   ]
  },
  {
   "cell_type": "code",
   "execution_count": null,
   "id": "a7f49bef",
   "metadata": {},
   "outputs": [],
   "source": [
    "# 目的変数をtargetという変数に格納する\n",
    "target = \"buy_flag\"\n",
    "\n",
    "# 説明変数をfeaturesという変数に格納する\n",
    "dtc_features = dtc_train_df.columns.tolist()\n",
    "\n",
    "# customer_idとbuy_flagは説明変数ではない為削除する\n",
    "dtc_features.remove(\"customer_id\")\n",
    "dtc_features.remove(\"buy_flag\")"
   ]
  },
  {
   "cell_type": "markdown",
   "id": "95beed1c",
   "metadata": {},
   "source": [
    "- ここから章末問題独自のプログラムになる\n",
    "- グリッドサーチを行うハイパーパラメータとして、書籍本編では「最大の木の深さ」（max_depth）と「ランダムの種」（random_state=固定値で変化なし）を扱ったが、章末問題では以下の2つを変化させてみよう。\n",
    "    - 分割に必要な各ノードの最小のサンプルサイズ（min_samples_split）：2～5の範囲\n",
    "    - 各ノードに必要な最小のサンプルサイズ（min_samples_leaf）：1～5の範囲"
   ]
  },
  {
   "cell_type": "code",
   "execution_count": null,
   "id": "8e00b41b",
   "metadata": {},
   "outputs": [],
   "source": [
    "# ハイパーパラメータチューニング\n",
    "# グリッドサーチ\n",
    "# 探索するハイパーパラメータの候補をリストに格納する.\n",
    "dtc_params_list = [{\"min_samples_split\": i, \"min_samples_leaf\": j} for i in np.arange(2, 6, 1) for j in np.arange(1, 6, 1)]\n",
    "dtc_params_list"
   ]
  },
  {
   "cell_type": "code",
   "execution_count": null,
   "id": "a59dd4cd",
   "metadata": {},
   "outputs": [],
   "source": [
    "# グリッドサーチの結果を格納するリスト\n",
    "gs_result_list = []\n",
    "\n",
    "# グリッドサーチの実施\n",
    "for params_dict in dtc_params_list:\n",
    "    # 定義する\n",
    "    tmp_dtc_clf = dtc(**params_dict)\n",
    "    # 学習する\n",
    "    tmp_dtc_clf.fit(dtc_train_train_df[dtc_features], dtc_train_train_df[target])\n",
    "    \n",
    "    # train-trainを予測する（predict関数）\n",
    "    train_pred_y = tmp_dtc_clf.predict(dtc_train_train_df[dtc_features])\n",
    "    \n",
    "    # train-trainを予測する（predict_proba関数）\n",
    "    train_proba_y = tmp_dtc_clf.predict_proba(dtc_train_train_df[dtc_features]).T[1]\n",
    "    \n",
    "    # train-validを予測する（predict関数）\n",
    "    valid_pred_y = tmp_dtc_clf.predict(dtc_train_valid_df[dtc_features])\n",
    "    \n",
    "    # train-validを予測する（predict_proba関数）\n",
    "    valid_proba_y = tmp_dtc_clf.predict_proba(dtc_train_valid_df[dtc_features]).T[1]\n",
    "    \n",
    "    # train-trainを検証する\n",
    "    train_accuracy_val = accuracy_score(dtc_train_train_df[target], train_pred_y)\n",
    "    train_auc_val = roc_auc_score(dtc_train_train_df[target], train_proba_y)\n",
    "    \n",
    "    # train-validを検証する\n",
    "    valid_accuracy_val = accuracy_score(dtc_train_valid_df[target], valid_pred_y)\n",
    "    valid_auc_val = roc_auc_score(dtc_train_valid_df[target], valid_proba_y)\n",
    "    \n",
    "    # リストに格納する\n",
    "    gs_result_list += [[params_dict, train_accuracy_val, train_auc_val, valid_accuracy_val, valid_auc_val]]"
   ]
  },
  {
   "cell_type": "code",
   "execution_count": null,
   "id": "3563d8f3",
   "metadata": {},
   "outputs": [],
   "source": [
    "# 結果をDataFrameに格納する\n",
    "gs_result_df = pd.DataFrame(gs_result_list, columns=[\"params_dict\", \"train_accuracy\", \"train_auc\", \"valid_accuracy\", \"valid_auc\"])\n",
    "\n",
    "# 結果を確認する\n",
    "gs_result_df[[\"params_dict\", \"train_accuracy\", \"train_auc\", \"valid_accuracy\", \"valid_auc\"]].sort_values(by=\"valid_auc\", ascending=False).reset_index(drop=True)"
   ]
  },
  {
   "cell_type": "markdown",
   "id": "7a0ccb3c",
   "metadata": {},
   "source": [
    "- 以上から、min_samples_splitは2、min_samples_leafは5の時が、最もvalid_aucが高い（0.573177）ということが分かった。"
   ]
  },
  {
   "cell_type": "markdown",
   "id": "cdcdeaa8",
   "metadata": {},
   "source": [
    "### 【解説】"
   ]
  },
  {
   "cell_type": "markdown",
   "id": "fff86522",
   "metadata": {},
   "source": [
    "- 書籍本文ではrandom_stateを57で固定値としたためforループが1つで良かったのですが、今回はmin_samples_splitとmin_samples_leafを両方とも変動させたため、forループが2つになったことに注意しましょう。\n",
    "- その他はほぼ書籍本編と同様の処理を行っています。\n",
    "- max_depthも入れて3つのハイパーパラメータを動かした際にどの組み合わせが最も精度が高いかを検証してみても良いでしょう。"
   ]
  },
  {
   "cell_type": "markdown",
   "id": "a856b515",
   "metadata": {},
   "source": [
    "## 10.2 第8章の章末問題で自作した特徴量を使って決定木モデルを作って精度を検証してみよう。"
   ]
  },
  {
   "cell_type": "markdown",
   "id": "39781ab6",
   "metadata": {},
   "source": [
    "### 【解答例】"
   ]
  },
  {
   "cell_type": "markdown",
   "id": "48428cc0",
   "metadata": {},
   "source": [
    "- 第8章の章末問題で作成した中間データ（pickleファイル）を使用する"
   ]
  },
  {
   "cell_type": "code",
   "execution_count": null,
   "id": "aa62ace0",
   "metadata": {},
   "outputs": [],
   "source": [
    "# 前処理済み中間データのdictを読み取る\n",
    "shomatsu_pp_data_dict = joblib.load(\"../intermediate/shomatsu_pp_data_dict.pkl3\")\n",
    "\n",
    "# 辞書型変数の値に格納された決定木向け中間データを読み取る\n",
    "shomatsu_dtc_train_df = shomatsu_pp_data_dict[\"dtc\"][\"train\"]\n",
    "shomatsu_dtc_test_df = shomatsu_pp_data_dict[\"dtc\"][\"test\"]\n",
    "\n",
    "# 6:4の割合でホールドアウト法を行う.\n",
    "shomatsu_dtc_train_train_df, shomatsu_dtc_train_valid_df = train_test_split(\n",
    "    shomatsu_dtc_train_df,\n",
    "    test_size=0.4,\n",
    "    random_state=57,\n",
    "    shuffle=True\n",
    ")"
   ]
  },
  {
   "cell_type": "code",
   "execution_count": null,
   "id": "208e8ef8",
   "metadata": {},
   "outputs": [],
   "source": [
    "shomatsu_dtc_train_df.shape, shomatsu_dtc_train_train_df.shape, shomatsu_dtc_train_valid_df.shape, shomatsu_dtc_test_df.shape"
   ]
  },
  {
   "cell_type": "code",
   "execution_count": null,
   "id": "3915ae0b",
   "metadata": {},
   "outputs": [],
   "source": [
    "# 目的変数をtargetという変数に格納する\n",
    "target = \"buy_flag\"\n",
    "\n",
    "# 説明変数をfeaturesという変数に格納する\n",
    "shomatsu_dtc_features = shomatsu_dtc_train_df.columns.tolist()\n",
    "\n",
    "# customer_idとbuy_flagは説明変数ではない為削除する\n",
    "shomatsu_dtc_features.remove(\"customer_id\")\n",
    "shomatsu_dtc_features.remove(\"buy_flag\")"
   ]
  },
  {
   "cell_type": "code",
   "execution_count": null,
   "id": "f911a235",
   "metadata": {},
   "outputs": [],
   "source": [
    "# ハイパーパラメータチューニング\n",
    "# グリッドサーチ\n",
    "# 探索するハイパーパラメータの候補をリストに格納する.\n",
    "shomatsu_dtc_params_list = [{\"max_depth\": ii, \"random_state\": 57} for ii in np.arange(2, 12, 1)]\n",
    "\n",
    "# グリッドサーチの結果を格納するリスト．\n",
    "shomatsu_gs_result_list = []\n",
    "\n",
    "# グリッドサーチの実施\n",
    "for params_dict in shomatsu_dtc_params_list:\n",
    "    # 定義する\n",
    "    tmp_shomatsu_dtc_clf = dtc(**params_dict)\n",
    "    # 学習する\n",
    "    tmp_shomatsu_dtc_clf.fit(shomatsu_dtc_train_train_df[shomatsu_dtc_features], shomatsu_dtc_train_train_df[target])\n",
    "    \n",
    "    # train-trainの予測する（predict関数）\n",
    "    shomatsu_train_pred_y = tmp_shomatsu_dtc_clf.predict(shomatsu_dtc_train_train_df[shomatsu_dtc_features])\n",
    "    \n",
    "    # train-trainの予測する（predict_proba関数）\n",
    "    shomatsu_train_proba_y = tmp_shomatsu_dtc_clf.predict_proba(shomatsu_dtc_train_train_df[shomatsu_dtc_features]).T[1]\n",
    "    \n",
    "    # train-validの予測する（predict関数）\n",
    "    shomatsu_valid_pred_y = tmp_shomatsu_dtc_clf.predict(shomatsu_dtc_train_valid_df[shomatsu_dtc_features])\n",
    "    \n",
    "    # train-validの予測する（predict_proba関数）\n",
    "    shomatsu_valid_proba_y = tmp_shomatsu_dtc_clf.predict_proba(shomatsu_dtc_train_valid_df[shomatsu_dtc_features]).T[1]\n",
    "    \n",
    "    # train-trainの検証する\n",
    "    shomatsu_train_accuracy_val = accuracy_score(shomatsu_dtc_train_train_df[target], shomatsu_train_pred_y)\n",
    "    shomatsu_train_auc_val = roc_auc_score(shomatsu_dtc_train_train_df[target], shomatsu_train_proba_y)\n",
    "    \n",
    "    # train-validの検証する\n",
    "    shomatsu_valid_accuracy_val = accuracy_score(shomatsu_dtc_train_valid_df[target], shomatsu_valid_pred_y)\n",
    "    shomatsu_valid_auc_val = roc_auc_score(shomatsu_dtc_train_valid_df[target], shomatsu_valid_proba_y)\n",
    "    \n",
    "    # リストに格納する\n",
    "    shomatsu_gs_result_list += [[\n",
    "        params_dict,\n",
    "        params_dict[\"max_depth\"],\n",
    "        shomatsu_train_accuracy_val,\n",
    "        shomatsu_train_auc_val,\n",
    "        shomatsu_valid_accuracy_val,\n",
    "        shomatsu_valid_auc_val\n",
    "    ]]"
   ]
  },
  {
   "cell_type": "code",
   "execution_count": null,
   "id": "22d5a4cd",
   "metadata": {},
   "outputs": [],
   "source": [
    "# 結果をDataFrameに格納する\n",
    "shomatsu_gs_result_df = pd.DataFrame(\n",
    "    shomatsu_gs_result_list,\n",
    "    columns=[\"params_dict\", \"max_depth\", \"train_accuracy\", \"train_auc\", \"valid_accuracy\", \"valid_auc\"]\n",
    ")\n",
    "\n",
    "# 結果を確認する\n",
    "shomatsu_gs_result_df.sort_values(by=\"valid_auc\", ascending=False).reset_index(drop=True)"
   ]
  },
  {
   "cell_type": "code",
   "execution_count": null,
   "id": "cbb6c64a",
   "metadata": {},
   "outputs": [],
   "source": [
    "# Accuracyの可視化\n",
    "plt.figure(figsize=(6, 5), facecolor=\"white\", dpi=150)\n",
    "plt.plot(shomatsu_gs_result_df[\"max_depth\"], shomatsu_gs_result_df[\"train_accuracy\"], label=\"train_accuracy\") # train accuracy\n",
    "plt.plot(shomatsu_gs_result_df[\"max_depth\"], shomatsu_gs_result_df[\"valid_accuracy\"], label=\"valid_accuracy\") # valid accuracy\n",
    "plt.title(\"Accuracy\\nDTC max_depth tuning\", fontsize=10)\n",
    "plt.xlabel(\"max_depth\", fontsize=10)\n",
    "plt.ylabel(\"Accuracy\", fontsize=10)\n",
    "plt.legend()\n",
    "plt.grid()\n",
    "plt.show()"
   ]
  },
  {
   "cell_type": "code",
   "execution_count": null,
   "id": "99cd7fae",
   "metadata": {},
   "outputs": [],
   "source": [
    "# AUCの可視化\n",
    "plt.figure(figsize=(6, 5), facecolor=\"white\", dpi=150)\n",
    "plt.plot(shomatsu_gs_result_df[\"max_depth\"], shomatsu_gs_result_df[\"train_auc\"], label=\"train_auc\") # train auc\n",
    "plt.plot(shomatsu_gs_result_df[\"max_depth\"], shomatsu_gs_result_df[\"valid_auc\"], label=\"valid_auc\") # valid auc\n",
    "plt.title(\"AUC\\nDTC max_depth tuning\", fontsize=10)\n",
    "plt.xlabel(\"max_depth\", fontsize=10)\n",
    "plt.ylabel(\"AUC\", fontsize=10)\n",
    "plt.legend()\n",
    "plt.grid()\n",
    "plt.show()"
   ]
  },
  {
   "cell_type": "code",
   "execution_count": null,
   "id": "6a1b57a4",
   "metadata": {},
   "outputs": [],
   "source": [
    "# train-validのAUCが最も高いハイパーパラメータの組み合わせを変数に格納する.\n",
    "shomatsu_dtc_best_idx = np.argmax(shomatsu_gs_result_df[\"valid_auc\"])\n",
    "shomatsu_dtc_best_params = shomatsu_gs_result_df[\"params_dict\"].values[shomatsu_dtc_best_idx]\n",
    "shomatsu_dtc_best_score = shomatsu_gs_result_df[\"valid_auc\"].values[shomatsu_dtc_best_idx]\n",
    "\n",
    "# 内容を確認\n",
    "print(\"dtc_best_params:\", shomatsu_dtc_best_params)\n",
    "print(\"dtc_best_score:\", shomatsu_dtc_best_score)\n",
    "\n",
    "# 最適化したハイパーパラメータを使用してモデルを定義する\n",
    "shomatsu_dtc_clf = dtc(**shomatsu_dtc_best_params)\n",
    "\n",
    "# 学習する\n",
    "shomatsu_dtc_clf.fit(shomatsu_dtc_train_df[shomatsu_dtc_features], shomatsu_dtc_train_df[target])\n",
    "\n",
    "# 決定木のインポータンスを確認する.\n",
    "importance_df = pd.DataFrame({\"feature\": shomatsu_dtc_features, \"importance\": shomatsu_dtc_clf.feature_importances_})\n",
    "importance_df = importance_df.sort_values(by=\"importance\", ascending=False).reset_index(drop=True)\n",
    "importance_df.head()"
   ]
  },
  {
   "cell_type": "code",
   "execution_count": null,
   "id": "fbed1f4d",
   "metadata": {},
   "outputs": [],
   "source": [
    "# 決定木の可視化を行う\n",
    "plt.figure(figsize=(20, 10), facecolor=\"white\", dpi=150)\n",
    "plot_tree(shomatsu_dtc_clf, feature_names=shomatsu_dtc_features, class_names=[\"not_buy\", \"buy\"], fontsize=8, filled=True)\n",
    "plt.show()"
   ]
  },
  {
   "cell_type": "code",
   "execution_count": null,
   "id": "2e875393",
   "metadata": {},
   "outputs": [],
   "source": [
    "# trainを予測する\n",
    "shomatsu_train_pred_y = shomatsu_dtc_clf.predict(shomatsu_dtc_train_df[shomatsu_dtc_features])\n",
    "shomatsu_train_proba_y = shomatsu_dtc_clf.predict_proba(shomatsu_dtc_train_df[shomatsu_dtc_features]).T[1]\n",
    "\n",
    "# trainを検証する\n",
    "shomatsu_train_accuracy_val = accuracy_score(shomatsu_dtc_train_df[target], shomatsu_train_pred_y)\n",
    "shomatsu_train_auc_val = roc_auc_score(shomatsu_dtc_train_df[target], shomatsu_train_proba_y)\n",
    "shomatsu_train_accuracy_val, shomatsu_train_auc_val"
   ]
  },
  {
   "cell_type": "code",
   "execution_count": null,
   "id": "b8ea724b",
   "metadata": {},
   "outputs": [],
   "source": [
    "# testを予測する\n",
    "shomatsu_test_pred_y = shomatsu_dtc_clf.predict(shomatsu_dtc_test_df[shomatsu_dtc_features])\n",
    "shomatsu_test_proba_y = shomatsu_dtc_clf.predict_proba(shomatsu_dtc_test_df[shomatsu_dtc_features]).T[1]"
   ]
  },
  {
   "cell_type": "code",
   "execution_count": null,
   "id": "afa7c27a",
   "metadata": {},
   "outputs": [],
   "source": [
    "# sample submitデータを読み込む\n",
    "gi_sample_submit_df = pd.read_csv(\"../input/gi_sample_submit.csv\")"
   ]
  },
  {
   "cell_type": "code",
   "execution_count": null,
   "id": "f7c5c381",
   "metadata": {},
   "outputs": [],
   "source": [
    "# submit向けDataFrameを作成し、列に予測確率を格納する\n",
    "shomatsu_submit_df = shomatsu_dtc_test_df.copy()[[\"customer_id\"]]\n",
    "shomatsu_submit_df[\"buy_proba\"] = shomatsu_test_proba_y\n",
    "shomatsu_submit_df.head()"
   ]
  },
  {
   "cell_type": "code",
   "execution_count": null,
   "id": "9b6d465f",
   "metadata": {},
   "outputs": [],
   "source": [
    "gi_sample_submit_df.shape, shomatsu_submit_df.shape"
   ]
  },
  {
   "cell_type": "code",
   "execution_count": null,
   "id": "050a5129",
   "metadata": {},
   "outputs": [],
   "source": [
    "shomatsu_submit_df = pd.merge(\n",
    "    gi_sample_submit_df.drop(\"buy_proba\", axis=1),\n",
    "    shomatsu_submit_df,\n",
    "    on=\"customer_id\",\n",
    "    how=\"left\"\n",
    ").reset_index(drop=True)\n",
    "shomatsu_submit_df.head()"
   ]
  },
  {
   "cell_type": "code",
   "execution_count": null,
   "id": "0a87ff16",
   "metadata": {},
   "outputs": [],
   "source": [
    "shomatsu_submit_df.shape"
   ]
  },
  {
   "cell_type": "code",
   "execution_count": null,
   "id": "e1f40643",
   "metadata": {},
   "outputs": [],
   "source": [
    "# outputディレクトリにsubmit用ファイルを出力する\n",
    "shomatsu_submit_df.to_csv(f\"../output/shomatsu_submit_dtc.csv\", encoding=\"utf-8\", index=False)"
   ]
  },
  {
   "cell_type": "markdown",
   "id": "e8511fab",
   "metadata": {},
   "source": [
    "### 【解説】"
   ]
  },
  {
   "cell_type": "markdown",
   "id": "80a548dc",
   "metadata": {},
   "source": [
    "- 決定木モデルの構築と精度の検証については、書籍本編で紹介した方法をそのまま使うことができます。\n",
    "- 他の特徴量を追加した場合も、DataFrameの形になってさえすれば、同様に流用可能です。楽できるところは楽をしてなるべく工数を減らし、その分精度向上に役立ちそうな特徴量の作成などに頭と時間を使うと良いでしょう。"
   ]
  }
 ],
 "metadata": {
  "kernelspec": {
   "display_name": "Python 3 (ipykernel)",
   "language": "python",
   "name": "python3"
  },
  "language_info": {
   "codemirror_mode": {
    "name": "ipython",
    "version": 3
   },
   "file_extension": ".py",
   "mimetype": "text/x-python",
   "name": "python",
   "nbconvert_exporter": "python",
   "pygments_lexer": "ipython3",
   "version": "3.8.8"
  },
  "toc": {
   "base_numbering": 1,
   "nav_menu": {},
   "number_sections": true,
   "sideBar": true,
   "skip_h1_title": false,
   "title_cell": "Table of Contents",
   "title_sidebar": "Contents",
   "toc_cell": false,
   "toc_position": {
    "height": "calc(100% - 180px)",
    "left": "10px",
    "top": "150px",
    "width": "321.825px"
   },
   "toc_section_display": true,
   "toc_window_display": true
  },
  "varInspector": {
   "cols": {
    "lenName": 16,
    "lenType": 16,
    "lenVar": 40
   },
   "kernels_config": {
    "python": {
     "delete_cmd_postfix": "",
     "delete_cmd_prefix": "del ",
     "library": "var_list.py",
     "varRefreshCmd": "print(var_dic_list())"
    },
    "r": {
     "delete_cmd_postfix": ") ",
     "delete_cmd_prefix": "rm(",
     "library": "var_list.r",
     "varRefreshCmd": "cat(var_dic_list()) "
    }
   },
   "types_to_exclude": [
    "module",
    "function",
    "builtin_function_or_method",
    "instance",
    "_Feature"
   ],
   "window_display": false
  }
 },
 "nbformat": 4,
 "nbformat_minor": 5
}
