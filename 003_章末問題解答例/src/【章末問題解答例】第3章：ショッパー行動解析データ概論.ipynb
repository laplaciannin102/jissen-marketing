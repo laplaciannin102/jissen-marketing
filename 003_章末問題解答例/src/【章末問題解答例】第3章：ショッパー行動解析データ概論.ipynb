{
 "cells": [
  {
   "cell_type": "markdown",
   "id": "23db9b56",
   "metadata": {},
   "source": [
    "# 第3章：ショッパー行動解析データ概論"
   ]
  },
  {
   "cell_type": "markdown",
   "id": "882f756c",
   "metadata": {},
   "source": [
    "## 3.1 スーパーマーケットの冷蔵の飲料売場において、1日あたりの立寄者、滞在者、接触者、購入者はそれぞれどれくらいだろうか。自らが普段お買い物に訪れている店舗をイメージしながら予想してみよう。"
   ]
  },
  {
   "cell_type": "markdown",
   "id": "e4cba1a7",
   "metadata": {},
   "source": [
    "### 【解答例】"
   ]
  },
  {
   "cell_type": "markdown",
   "id": "90d95d3b",
   "metadata": {},
   "source": [
    "- 立寄者：1800人ぐらい（1分あたり3人ぐらい。1時間で180人、営業10時間で1800人）\n",
    "- 滞在者：1500人ぐらい（だいたい売場にとどまる気がする）\n",
    "- 接触者：1400人ぐらい（だいたいなにかしらの商品は手に取っているような気がする）\n",
    "- 購入者：1300人ぐらい（だいたいないかしらの商品は買っていっているような気がする）"
   ]
  },
  {
   "cell_type": "markdown",
   "id": "1b94e7f4",
   "metadata": {},
   "source": [
    "### 【解説】"
   ]
  },
  {
   "cell_type": "markdown",
   "id": "ca3e6c0e",
   "metadata": {},
   "source": [
    "- 予想する方法はいろいろとありますが、例えばフェルミ推定という方法を使ってみると良いかもしれません。フェルミ推定とは、一見予想もつかないような数字を、既知の事実と論理的思考能力を頼りに概算することです。\n",
    "- たとえば普段お買い物に訪れている店舗で1分間いたら3人ぐらい人がやってきたとします（既知の事実）。また、その店舗の営業時間が10時間だったとします（既知の事実）。そこから単純に計算して（論理的思考）、1日あたり1800人と導出する、といった方法です。\n",
    "- もちろん、観測された通り毎分3人ずつきっちり人が立ち寄るわけではないでしょう。時間帯によっても大きく差があるでしょう。ですが、だいたいの概算を算出することは可能です。\n",
    "- 今回の場合は、滞在者、接触者、購入者も、その立寄者の人数から類推してみました。\n",
    "- このようなプロセスは、ショッパーマーケティングに限らず、他のドメイン（事業領域）におけるデータサイエンスでも仮説を立てる際に有効です。ぜひ試してみてください。"
   ]
  },
  {
   "cell_type": "markdown",
   "id": "ea61ed04",
   "metadata": {},
   "source": [
    "## 3.2 今回使用するGIデータだけで分析が可能なことと不可能なことがありそうだ。それぞれ考えて書き出してみよう。"
   ]
  },
  {
   "cell_type": "markdown",
   "id": "febe74bb",
   "metadata": {},
   "source": [
    "### 【解答例】"
   ]
  },
  {
   "cell_type": "markdown",
   "id": "e1b720e5",
   "metadata": {},
   "source": [
    "- GIデータで可能なこと\n",
    "    - 立寄者、滞在者、接触者、購入者のそれぞれの人数の導出\n",
    "    - 各商品ごとの接触回数（人数）、購入回数（人数）の導出\n",
    "    - それぞれの人の滞在時間の導出\n",
    "    - …など\n",
    "- GIデータで不可能なこと\n",
    "    - それぞれの人の店舗内における動線\n",
    "    - 飲料売場以外の売場で何を購入したのか、どのような合わせ買いが行われているのか\n",
    "    - ショッパー各自のスマートフォンアプリの使用状況\n",
    "    - …など"
   ]
  },
  {
   "cell_type": "markdown",
   "id": "35684e9f",
   "metadata": {},
   "source": [
    "### 【解説】"
   ]
  },
  {
   "cell_type": "markdown",
   "id": "e934fe3d",
   "metadata": {},
   "source": [
    "- データにはそれぞれ得意、不得意があります。課題解決に活用できるデータもあれば、活用できないデータもあるでしょう。まずはそれぞれできること、できないことを書き出してみることが大切です。\n",
    "- GIデータで可能なこと、不可能なことは、他にもいろいろあります。本書を通してさらに考えてみてください。\n",
    "- 逆に「このデータがあったらもっとこういったことができるのに」ということもありそうです。こちらもぜひ考えてみましょう。"
   ]
  }
 ],
 "metadata": {
  "kernelspec": {
   "display_name": "Python 3 (ipykernel)",
   "language": "python",
   "name": "python3"
  },
  "language_info": {
   "codemirror_mode": {
    "name": "ipython",
    "version": 3
   },
   "file_extension": ".py",
   "mimetype": "text/x-python",
   "name": "python",
   "nbconvert_exporter": "python",
   "pygments_lexer": "ipython3",
   "version": "3.8.8"
  },
  "toc": {
   "base_numbering": 1,
   "nav_menu": {},
   "number_sections": true,
   "sideBar": true,
   "skip_h1_title": false,
   "title_cell": "Table of Contents",
   "title_sidebar": "Contents",
   "toc_cell": false,
   "toc_position": {
    "height": "calc(100% - 180px)",
    "left": "10px",
    "top": "150px",
    "width": "321.825px"
   },
   "toc_section_display": true,
   "toc_window_display": true
  },
  "varInspector": {
   "cols": {
    "lenName": 16,
    "lenType": 16,
    "lenVar": 40
   },
   "kernels_config": {
    "python": {
     "delete_cmd_postfix": "",
     "delete_cmd_prefix": "del ",
     "library": "var_list.py",
     "varRefreshCmd": "print(var_dic_list())"
    },
    "r": {
     "delete_cmd_postfix": ") ",
     "delete_cmd_prefix": "rm(",
     "library": "var_list.r",
     "varRefreshCmd": "cat(var_dic_list()) "
    }
   },
   "types_to_exclude": [
    "module",
    "function",
    "builtin_function_or_method",
    "instance",
    "_Feature"
   ],
   "window_display": false
  }
 },
 "nbformat": 4,
 "nbformat_minor": 5
}
