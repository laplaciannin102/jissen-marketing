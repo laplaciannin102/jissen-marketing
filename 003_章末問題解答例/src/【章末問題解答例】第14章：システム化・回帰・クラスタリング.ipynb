{
 "cells": [
  {
   "cell_type": "markdown",
   "id": "3411e5f8",
   "metadata": {},
   "source": [
    "# 第14章：システム化・回帰・クラスタリング"
   ]
  },
  {
   "cell_type": "markdown",
   "id": "d0aa883f",
   "metadata": {},
   "source": [
    "## 14.1 ラボラトリー社の商品をひとつ取り上げて、売上予測の重回帰モデルを作ってみよう。"
   ]
  },
  {
   "cell_type": "markdown",
   "id": "28a960d9",
   "metadata": {},
   "source": [
    "### 【解答例】"
   ]
  },
  {
   "cell_type": "code",
   "execution_count": null,
   "id": "1bb4b5b9",
   "metadata": {},
   "outputs": [],
   "source": [
    "import numpy as np\n",
    "import pandas as pd\n",
    "import matplotlib.pyplot as plt\n",
    "%matplotlib inline\n",
    "\n",
    "df1 = pd.read_csv(\"../input/gi_train_mm10.csv\") # 10月のデータ\n",
    "df2 = pd.read_csv(\"../input/gi_train_mm11.csv\") # 11月のデータ\n",
    "\n",
    "df_tmp = pd.concat([df1, df2])\n",
    "df = df_tmp[df_tmp[\"customer_id\"].notna()].copy()"
   ]
  },
  {
   "cell_type": "markdown",
   "id": "48a06288",
   "metadata": {},
   "source": [
    "- ラボラトリー社商品の購入数ランキング"
   ]
  },
  {
   "cell_type": "code",
   "execution_count": null,
   "id": "d784fe77",
   "metadata": {},
   "outputs": [],
   "source": [
    "df[df[\"company\"]==\"ラボラトリー\"].groupby(\"product_name\",as_index=False)[\"buy_flag\"].sum().sort_values(\"buy_flag\",ascending=False).head(10)"
   ]
  },
  {
   "cell_type": "markdown",
   "id": "9e854b8e",
   "metadata": {},
   "source": [
    "- ここでは、購入数の最も多い「雪のしずく550ml」で重回帰モデルを作成するものとする。\n",
    "- ただ、現実的にはデータポイントが7点（2020/10/26～2020/11/01）しかない為、以下の制約を設けるものとする。\n",
    "    - リークは考えない\n",
    "        - 未来の売上予測する際にも、立寄人数や接触人数等の情報がわかるものとする\n",
    "    - 時系列モデルは考えない\n",
    "    - 多重共線性も考えない"
   ]
  },
  {
   "cell_type": "code",
   "execution_count": null,
   "id": "e7905b3a",
   "metadata": {},
   "outputs": [],
   "source": [
    "# 「雪のしずく550ml」の日毎の購入数を集計する\n",
    "day_buy_count_df = df[df[\"product_name\"]==\"雪のしずく550ml\"].groupby(\"event_day\",as_index=False)[\"buy_flag\"].sum()\n",
    "day_buy_count_df.set_index(\"event_day\",inplace=True)\n",
    "\n",
    "#----------------------------------------------------------------------------------------------------------------------- \n",
    "# 特徴量\n",
    "## 立寄人数\n",
    "tachiyori_df = df[(df[\"event_type\"]==1)].groupby(\"event_day\",as_index=False)[\"customer_id\"].nunique()\n",
    "tachiyori_df.rename(columns={\"customer_id\":\"立寄人数\"},inplace=True)\n",
    "tachiyori_df.set_index(\"event_day\",inplace=True)\n",
    "\n",
    "## 滞在者人数\n",
    "taizai_df = df[(df[\"event_type\"]==1)&(df[\"time_duration\"]>=10)].groupby(\"event_day\",as_index=False)[\"customer_id\"].nunique()\n",
    "taizai_df.rename(columns={\"customer_id\":\"滞在人数\"},inplace=True)\n",
    "taizai_df.set_index(\"event_day\",inplace=True)\n",
    "\n",
    "## 接触者人数\n",
    "touch_df = df[df[\"num_touch\"]==1].groupby(\"event_day\",as_index=False)[\"customer_id\"].nunique()\n",
    "touch_df.rename(columns={\"customer_id\":\"接触人数\"},inplace=True)\n",
    "touch_df.set_index(\"event_day\",inplace=True)\n",
    "\n",
    "## 購入者人数\n",
    "buy_df = df[df[\"buy_flag\"]==1].groupby(\"event_day\",as_index=False)[\"customer_id\"].nunique()\n",
    "buy_df.rename(columns={\"customer_id\":\"購入人数\"},inplace=True)\n",
    "buy_df.set_index(\"event_day\",inplace=True)\n",
    "\n",
    "## 日毎の平均滞在時間\n",
    "timeduration_df = df[(df[\"event_type\"]==1)].groupby(\"event_day\",as_index=False)[\"time_duration\"].mean()\n",
    "timeduration_df.set_index(\"event_day\",inplace=True)\n",
    "\n",
    "## 男女比率\n",
    "gender_rate_df = df[(df[\"event_type\"]==1)].pivot_table(index=\"event_day\",columns=\"gender\",values=\"customer_id\",aggfunc=\"count\")\n",
    "gender_rate_df[\"男性割合\"] = gender_rate_df[\"man\"] / gender_rate_df.sum(axis=1)\n",
    "\n",
    "#----------------------------------------------------------------------------------------------------------------------- \n",
    "\n",
    "# 上記のデータフレームを結合する\n",
    "all_df = pd.concat([day_buy_count_df,tachiyori_df,taizai_df,touch_df,buy_df,timeduration_df,gender_rate_df[\"男性割合\"]],axis=1)\n",
    "all_df"
   ]
  },
  {
   "cell_type": "code",
   "execution_count": null,
   "id": "fe22e307",
   "metadata": {},
   "outputs": [],
   "source": [
    "all_df.corr()"
   ]
  },
  {
   "cell_type": "markdown",
   "id": "5e30cf65",
   "metadata": {},
   "source": [
    "- statsmodelsを使用して重回帰分析を行う"
   ]
  },
  {
   "cell_type": "code",
   "execution_count": null,
   "id": "1341da95",
   "metadata": {},
   "outputs": [],
   "source": [
    "import statsmodels.api as sm\n",
    "\n",
    "df_y = all_df[[\"buy_flag\"]]\n",
    "df_X = all_df[[\"time_duration\",\"男性割合\"]]\n",
    "\n",
    "df_X = sm.add_constant(df_X)\n",
    "\n",
    "model = sm.OLS(df_y, df_X)\n",
    "result = model.fit()\n",
    "print(result.summary())"
   ]
  },
  {
   "cell_type": "markdown",
   "id": "bae2eb27",
   "metadata": {},
   "source": [
    "### 【解説】"
   ]
  },
  {
   "cell_type": "markdown",
   "id": "8e726fa9",
   "metadata": {},
   "source": [
    "- ここで使用したStatsModelsは、統計モデルを用いて推定や検定、探索が出来るPythonライブラリとなっています。書籍本文では機械学習用のライブラリとしてscikit-learnを使用したが、それと似たライブラリとなっています。\n",
    "- しかし、ある程度お察しかと思いますが、このモデルはあまり意味がありません。冒頭に制約としても記載しましたが、リークは考えない、時系列モデルは考えない、多重共線性も考えない、さらにデータポイントも7点しかないことから、ほとんど実用性が無いモデルとなっています。実際にモデル構築結果の決定係数（R-squared）も0.315となっており精度も低いです。\n",
    "- この章末問題を通して感じてもらいたかったのは、回帰のモデルを構築することは可能ではあるが、現在手元にあるデータだけではあまり精度のよいモデルが出来ない（意味のないモデルが出来てしまう）ことがある、ということを実感して頂くことにあります。逆に言えば、もっとデータを量と質を高めれば、意味があり精度の高い回帰モデルを構築することが出来そうだ、ということがお分かりいただけたのではないでしょうか。"
   ]
  },
  {
   "cell_type": "markdown",
   "id": "ae905dfe",
   "metadata": {},
   "source": [
    "## 14.2 k-means法を使ってクラスタリングを行ってみよう。"
   ]
  },
  {
   "cell_type": "markdown",
   "id": "53dc04b4",
   "metadata": {},
   "source": [
    "### 【解答例】"
   ]
  },
  {
   "cell_type": "markdown",
   "id": "fc997a3f",
   "metadata": {},
   "source": [
    "- クラスタリングを行うにあたって「何をクラスタリング（分類）するか」を考えてみよう。\n",
    "- 大きく分けて以下の2つの種類がある。\n",
    "    - 人物（ショッパー）のクラスタリング\n",
    "    - 商品のクラスタリング\n",
    "- この2つについてそれぞれ考えてみよう。"
   ]
  },
  {
   "cell_type": "markdown",
   "id": "16d2cf56",
   "metadata": {},
   "source": [
    "#### 人物（ショッパー）のクラスタリング"
   ]
  },
  {
   "cell_type": "markdown",
   "id": "e2a3765f",
   "metadata": {},
   "source": [
    "- 事前知識として、プログラムでは以下の処理を行っている。\n",
    "    - 名義変数をダミー変数化する\n",
    "        - k-meansが文字列の変数を扱えないため\n",
    "    - データを標準化する\n",
    "        - 標準偏差が大きい変数ほどクラスタの分類に大きく影響し、標準化の有無によって分類結果が異なる可能性があるため\n",
    "    - エルボー法\n",
    "        - 最適なクラスター数を求めるための手法\n",
    "        - クラスターごとのSSE値(クラスタ内誤平方和)をプロットした図"
   ]
  },
  {
   "cell_type": "code",
   "execution_count": null,
   "id": "fca0c6db",
   "metadata": {},
   "outputs": [],
   "source": [
    "from sklearn.preprocessing import StandardScaler\n",
    "from sklearn.cluster import KMeans"
   ]
  },
  {
   "cell_type": "code",
   "execution_count": null,
   "id": "3f2aa370",
   "metadata": {},
   "outputs": [],
   "source": [
    "# ショッパー毎のフレーム滞在時間を集計\n",
    "tmp1 = df[df[\"event_type\"]==1][[\"customer_id\",\"gender\",\"time_duration\"]]\n",
    "tmp1.set_index(\"customer_id\",inplace=True)\n",
    "\n",
    "# ショッパー毎の接触・購入回数を集計\n",
    "tmp2 = df.groupby(\"customer_id\").agg({\"num_touch\":\"sum\",\"buy_flag\":\"sum\"})\n",
    "\n",
    "# 上記のデータフレームを結合\n",
    "customer_df = pd.concat([tmp1,tmp2],axis=1)\n",
    "\n",
    "# 名義変数をダミー変数化\n",
    "customer_df = pd.get_dummies(customer_df)\n",
    "\n",
    "# データの標準化\n",
    "sc = StandardScaler()\n",
    "customer_df_sc = sc.fit_transform(customer_df)\n",
    "customer_df_sc = pd.DataFrame(customer_df_sc, columns=customer_df.columns)\n",
    "customer_df_sc"
   ]
  },
  {
   "cell_type": "code",
   "execution_count": null,
   "id": "8dbe74e6",
   "metadata": {},
   "outputs": [],
   "source": [
    "# エルボー法を実行\n",
    "sum_of_squared_errors = []\n",
    "for i in range(1, 11):\n",
    "    model = KMeans(n_clusters=i, random_state=0, init=\"random\")\n",
    "    model.fit(customer_df_sc)\n",
    "    sum_of_squared_errors.append(model.inertia_)  # 損失関数の値を保存\n",
    "\n",
    "plt.plot(range(1, 11), sum_of_squared_errors, marker=\"o\")\n",
    "plt.xlabel(\"number of clusters\")\n",
    "plt.ylabel(\"sum of squared errors\")\n",
    "plt.show()"
   ]
  },
  {
   "cell_type": "code",
   "execution_count": null,
   "id": "66e7cb56",
   "metadata": {},
   "outputs": [],
   "source": [
    "# 上記のエルボー法を参考に、クラスター数を「3」でk-meansクラスタリングを実行\n",
    "model = KMeans(n_clusters=3, random_state=1)\n",
    "model.fit(customer_df_sc)\n",
    "cluster = model.labels_\n",
    "\n",
    "# データバーを用いて、各クラス毎の平均値を可視化\n",
    "customer_df[\"クラス\"] = cluster\n",
    "customer_df.groupby(\"クラス\").mean().style.bar(axis=0,width=90)"
   ]
  },
  {
   "cell_type": "markdown",
   "id": "def8354e",
   "metadata": {},
   "source": [
    "- k-meansを用いた結果、人物（ショッパー）を以下の3つのグループに分けられそうなことが分かった。\n",
    "  - クラス0：100％男性のグループで滞在時間が比較的短く(31秒程度)、接触・購入回数も少ない\n",
    "  - クラス1：100％女性のグループで滞在時間が比較的短く(35秒程度)、接触・購入回数も少ない\n",
    "  - クラス2：男女混合のグループで滞在時間が比較的長く(77秒)、接触・購入回数が多い"
   ]
  },
  {
   "cell_type": "markdown",
   "id": "81c2cf7b",
   "metadata": {},
   "source": [
    "#### 商品のクラスタリング"
   ]
  },
  {
   "cell_type": "markdown",
   "id": "d704e061",
   "metadata": {},
   "source": [
    "- 方法は人物（ショッパー）のクラスタリングの時とほぼ同様で、ダミー変数化と標準化を行い、エルボー法を用いて最適なクラスター数を検討する。"
   ]
  },
  {
   "cell_type": "code",
   "execution_count": null,
   "id": "07a5f3ef",
   "metadata": {},
   "outputs": [],
   "source": [
    "# 商品毎の接触・購入回数を集計\n",
    "tmp1 = df.groupby(\"product_name\").agg({\"num_touch\":\"sum\",\"buy_flag\":\"sum\"})\n",
    "\n",
    "# 商品毎の購入・男女比率を計算\n",
    "tmp2 = df[df[\"buy_flag\"]==1].pivot_table(index=\"product_name\",columns=\"gender\",values=\"buy_flag\",aggfunc=\"count\")\n",
    "tmp2[\"購入男性割合\"] = tmp2[\"man\"] / (tmp2[\"man\"]+tmp2[\"woman\"])\n",
    "tmp2[\"購入男性割合\"] = tmp2[\"購入男性割合\"].fillna(0)\n",
    "\n",
    "# 上記のデータフレームを結合\n",
    "product_df = pd.concat([tmp1,tmp2[\"購入男性割合\"]],axis=1)\n",
    "\n",
    "# データの標準化\n",
    "sc = StandardScaler()\n",
    "product_df_sc = sc.fit_transform(product_df)\n",
    "product_df_sc = pd.DataFrame(product_df_sc, columns=product_df.columns)\n",
    "product_df_sc"
   ]
  },
  {
   "cell_type": "code",
   "execution_count": null,
   "id": "4d07febe",
   "metadata": {},
   "outputs": [],
   "source": [
    "# エルボー法を実行\n",
    "sum_of_squared_errors = []\n",
    "for i in range(1, 11):\n",
    "    model = KMeans(n_clusters=i, random_state=0, init=\"random\")\n",
    "    model.fit(product_df_sc)\n",
    "    sum_of_squared_errors.append(model.inertia_)  # 損失関数の値を保存\n",
    "\n",
    "plt.plot(range(1, 11), sum_of_squared_errors, marker=\"o\")\n",
    "plt.xlabel(\"number of clusters\")\n",
    "plt.ylabel(\"sum of squared errors\")\n",
    "plt.show()"
   ]
  },
  {
   "cell_type": "code",
   "execution_count": null,
   "id": "b562685b",
   "metadata": {},
   "outputs": [],
   "source": [
    "# 上記のエルボー法を参考に、クラスター数を「3」でk-meansクラスタリングを実行\n",
    "model = KMeans(n_clusters=3, random_state=1)\n",
    "model.fit(product_df_sc)\n",
    "cluster = model.labels_\n",
    "\n",
    "# データバーを用いて、各クラス毎の平均値を可視化\n",
    "product_df[\"クラス\"] = cluster\n",
    "product_df.groupby(\"クラス\").mean().style.bar(axis=0,width=90)"
   ]
  },
  {
   "cell_type": "markdown",
   "id": "3b8a11c5",
   "metadata": {},
   "source": [
    "- k-meansを用いた結果、商品を以下の3つのグループに分けられそうなことが分かった\n",
    "  - クラス0：男性の購入割合が低く(30％程度)、接触・購入回数が少ない商品群\n",
    "  - クラス1：購入の男女比率はほぼ等しく、接触・購入回数が多い商品群\n",
    "  - クラス2：男性の購入割合がやや高く(61％程度)、接触・購入回数が少ない商品群"
   ]
  },
  {
   "cell_type": "markdown",
   "id": "d68c30ca",
   "metadata": {},
   "source": [
    "- 参考の為に、それぞれのクラスタに所属する商品の商品名を一覧表示してみる"
   ]
  },
  {
   "cell_type": "code",
   "execution_count": null,
   "id": "4db42c95",
   "metadata": {},
   "outputs": [],
   "source": [
    "print(\"クラス0に所属する商品一覧\")\n",
    "print(product_df[product_df[\"クラス\"]==0].index.tolist())\n",
    "print(\"-\"*80)\n",
    "#----------------------------------------------------------------------------------------------------------------------- \n",
    "print(\"クラス1に所属する商品一覧\")\n",
    "print(product_df[product_df[\"クラス\"]==1].index.tolist())\n",
    "print(\"-\"*80)\n",
    "#----------------------------------------------------------------------------------------------------------------------- \n",
    "print(\"クラス2に所属する商品一覧\")\n",
    "print(product_df[product_df[\"クラス\"]==2].index.tolist())\n",
    "print(\"-\"*80)"
   ]
  },
  {
   "cell_type": "markdown",
   "id": "68233639",
   "metadata": {},
   "source": [
    "## 14.3 回帰やクラスタリングがどのようなシチュエーションで使えそうか考えてみよう。"
   ]
  },
  {
   "cell_type": "markdown",
   "id": "26ff1814",
   "metadata": {},
   "source": [
    "### 【解答例】"
   ]
  },
  {
   "cell_type": "markdown",
   "id": "df97cb7e",
   "metadata": {},
   "source": [
    "#### 回帰"
   ]
  },
  {
   "cell_type": "markdown",
   "id": "61ec8e10",
   "metadata": {},
   "source": [
    "- 回帰は需要予測で使えそうだ。\n",
    "- 例えば飲料だと、事前に「どれくらい売れるか」を予測できると、供給過多による無駄な廃棄が少なくなったり、供給不足による欠品が少なくなったりして、経営的にも良い効果がありそうだ。"
   ]
  },
  {
   "cell_type": "markdown",
   "id": "0dd63bd9",
   "metadata": {},
   "source": [
    "#### クラスタリング"
   ]
  },
  {
   "cell_type": "markdown",
   "id": "b62063c8",
   "metadata": {},
   "source": [
    "- クラスタリングは商品の分類に使えそうだ。\n",
    "- 前提として、商品はサブカテゴリ分類というものがある。飲料であれば、水、コーヒー、炭酸飲料、果汁飲料、などである。ただ、それはどちらかというと商品の成分や味などに起因した分類であり、消費者ニーズとは必ずしも合致していない。例えば「運動した後に飲みたいもの」としては水の場合もあれば炭酸飲料の場合もあるだろう。\n",
    "- そして、消費者ニーズに照らし合わせた分類（クラスタリング）が出来れば、商品ラインナップや販促活動の改善にも繋げることが出来そうだ。例えば、「運動した後に飲みたいものはこの商品群A」ということが分かれば、公園や運動場などに設置された自販機やそこに近い店舗などでは、商品群Aを多く配荷するといった対応を取ることが可能になりそうだ。"
   ]
  },
  {
   "cell_type": "markdown",
   "id": "678655ac",
   "metadata": {},
   "source": [
    "### 【解説】"
   ]
  },
  {
   "cell_type": "markdown",
   "id": "e4c0264a",
   "metadata": {},
   "source": [
    "- 書籍本編でも扱った二値分類にしろ、本章で取り上げた回帰やクラスタリングにしろ、機械学習はあくまでも手段です。それが普段行っている事業にどのように活用できるかを考えることが大切です。\n",
    "- 今回はシチュエーションとしてそれぞれ1つずつ（需要予測、商品の分類）挙げてみましたが、もちろん使えるシチュエーションは様々ですし、企業や業態によって様々です。状況による、ということも多いでしょう。そこで大切なのがビジネス理解です。ビジネスの現状からブレークダウンしていくことで「課題は何か」を突き止め、そこに回帰やクラスタリングといった手法がどのように適用できそうかを結び付けていくと良いでしょう。"
   ]
  }
 ],
 "metadata": {
  "kernelspec": {
   "display_name": "Python 3 (ipykernel)",
   "language": "python",
   "name": "python3"
  },
  "language_info": {
   "codemirror_mode": {
    "name": "ipython",
    "version": 3
   },
   "file_extension": ".py",
   "mimetype": "text/x-python",
   "name": "python",
   "nbconvert_exporter": "python",
   "pygments_lexer": "ipython3",
   "version": "3.8.8"
  },
  "toc": {
   "base_numbering": 1,
   "nav_menu": {},
   "number_sections": true,
   "sideBar": true,
   "skip_h1_title": false,
   "title_cell": "Table of Contents",
   "title_sidebar": "Contents",
   "toc_cell": false,
   "toc_position": {
    "height": "calc(100% - 180px)",
    "left": "10px",
    "top": "150px",
    "width": "321.825px"
   },
   "toc_section_display": true,
   "toc_window_display": true
  },
  "varInspector": {
   "cols": {
    "lenName": 16,
    "lenType": 16,
    "lenVar": 40
   },
   "kernels_config": {
    "python": {
     "delete_cmd_postfix": "",
     "delete_cmd_prefix": "del ",
     "library": "var_list.py",
     "varRefreshCmd": "print(var_dic_list())"
    },
    "r": {
     "delete_cmd_postfix": ") ",
     "delete_cmd_prefix": "rm(",
     "library": "var_list.r",
     "varRefreshCmd": "cat(var_dic_list()) "
    }
   },
   "types_to_exclude": [
    "module",
    "function",
    "builtin_function_or_method",
    "instance",
    "_Feature"
   ],
   "window_display": false
  }
 },
 "nbformat": 4,
 "nbformat_minor": 5
}
