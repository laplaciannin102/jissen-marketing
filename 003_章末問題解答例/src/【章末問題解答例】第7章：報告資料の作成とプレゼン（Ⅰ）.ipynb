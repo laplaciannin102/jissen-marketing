{
 "cells": [
  {
   "cell_type": "markdown",
   "id": "b66a9959",
   "metadata": {},
   "source": [
    "# 第7章：報告資料の作成とプレゼン（Ⅰ）"
   ]
  },
  {
   "cell_type": "markdown",
   "id": "fbe93ecc",
   "metadata": {},
   "source": [
    "## 7.1 プレゼン資料を作成し、輪講を進めている仲間に対して1人10分で報告を行い、フィードバックをもらおう"
   ]
  },
  {
   "cell_type": "markdown",
   "id": "cf526a92",
   "metadata": {},
   "source": [
    "### 【解答例】"
   ]
  },
  {
   "cell_type": "markdown",
   "id": "01ee6f99",
   "metadata": {},
   "source": [
    "- ※別紙7-1として掲載"
   ]
  },
  {
   "cell_type": "markdown",
   "id": "55b74d1c",
   "metadata": {},
   "source": [
    "### 【解説】"
   ]
  },
  {
   "cell_type": "markdown",
   "id": "14afe50a",
   "metadata": {},
   "source": [
    "- 書籍本編に記載した内容に従ってシンプルな報告書を作成して解答例として掲載しました。\n",
    "- 「5.データ分析の結果と考察」のスライドは1枚だけにしましたが、通常の報告書ですとこの章で数十枚の報告をすることになります。例えば、エグゼクティブサマリで挙げた「滞在時間は平均値の方が中央値よりも長い」「15時頃が最も商品接触が多い」などを、グラフや表などのエビデンスを基にして説明できると良いでしょう。\n",
    "- 報告書の目次構成や内容については企業によって様々なルールがあるかと思いますのでそれに従っていただければ結構です。\n",
    "- 自分が作成した報告書が他の人の目にどう映るのか、発表を聞いてどう思うのかは、ぜひチームメンバー間でシェアしてみてください。意外な発見があるはずです。"
   ]
  },
  {
   "cell_type": "markdown",
   "id": "bb395cd8",
   "metadata": {},
   "source": [
    "## 7.2 自分なりの「ふりかえり」をやってみよう。"
   ]
  },
  {
   "cell_type": "markdown",
   "id": "24a55519",
   "metadata": {},
   "source": [
    "### 【解答例】"
   ]
  },
  {
   "cell_type": "markdown",
   "id": "d13858fc",
   "metadata": {},
   "source": [
    "- ※別紙7-2として掲載"
   ]
  },
  {
   "cell_type": "markdown",
   "id": "f45c4b45",
   "metadata": {},
   "source": [
    "### 【解説】"
   ]
  },
  {
   "cell_type": "markdown",
   "id": "f05db3c5",
   "metadata": {},
   "source": [
    "- 書籍本編と同様にYWTでふりかえりを行ってみましたが、KPTなどでも良いでしょう。"
   ]
  }
 ],
 "metadata": {
  "kernelspec": {
   "display_name": "Python 3 (ipykernel)",
   "language": "python",
   "name": "python3"
  },
  "language_info": {
   "codemirror_mode": {
    "name": "ipython",
    "version": 3
   },
   "file_extension": ".py",
   "mimetype": "text/x-python",
   "name": "python",
   "nbconvert_exporter": "python",
   "pygments_lexer": "ipython3",
   "version": "3.8.8"
  },
  "toc": {
   "base_numbering": 1,
   "nav_menu": {},
   "number_sections": true,
   "sideBar": true,
   "skip_h1_title": false,
   "title_cell": "Table of Contents",
   "title_sidebar": "Contents",
   "toc_cell": false,
   "toc_position": {
    "height": "calc(100% - 180px)",
    "left": "10px",
    "top": "150px",
    "width": "321.825px"
   },
   "toc_section_display": true,
   "toc_window_display": true
  },
  "varInspector": {
   "cols": {
    "lenName": 16,
    "lenType": 16,
    "lenVar": 40
   },
   "kernels_config": {
    "python": {
     "delete_cmd_postfix": "",
     "delete_cmd_prefix": "del ",
     "library": "var_list.py",
     "varRefreshCmd": "print(var_dic_list())"
    },
    "r": {
     "delete_cmd_postfix": ") ",
     "delete_cmd_prefix": "rm(",
     "library": "var_list.r",
     "varRefreshCmd": "cat(var_dic_list()) "
    }
   },
   "types_to_exclude": [
    "module",
    "function",
    "builtin_function_or_method",
    "instance",
    "_Feature"
   ],
   "window_display": false
  }
 },
 "nbformat": 4,
 "nbformat_minor": 5
}
