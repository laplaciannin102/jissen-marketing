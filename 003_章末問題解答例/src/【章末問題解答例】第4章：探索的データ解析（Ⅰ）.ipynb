{
 "cells": [
  {
   "cell_type": "markdown",
   "id": "946166c4",
   "metadata": {},
   "source": [
    "# 第4章：探索的データ解析（Ⅰ）"
   ]
  },
  {
   "cell_type": "markdown",
   "id": "a6a05c4b",
   "metadata": {},
   "source": [
    "## 4.1 フレーム滞在時間について、ビンの幅を1秒にしたときのヒストグラムを作成してみよう。"
   ]
  },
  {
   "cell_type": "markdown",
   "id": "8cb808af",
   "metadata": {},
   "source": [
    "### 【解答例】"
   ]
  },
  {
   "cell_type": "markdown",
   "id": "d923191e",
   "metadata": {},
   "source": [
    "- ライブラリのインポート"
   ]
  },
  {
   "cell_type": "code",
   "execution_count": null,
   "id": "b040d549",
   "metadata": {},
   "outputs": [],
   "source": [
    "import numpy as np\n",
    "import pandas as pd\n",
    "import matplotlib.pyplot as plt\n",
    "%matplotlib inline"
   ]
  },
  {
   "cell_type": "markdown",
   "id": "00958f32",
   "metadata": {},
   "source": [
    "- csvファイルの読み込みと結合"
   ]
  },
  {
   "cell_type": "code",
   "execution_count": null,
   "id": "60957e84",
   "metadata": {},
   "outputs": [],
   "source": [
    "df1 = pd.read_csv(\"../input/gi_train_mm10.csv\") # 10月のデータ\n",
    "df2 = pd.read_csv(\"../input/gi_train_mm11.csv\") # 11月のデータ\n",
    "\n",
    "df_tmp = pd.concat([df1, df2])\n",
    "df = df_tmp[df_tmp[\"customer_id\"].notna()].copy()"
   ]
  },
  {
   "cell_type": "markdown",
   "id": "5d7be015",
   "metadata": {},
   "source": [
    "- event_typeごとに切り出し"
   ]
  },
  {
   "cell_type": "code",
   "execution_count": null,
   "id": "3f217414",
   "metadata": {},
   "outputs": [],
   "source": [
    "df_et1 = df.loc[(df[\"event_type\"] == 1)]\n",
    "df_et2 = df.loc[(df[\"event_type\"] == 2)]\n",
    "df_et3 = df.loc[(df[\"event_type\"] == 3)]"
   ]
  },
  {
   "cell_type": "markdown",
   "id": "a6f414d0",
   "metadata": {},
   "source": [
    "- ヒストグラムの作成"
   ]
  },
  {
   "cell_type": "code",
   "execution_count": null,
   "id": "59ff790f",
   "metadata": {},
   "outputs": [],
   "source": [
    "bin_min = int(df_et1[\"time_duration\"].min())\n",
    "bin_max = int(df_et1[\"time_duration\"].max())\n",
    "edges = range(bin_min, bin_max, 1)\n",
    "plt.hist(df_et1[\"time_duration\"], bins=edges)\n",
    "plt.show()"
   ]
  },
  {
   "cell_type": "markdown",
   "id": "05abe40f",
   "metadata": {},
   "source": [
    "### 【解説】"
   ]
  },
  {
   "cell_type": "markdown",
   "id": "fb58830e",
   "metadata": {},
   "source": [
    "- ライブラリのインポート、csvファイルの読み込みと結合、event_typeごとの切り出しといった初期処理を行った後は、4.5節で行ったヒストグラム作成のプログラムを参考にして実行すればよいでしょう。\n",
    "- ポイントは3行目でrangeの第3パラメタで1を設定することです。\n",
    "- デフォルトの場合、ビンが5秒刻みだった場合と見比べてみましょう。ビンの幅によってだいぶ印象が変わることが分かるでしょう。"
   ]
  },
  {
   "cell_type": "markdown",
   "id": "9809b8d0",
   "metadata": {},
   "source": [
    "## 4.2 普段スーパーマーケットやコンビニエンスストアで飲料を購入する際に、自分が実際にどのくらい売場に滞在しているかストップウォッチで計測してみよう。その結果と今回のデータの結果とを比較して気付きを得てみよう。"
   ]
  },
  {
   "cell_type": "markdown",
   "id": "56391970",
   "metadata": {},
   "source": [
    "### 【解答例】"
   ]
  },
  {
   "cell_type": "markdown",
   "id": "66f7b305",
   "metadata": {},
   "source": [
    "- スーパーマーケット：1分10秒（飲料売場のみ）。商品を色々と検討したが結局何も買わなかった。\n",
    "- コンビニエンスストア：7秒（飲料売場のみ）。商品棚に行ってあらかじめ決めていた商品をすぐに購入した。\n",
    "- 今回のデータでは立寄者の滞在時間の平均値が35.8秒であったから、スーパーマーケットではそれよりも長い時間滞在していた。商品を購入しないスーパーマーケットの方が、商品を購入したコンビニエンスストアよりも長い時間売場に滞在しているのが面白いと思った。"
   ]
  },
  {
   "cell_type": "markdown",
   "id": "6f20b8fa",
   "metadata": {},
   "source": [
    "### 【解説】"
   ]
  },
  {
   "cell_type": "markdown",
   "id": "80a0d699",
   "metadata": {},
   "source": [
    "- 実際に計測してみると、意外と売場に滞在していなかったとか、逆に思った以上に長い時間滞在していたとか、新たな気付きがあるかと思います。今回の解答例のように、店舗やチャネルを変えて計測しても面白いでしょう。また、飲料売場だけでなく他の売場について計測してみも良いかもしれません。その過程で売場を観察することも効果的です。\n",
    "- また、実際に自分の身をもって計測したデータと、一般的なデータとを比較してみるのも興味深いでしょう。\n",
    "- このように、自分自身の体験や観察をもとにして課題にアプローチしていく手法を「デザイン思考（デザインシンキング）」といいます。今回のようなショッパーマーケティングだけでなく様々なドメイン（事業領域）で使える手法ですので、ぜひ試してみましょう。"
   ]
  },
  {
   "cell_type": "markdown",
   "id": "04e9d713",
   "metadata": {},
   "source": [
    "## 4.3 グループで本書を読み進めている場合は、グループ内で2の結果についてディスカッションしてみよう。"
   ]
  },
  {
   "cell_type": "markdown",
   "id": "5b53875f",
   "metadata": {},
   "source": [
    "### 【解答例】"
   ]
  },
  {
   "cell_type": "markdown",
   "id": "de19229b",
   "metadata": {},
   "source": [
    "- 種子島さん「自分は10秒ぐらいしか滞在していなかった。せっかちな性格なのかもしれないし、買うものが決まっていたからかも？」\n",
    "- 調布さん「逆に自分は3分以上も飲料売場にいることが分かりました。普段からそうですが、たとえ安い商品でもじっくりと考えて購入するタイプかもしれません。」\n",
    "- 筑波さん：「私は『これ！』って決まっているときは本当に早いよ！でも、そうじゃないときはいろいろ迷っちゃう。おまけとかついてるとそれにしちゃうかも。」\n",
    "- 内之浦さん：「実際に飲料売場に行ってみて思ったけど、思った以上に自分の知らない商品があるなぁ、って感じたよね。好きなアニメやスマホゲームとのコラボパッケージの商品は思わず目がいったかな。」\n",
    "- 相模原さん：「自分は1人暮らしだから自分の意志でさっさと買っていったけど、家族で来ている人は色々とあれこれ話をしていたな。どういうライフスタイルかにもよって人の購買行動は変わるのかもしれないね。」"
   ]
  },
  {
   "cell_type": "markdown",
   "id": "df21fa33",
   "metadata": {},
   "source": [
    "### 【解説】"
   ]
  },
  {
   "cell_type": "markdown",
   "id": "97e19481",
   "metadata": {},
   "source": [
    "- 購買行動は人それぞれですし、それによって感じたことも人それぞれです。訪れた店舗やその時の気分にもよっても異なるでしょう。ぜひグループ内で様々な「気付き」を挙げてみましょう。\n",
    "- このようなディスカッションの際、みんないっぺんに発言を促すと、どうしても話好きな人や話が長い人がその場の主導権を握りがちです。ここではメンバーの多様性を重視したいので、例えば、まず3分間黙って自分の意見を付箋に書く→順番に各自発表する、などのようにすると、まんべんなく全員の意見がオープンになって良いでしょう。進め方もぜひ工夫してみてください。"
   ]
  }
 ],
 "metadata": {
  "kernelspec": {
   "display_name": "Python 3 (ipykernel)",
   "language": "python",
   "name": "python3"
  },
  "language_info": {
   "codemirror_mode": {
    "name": "ipython",
    "version": 3
   },
   "file_extension": ".py",
   "mimetype": "text/x-python",
   "name": "python",
   "nbconvert_exporter": "python",
   "pygments_lexer": "ipython3",
   "version": "3.8.8"
  },
  "toc": {
   "base_numbering": 1,
   "nav_menu": {},
   "number_sections": true,
   "sideBar": true,
   "skip_h1_title": false,
   "title_cell": "Table of Contents",
   "title_sidebar": "Contents",
   "toc_cell": false,
   "toc_position": {
    "height": "calc(100% - 180px)",
    "left": "10px",
    "top": "150px",
    "width": "321.825px"
   },
   "toc_section_display": true,
   "toc_window_display": true
  },
  "varInspector": {
   "cols": {
    "lenName": 16,
    "lenType": 16,
    "lenVar": 40
   },
   "kernels_config": {
    "python": {
     "delete_cmd_postfix": "",
     "delete_cmd_prefix": "del ",
     "library": "var_list.py",
     "varRefreshCmd": "print(var_dic_list())"
    },
    "r": {
     "delete_cmd_postfix": ") ",
     "delete_cmd_prefix": "rm(",
     "library": "var_list.r",
     "varRefreshCmd": "cat(var_dic_list()) "
    }
   },
   "types_to_exclude": [
    "module",
    "function",
    "builtin_function_or_method",
    "instance",
    "_Feature"
   ],
   "window_display": false
  }
 },
 "nbformat": 4,
 "nbformat_minor": 5
}
