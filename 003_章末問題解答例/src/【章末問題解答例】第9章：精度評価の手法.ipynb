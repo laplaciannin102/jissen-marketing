{
 "cells": [
  {
   "cell_type": "markdown",
   "id": "29138769",
   "metadata": {},
   "source": [
    "# 第9章：精度評価の手法"
   ]
  },
  {
   "cell_type": "markdown",
   "id": "d051641b",
   "metadata": {},
   "source": [
    "## 9.1 各指標値についてどのような「お題」の時に使えるだろうか？書き出してみよう。"
   ]
  },
  {
   "cell_type": "markdown",
   "id": "bf12ca57",
   "metadata": {},
   "source": [
    "### 【解答例】"
   ]
  },
  {
   "cell_type": "markdown",
   "id": "26c763c1",
   "metadata": {},
   "source": [
    "#### 正解率（Accuracy）"
   ]
  },
  {
   "cell_type": "markdown",
   "id": "f33cd500",
   "metadata": {},
   "source": [
    "- 購入者と接触非購入者が50%:50%に近い場合など、データに偏りがない場合に使える。\n",
    "- シンプルで直感的にも解釈しやすいため、あらゆる「お題」に使える。"
   ]
  },
  {
   "cell_type": "markdown",
   "id": "a51a5a56",
   "metadata": {},
   "source": [
    "#### 偽陽性率（FPR）"
   ]
  },
  {
   "cell_type": "markdown",
   "id": "2c45b4d5",
   "metadata": {},
   "source": [
    "- 新型コロナウイルスの検査に使える（実際には陰性なのに誤って陽性であると誤判断することはなるべく避けたい）。"
   ]
  },
  {
   "cell_type": "markdown",
   "id": "55cae1de",
   "metadata": {},
   "source": [
    "#### 真陽性率（TPR）"
   ]
  },
  {
   "cell_type": "markdown",
   "id": "0cffc414",
   "metadata": {},
   "source": [
    "- がん検診に使える（多少誤って陽性と判断してしまったとしても、真の陽性はなるべく拾いたい）。"
   ]
  },
  {
   "cell_type": "markdown",
   "id": "0e8d94a3",
   "metadata": {},
   "source": [
    "#### 適合率（Precision）"
   ]
  },
  {
   "cell_type": "markdown",
   "id": "1b667f29",
   "metadata": {},
   "source": [
    "- 警備会社の警報に使える（可能な限り誤警報が鳴らないようにしたい）。"
   ]
  },
  {
   "cell_type": "markdown",
   "id": "0cff4516",
   "metadata": {},
   "source": [
    "### 【解説】"
   ]
  },
  {
   "cell_type": "markdown",
   "id": "072748c8",
   "metadata": {},
   "source": [
    "- Kaggleなどのデータ分析コンペでは予め指標値が指定されていますが、ビジネスにおけるデータサイエンスでは評価すべき指標値が予めクライアントから指定されていることはめったにありません。従って、「お題」に合わせて自分自身で見るべき指標値を設定できるようになりましょう。\n",
    "- どのような事例でも良いのですが、「このようなお題の時にはこのような指標値を使うとよい」というものを覚えておくと、実際にビジネスの現場で課題が出てきたときにもイメージがしやすくなります。"
   ]
  },
  {
   "cell_type": "markdown",
   "id": "7c55dbbb",
   "metadata": {},
   "source": [
    "## 9.2 今回使用する精度評価指標はAUCであると紹介した時、鳥居さんから「それってどんなもの？」と聞かれた。その際にどのような資料を使ってどのように説明すると理解してもらえるだろうか？考えてみよう。"
   ]
  },
  {
   "cell_type": "markdown",
   "id": "8a477985",
   "metadata": {},
   "source": [
    "### 【解答例】"
   ]
  },
  {
   "cell_type": "markdown",
   "id": "2859573e",
   "metadata": {},
   "source": [
    "- AUCは二値分類で良く使われ、どれぐらいバランスよく予測を当てられているかを測る指標値です。\n",
    "- 「接触非購入者」を0、「購入者」を1とします。機械学習モデルを構築して、ショッパーが0か1かを当てたい、というのが今回の目的です。\n",
    "- ですが、実際には0か1かという二択ではなく、「もしかしたら接触非購入者かも？」という人（0.3ぐらい）や「もしかしたら購入者かも？」という人（0.7ぐらい）がいます。\n",
    "- さらに、0.3ぐらいの人でも購入者の人もいるし、0.7ぐらいでも接触非購入者の人がいます。\n",
    "- ここではなるべく誤った予測を少なくしたいのですが、そこで使われるのがAUCです。冒頭に申し上げた通り「バランスよく」モデルの精度を測ることができ、出来るだけ当てて、出来るだけ誤りを少なくすることが出来ているかを検証することが出来る指標値です。"
   ]
  },
  {
   "cell_type": "markdown",
   "id": "3e3df560",
   "metadata": {},
   "source": [
    "### 【解説】"
   ]
  },
  {
   "cell_type": "markdown",
   "id": "163916a6",
   "metadata": {},
   "source": [
    "- 上記の説明の仕方は一例ですが、このように日本語で説明できるようにしておくと、クライアントから質問を受けた時にも対応がしやすいでしょう。また、端的に表した図をあらかじめ用意しておくと良いかもしれません。\n",
    "- 書籍本編でも触れましたが、データサイエンスを委託する側に必ずしも深いデータサイエンスの知見があるとは限りません。相手の理解度を推し量りながら、相手にとって分かりやすい説明を心がけましょう。データサイエンスについて分かりやすく説明することもデータサイエンティストの仕事です。"
   ]
  }
 ],
 "metadata": {
  "kernelspec": {
   "display_name": "Python 3",
   "language": "python",
   "name": "python3"
  },
  "language_info": {
   "codemirror_mode": {
    "name": "ipython",
    "version": 3
   },
   "file_extension": ".py",
   "mimetype": "text/x-python",
   "name": "python",
   "nbconvert_exporter": "python",
   "pygments_lexer": "ipython3",
   "version": "3.8.8"
  },
  "toc": {
   "base_numbering": 1,
   "nav_menu": {},
   "number_sections": true,
   "sideBar": true,
   "skip_h1_title": false,
   "title_cell": "Table of Contents",
   "title_sidebar": "Contents",
   "toc_cell": false,
   "toc_position": {
    "height": "calc(100% - 180px)",
    "left": "10px",
    "top": "150px",
    "width": "321.825px"
   },
   "toc_section_display": true,
   "toc_window_display": true
  },
  "varInspector": {
   "cols": {
    "lenName": 16,
    "lenType": 16,
    "lenVar": 40
   },
   "kernels_config": {
    "python": {
     "delete_cmd_postfix": "",
     "delete_cmd_prefix": "del ",
     "library": "var_list.py",
     "varRefreshCmd": "print(var_dic_list())"
    },
    "r": {
     "delete_cmd_postfix": ") ",
     "delete_cmd_prefix": "rm(",
     "library": "var_list.r",
     "varRefreshCmd": "cat(var_dic_list()) "
    }
   },
   "types_to_exclude": [
    "module",
    "function",
    "builtin_function_or_method",
    "instance",
    "_Feature"
   ],
   "window_display": false
  }
 },
 "nbformat": 4,
 "nbformat_minor": 5
}
