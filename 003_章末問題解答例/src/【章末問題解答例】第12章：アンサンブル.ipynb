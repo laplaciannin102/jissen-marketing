{
 "cells": [
  {
   "cell_type": "markdown",
   "id": "8e4ca2ad",
   "metadata": {},
   "source": [
    "# 第12章：アンサンブル"
   ]
  },
  {
   "cell_type": "markdown",
   "id": "8aab4fa6",
   "metadata": {},
   "source": [
    "## 12.1 アンサンブルのメリットとデメリットを挙げよう。"
   ]
  },
  {
   "cell_type": "markdown",
   "id": "dd438c11",
   "metadata": {},
   "source": [
    "### 【解答例】"
   ]
  },
  {
   "cell_type": "markdown",
   "id": "519ae25b",
   "metadata": {},
   "source": [
    "#### メリット"
   ]
  },
  {
   "cell_type": "markdown",
   "id": "ad272642",
   "metadata": {},
   "source": [
    "- 複数の学習器を使う為、未学習のデータに対する予測能力を向上できる"
   ]
  },
  {
   "cell_type": "markdown",
   "id": "eebe0a4c",
   "metadata": {},
   "source": [
    "#### デメリット"
   ]
  },
  {
   "cell_type": "markdown",
   "id": "b8fbd1e7",
   "metadata": {},
   "source": [
    "- 計算量が多くなるため、結果が出るまで多少時間がかかる\n",
    "- 解釈性に劣る場合がある（どのようなロジックで結果が出てきたのかを説明するのが難しい）"
   ]
  },
  {
   "cell_type": "markdown",
   "id": "834caba6",
   "metadata": {},
   "source": [
    "### 【解説】"
   ]
  },
  {
   "cell_type": "markdown",
   "id": "9f85811e",
   "metadata": {},
   "source": [
    "- Kaggleなどのコンペではアンサンブル（XGBoost、LightGBM等のブースティング）が使われることが一般的になってきました。これは、デメリットとして挙げた計算量についてあまり気にしなくて良いほど計算機が高性能化したことにも起因しています。\n",
    "- 一方で、解釈性に劣りブラックボックス化しやすいという課題は依然として残っています。そこをどのように克服すれば良いか、是非考えてみましょう。"
   ]
  },
  {
   "cell_type": "markdown",
   "id": "8c95ebb2",
   "metadata": {},
   "source": [
    "## 12.2 第8章の章末問題で自作した特徴量を使ってLightGBMモデルを作って精度を検証してみよう。"
   ]
  },
  {
   "cell_type": "markdown",
   "id": "3c3beb84",
   "metadata": {},
   "source": [
    "### 【解答例】"
   ]
  },
  {
   "cell_type": "code",
   "execution_count": null,
   "id": "d3e9149b",
   "metadata": {},
   "outputs": [],
   "source": [
    "import numpy as np\n",
    "import pandas as pd\n",
    "import joblib\n",
    "from datetime import datetime\n",
    "from sklearn.model_selection import train_test_split # ホールドアウト用モジュール\n",
    "from sklearn.metrics import accuracy_score, roc_auc_score # 評価指標用モジュール"
   ]
  },
  {
   "cell_type": "code",
   "execution_count": null,
   "id": "86415694",
   "metadata": {},
   "outputs": [],
   "source": [
    "# 前処理済み中間データのdictを読み取る\n",
    "shomatsu_pp_data_dict = joblib.load(\"../intermediate/shomatsu_pp_data_dict.pkl3\")\n",
    "# 辞書型変数の値に格納された決定木向け中間データを読み取る\n",
    "shomatsu_dtc_train_df = shomatsu_pp_data_dict[\"dtc\"][\"train\"]\n",
    "shomatsu_dtc_test_df = shomatsu_pp_data_dict[\"dtc\"][\"test\"]\n",
    "# 6:4の割合でホールドアウト法を行う\n",
    "shomatsu_dtc_train_train_df, shomatsu_dtc_train_valid_df = train_test_split(\n",
    "    shomatsu_dtc_train_df,\n",
    "    test_size=0.4,\n",
    "    random_state=57,\n",
    "    shuffle=True\n",
    ")\n",
    "shomatsu_dtc_train_df.shape, shomatsu_dtc_train_train_df.shape, shomatsu_dtc_train_valid_df.shape, shomatsu_dtc_test_df.shape"
   ]
  },
  {
   "cell_type": "code",
   "execution_count": null,
   "id": "a025ceda",
   "metadata": {},
   "outputs": [],
   "source": [
    "# 目的変数をtargetという変数に格納する\n",
    "target = \"buy_flag\"\n",
    "# 説明変数をfeaturesという変数に格納する\n",
    "shomatsu_lgbc_features = shomatsu_dtc_train_df.columns.tolist()\n",
    "# customer_idとbuy_flagは説明変数ではない為削除する\n",
    "shomatsu_lgbc_features.remove(\"customer_id\")\n",
    "shomatsu_lgbc_features.remove(\"buy_flag\")"
   ]
  },
  {
   "cell_type": "code",
   "execution_count": null,
   "id": "d84a7484",
   "metadata": {},
   "outputs": [],
   "source": [
    "import lightgbm as lgb # LightGBM"
   ]
  },
  {
   "cell_type": "code",
   "execution_count": null,
   "id": "a6b6ce93",
   "metadata": {},
   "outputs": [],
   "source": [
    "# LightGBM用データセットを生成する\n",
    "lgb_train_train_dataset = lgb.Dataset(shomatsu_dtc_train_train_df[shomatsu_lgbc_features], shomatsu_dtc_train_train_df[target])\n",
    "lgb_train_valid_dataset = lgb.Dataset(shomatsu_dtc_train_valid_df[shomatsu_lgbc_features], shomatsu_dtc_train_valid_df[target], reference=lgb_train_train_dataset)\n",
    "\n",
    "lgb_train_dataset = lgb.Dataset(shomatsu_dtc_train_df[shomatsu_lgbc_features], shomatsu_dtc_train_df[target])\n",
    "lgb_test_dataset = lgb.Dataset(shomatsu_dtc_test_df[shomatsu_lgbc_features], reference=lgb_train_dataset)"
   ]
  },
  {
   "cell_type": "code",
   "execution_count": null,
   "id": "564af59a",
   "metadata": {},
   "outputs": [],
   "source": [
    "# 予め設定しておくハイパーパラメータ\n",
    "lgbc_params = {\n",
    "    \"objective\": \"binary\", # 問題設定: 二値分類\n",
    "    \"metric\": \"auc\", # 評価関数: AUC\n",
    "    \"verbosity\": -1 # 出力なし\n",
    "}"
   ]
  },
  {
   "cell_type": "code",
   "execution_count": null,
   "id": "a0421249",
   "metadata": {},
   "outputs": [],
   "source": [
    "# 学習する\n",
    "lgbc_clf = lgb.train(\n",
    "    lgbc_params, # ハイパーパラメータ\n",
    "    train_set=lgb_train_train_dataset, # 学習データ\n",
    "    num_boost_round=100, # ブースティングを行う回数\n",
    "    verbose_eval=20 # ブースティング20回につき1回結果を出力\n",
    ")"
   ]
  },
  {
   "cell_type": "code",
   "execution_count": null,
   "id": "5810ada7",
   "metadata": {},
   "outputs": [],
   "source": [
    "# LightGBM用データセットを生成する\n",
    "shomatsu_lgb_train_train_dataset = lgb.Dataset(\n",
    "    shomatsu_dtc_train_train_df[shomatsu_lgbc_features],\n",
    "    shomatsu_dtc_train_train_df[target]\n",
    ")\n",
    "shomatsu_lgb_train_valid_dataset = lgb.Dataset(\n",
    "    shomatsu_dtc_train_valid_df[shomatsu_lgbc_features],\n",
    "    shomatsu_dtc_train_valid_df[target],\n",
    "    reference=shomatsu_lgb_train_train_dataset\n",
    ")\n",
    "\n",
    "shomatsu_lgb_train_dataset = lgb.Dataset(shomatsu_dtc_train_df[shomatsu_lgbc_features], shomatsu_dtc_train_df[target])\n",
    "shomatsu_lgb_test_dataset = lgb.Dataset(shomatsu_dtc_test_df[shomatsu_lgbc_features], reference=shomatsu_lgb_train_dataset)"
   ]
  },
  {
   "cell_type": "code",
   "execution_count": null,
   "id": "6258fff3",
   "metadata": {},
   "outputs": [],
   "source": [
    "!pip install --quiet optuna"
   ]
  },
  {
   "cell_type": "code",
   "execution_count": null,
   "id": "b4dbbf1e",
   "metadata": {},
   "outputs": [],
   "source": [
    "import optuna.integration.lightgbm as optuna_lgb # OptunaによるLightGBM\n",
    "import warnings\n",
    "warnings.filterwarnings(\"ignore\")"
   ]
  },
  {
   "cell_type": "code",
   "execution_count": null,
   "id": "4a14f47b",
   "metadata": {},
   "outputs": [],
   "source": [
    "# OptunaによるLightGBMのハイパーパラメータチューニング\n",
    "shomatsu_optuna_lgbc_clf = optuna_lgb.train(\n",
    "    lgbc_params, # 固定のハイパーパラメータ\n",
    "    train_set=shomatsu_lgb_train_train_dataset, # 学習データ\n",
    "    valid_sets=shomatsu_lgb_train_valid_dataset, # 検証データ\n",
    "    num_boost_round=100, # boostingを行う回数\n",
    "    verbose_eval=20, # ブースティング20回につき1回結果を出力\n",
    "    optuna_seed=57 # 再現性確保のためseed値を指定\n",
    ")"
   ]
  },
  {
   "cell_type": "code",
   "execution_count": null,
   "id": "0b5a2d87",
   "metadata": {},
   "outputs": [],
   "source": [
    "# 最適なパラメータの確認\n",
    "shomatsu_best_lgbc_params = shomatsu_optuna_lgbc_clf.params\n",
    "shomatsu_best_lgbc_params"
   ]
  },
  {
   "cell_type": "code",
   "execution_count": null,
   "id": "b4d1cb6b",
   "metadata": {},
   "outputs": [],
   "source": [
    "# 学習する\n",
    "shomatsu_lgbc_clf = lgb.train(\n",
    "    shomatsu_best_lgbc_params, # 最適なハイパーパラメータ\n",
    "    train_set=shomatsu_lgb_train_train_dataset, # 学習データ\n",
    "    # valid_sets=shomatsu_lgb_valid_dataset, # 検証データ\n",
    "    num_boost_round=100, # boostingを行う回数\n",
    "    verbose_eval=20 # ブースティング20回につき1回結果を出力\n",
    ")"
   ]
  },
  {
   "cell_type": "code",
   "execution_count": null,
   "id": "394fe04a",
   "metadata": {},
   "outputs": [],
   "source": [
    "# train-validの予測する\n",
    "shomatsu_lgbc_train_valid_proba_y = shomatsu_lgbc_clf.predict(shomatsu_dtc_train_valid_df[shomatsu_lgbc_features])\n",
    "shomatsu_lgbc_train_valid_proba_y"
   ]
  },
  {
   "cell_type": "code",
   "execution_count": null,
   "id": "749146b8",
   "metadata": {},
   "outputs": [],
   "source": [
    "# train-validの検証する（AUCを算出する）\n",
    "shomatsu_lgbc_train_valid_auc_val = roc_auc_score(\n",
    "    shomatsu_dtc_train_valid_df[target],\n",
    "    shomatsu_lgbc_train_valid_proba_y\n",
    ")\n",
    "shomatsu_lgbc_train_valid_auc_val"
   ]
  },
  {
   "cell_type": "code",
   "execution_count": null,
   "id": "21902a70",
   "metadata": {},
   "outputs": [],
   "source": [
    "# trainの予測する\n",
    "shomatsu_lgbc_train_proba_y = shomatsu_lgbc_clf.predict(shomatsu_dtc_train_df[shomatsu_lgbc_features])\n",
    "shomatsu_lgbc_train_pred_y = np.where(shomatsu_lgbc_train_proba_y >= 0.5, 1, 0)\n",
    "\n",
    "# trainの検証する\n",
    "shomatsu_lgbc_train_accuracy_val = accuracy_score(shomatsu_dtc_train_df[target], shomatsu_lgbc_train_pred_y)\n",
    "shomatsu_lgbc_train_auc_val = roc_auc_score(shomatsu_dtc_train_df[target], shomatsu_lgbc_train_proba_y)\n",
    "shomatsu_lgbc_train_accuracy_val, shomatsu_lgbc_train_auc_val"
   ]
  },
  {
   "cell_type": "code",
   "execution_count": null,
   "id": "481e6795",
   "metadata": {},
   "outputs": [],
   "source": [
    "# testの予測する\n",
    "shomatsu_lgbc_test_proba_y = shomatsu_lgbc_clf.predict(shomatsu_dtc_test_df[shomatsu_lgbc_features])"
   ]
  },
  {
   "cell_type": "code",
   "execution_count": null,
   "id": "33e64d67",
   "metadata": {},
   "outputs": [],
   "source": [
    "# sample submitデータを読み込む\n",
    "gi_sample_submit_df = pd.read_csv(\"../input/gi_sample_submit.csv\")"
   ]
  },
  {
   "cell_type": "code",
   "execution_count": null,
   "id": "3bfdb764",
   "metadata": {},
   "outputs": [],
   "source": [
    "# submit向けDataFrameを作成し、列に予測確率を格納する\n",
    "shomatsu_submit_df = shomatsu_dtc_test_df.copy()[[\"customer_id\"]]\n",
    "shomatsu_submit_df[\"buy_proba\"] = shomatsu_lgbc_test_proba_y\n",
    "shomatsu_submit_df.head()"
   ]
  },
  {
   "cell_type": "code",
   "execution_count": null,
   "id": "36bb8e74",
   "metadata": {},
   "outputs": [],
   "source": [
    "gi_sample_submit_df.shape, shomatsu_submit_df.shape"
   ]
  },
  {
   "cell_type": "code",
   "execution_count": null,
   "id": "8eff2134",
   "metadata": {},
   "outputs": [],
   "source": [
    "shomatsu_submit_df = pd.merge(gi_sample_submit_df.drop(\"buy_proba\", axis=1), shomatsu_submit_df, on=\"customer_id\", how=\"left\").reset_index(drop=True)\n",
    "shomatsu_submit_df.head()"
   ]
  },
  {
   "cell_type": "code",
   "execution_count": null,
   "id": "ba3ab960",
   "metadata": {},
   "outputs": [],
   "source": [
    "shomatsu_submit_df.shape"
   ]
  },
  {
   "cell_type": "code",
   "execution_count": null,
   "id": "c871481a",
   "metadata": {},
   "outputs": [],
   "source": [
    "# outputディレクトリにsubmit⽤ファイルを出⼒する\n",
    "shomatsu_submit_df.to_csv(f\"../output/shomatsu_submit_lgbc.csv\", encoding=\"utf-8\", index=False)"
   ]
  },
  {
   "cell_type": "markdown",
   "id": "270be0d9",
   "metadata": {},
   "source": [
    "### 【解説】"
   ]
  },
  {
   "cell_type": "markdown",
   "id": "d5a76f72",
   "metadata": {},
   "source": [
    "- LightGBMに関しても、特徴量さえ出来てしまえば、モデルを構築して精度を検証するプロセス（プログラム）はほぼ同じものを流用することが出来ます。"
   ]
  }
 ],
 "metadata": {
  "kernelspec": {
   "display_name": "Python 3 (ipykernel)",
   "language": "python",
   "name": "python3"
  },
  "language_info": {
   "codemirror_mode": {
    "name": "ipython",
    "version": 3
   },
   "file_extension": ".py",
   "mimetype": "text/x-python",
   "name": "python",
   "nbconvert_exporter": "python",
   "pygments_lexer": "ipython3",
   "version": "3.8.8"
  },
  "toc": {
   "base_numbering": 1,
   "nav_menu": {},
   "number_sections": true,
   "sideBar": true,
   "skip_h1_title": false,
   "title_cell": "Table of Contents",
   "title_sidebar": "Contents",
   "toc_cell": false,
   "toc_position": {
    "height": "calc(100% - 180px)",
    "left": "10px",
    "top": "150px",
    "width": "321.825px"
   },
   "toc_section_display": true,
   "toc_window_display": true
  },
  "varInspector": {
   "cols": {
    "lenName": 16,
    "lenType": 16,
    "lenVar": 40
   },
   "kernels_config": {
    "python": {
     "delete_cmd_postfix": "",
     "delete_cmd_prefix": "del ",
     "library": "var_list.py",
     "varRefreshCmd": "print(var_dic_list())"
    },
    "r": {
     "delete_cmd_postfix": ") ",
     "delete_cmd_prefix": "rm(",
     "library": "var_list.r",
     "varRefreshCmd": "cat(var_dic_list()) "
    }
   },
   "types_to_exclude": [
    "module",
    "function",
    "builtin_function_or_method",
    "instance",
    "_Feature"
   ],
   "window_display": false
  }
 },
 "nbformat": 4,
 "nbformat_minor": 5
}
