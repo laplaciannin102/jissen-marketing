{
 "cells": [
  {
   "cell_type": "markdown",
   "id": "365ed9fc",
   "metadata": {},
   "source": [
    "# 第8章：モデル構築の準備"
   ]
  },
  {
   "cell_type": "markdown",
   "id": "92c971a7",
   "metadata": {},
   "source": [
    "## 8.1 他にどのような特徴量が作れるだろうか？考えてチームで議論してみよう。"
   ]
  },
  {
   "cell_type": "markdown",
   "id": "e32d4eff",
   "metadata": {},
   "source": [
    "### 【解答例】"
   ]
  },
  {
   "cell_type": "markdown",
   "id": "02289428",
   "metadata": {},
   "source": [
    "- 以下のような議論があった。\n",
    "    - 種子島さん「商品を購入する人は売場にやってきたら商品をすぐに手に取りそうだよね。逆に商品を購入する気が無い人は、売場にきてもなかなか商品を手に取らないんじゃないかな。」\n",
    "    - 内之浦さん「それなら、売場にやってきてから商品を手に取るまでの時間を計測してみると、なにか特長がありそうかもね。」\n",
    "- 上記の議論から「フレームイン時刻（売場にやってきた）から最初に商品を接触するまでの時刻までの時間」を特徴量として追加することとした。"
   ]
  },
  {
   "cell_type": "markdown",
   "id": "680f4809",
   "metadata": {},
   "source": [
    "### 【解説】"
   ]
  },
  {
   "cell_type": "markdown",
   "id": "c08cb45c",
   "metadata": {},
   "source": [
    "- まずは、どのような特徴量が作れそうか各自で考えてみましょう。その際にEDAの結果を参考にするとよいでしょう。\n",
    "- 次に、そのアイデアを各自で発表しあうと良いでしょう。声が大きい人（よくしゃべる人）の意見だけではなく、あまりしゃべらない人の意見も議論で取り上げると良いでしょう。挙手制にするのではなく「○○さんから時計回りで発表してみましょう」などとするのも良いでしょう。各自が各自の意見を発表することが大切です。"
   ]
  },
  {
   "cell_type": "markdown",
   "id": "fb1dd19a",
   "metadata": {},
   "source": [
    "## 8.2 実際に特徴量を実装してDataFrameに追加してみよう。また、ダミー変数化する際にpd.get_dummiesの引数としてdrop_first=Trueを設定してみよう。"
   ]
  },
  {
   "cell_type": "markdown",
   "id": "29446199",
   "metadata": {},
   "source": [
    "### 【解答例】"
   ]
  },
  {
   "cell_type": "markdown",
   "id": "58b9ab16",
   "metadata": {},
   "source": [
    "- 途中までは書籍本編と同様の処理を実行する。"
   ]
  },
  {
   "cell_type": "code",
   "execution_count": null,
   "id": "d93381be",
   "metadata": {},
   "outputs": [],
   "source": [
    "import numpy as np\n",
    "import pandas as pd\n",
    "\n",
    "gi_train_mm10_df = pd.read_csv(\"../input/gi_train_mm10.csv\") # 10月のデータ\n",
    "gi_train_mm11_df = pd.read_csv(\"../input/gi_train_mm11.csv\") # 11月のデータ\n",
    "\n",
    "# pandasのconcatで結合する\n",
    "gi_train_df = pd.concat([gi_train_mm10_df, gi_train_mm11_df], axis=0)\n",
    "pp_gi_train_df = gi_train_df[gi_train_df[\"customer_id\"].notna()].copy()\n",
    "\n",
    "# 各event_typeごとのDataFrameを作成\n",
    "pp_gi_train_df_et1 = pp_gi_train_df[pp_gi_train_df[\"event_type\"] == 1]\n",
    "pp_gi_train_df_et2 = pp_gi_train_df[pp_gi_train_df[\"event_type\"] == 2]\n",
    "pp_gi_train_df_et3 = pp_gi_train_df[pp_gi_train_df[\"event_type\"] == 3]"
   ]
  },
  {
   "cell_type": "code",
   "execution_count": null,
   "id": "49e2cf67",
   "metadata": {},
   "outputs": [],
   "source": [
    "contact_list = pp_gi_train_df_et3[\"customer_id\"].drop_duplicates()\n",
    "contact_list"
   ]
  },
  {
   "cell_type": "code",
   "execution_count": null,
   "id": "72b0c69d",
   "metadata": {},
   "outputs": [],
   "source": [
    "pp_gi_train_df_et1_rev = pp_gi_train_df_et1[pp_gi_train_df_et1[\"customer_id\"].isin(contact_list)]\n",
    "pp_gi_train_df_et1_rev.head()"
   ]
  },
  {
   "cell_type": "code",
   "execution_count": null,
   "id": "c497a57b",
   "metadata": {},
   "outputs": [],
   "source": [
    "pp_gi_train_df_et2_rev = pp_gi_train_df_et2[pp_gi_train_df_et2[\"customer_id\"].isin(contact_list)]\n",
    "pp_gi_train_df_et2_rev.head()"
   ]
  },
  {
   "cell_type": "code",
   "execution_count": null,
   "id": "afaebc36",
   "metadata": {},
   "outputs": [],
   "source": [
    "output_df = pp_gi_train_df_et1_rev[[\"customer_id\", \"event_day\", \"gender\", \"age\", \"time_duration\"]].copy()\n",
    "output_df"
   ]
  },
  {
   "cell_type": "code",
   "execution_count": null,
   "id": "300001fb",
   "metadata": {},
   "outputs": [],
   "source": [
    "# カテゴリ変数をまとめたリスト\n",
    "cate_cols = [\"event_day\", \"gender\", \"age\"]\n",
    "# ダミー変数化\n",
    "output_df = pd.get_dummies(data=output_df, columns=cate_cols, drop_first=True)\n",
    "output_df"
   ]
  },
  {
   "cell_type": "code",
   "execution_count": null,
   "id": "12ca6fbb",
   "metadata": {},
   "outputs": [],
   "source": [
    "# エリアIDのリストを数値型で作成\n",
    "area_id_list = sorted(pp_gi_train_df_et2_rev[\"area_id\"].astype(int).unique().tolist())\n",
    "area_id_list"
   ]
  },
  {
   "cell_type": "code",
   "execution_count": null,
   "id": "6ec294f8",
   "metadata": {},
   "outputs": [],
   "source": [
    "# areaのtime_duration関連のカラムを格納するリスト\n",
    "area_time_duration_cols = []\n",
    "\n",
    "# 各エリアについてループ処理\n",
    "for tmp_area_id in area_id_list:\n",
    "    # 当該エリアのtime_durationを取得\n",
    "    #（この時点ではcustomer_idについて複数レコードが存在する）\n",
    "    tmp_area_duration_df = pp_gi_train_df_et2_rev[pp_gi_train_df_et2_rev[\"area_id\"]==tmp_area_id][[\"customer_id\", \"time_duration\"]]\n",
    "    # そのうちcusotmer_idごとに最大値を取得する\n",
    "    tmp_area_duration_df = tmp_area_duration_df.groupby(by=[\"customer_id\"]).max().reset_index(drop=False)\n",
    "\n",
    "    # カラム名を指定する\n",
    "    tmp_area_max_time_duration_col = f\"area{tmp_area_id}_max_time_duration\"\n",
    "    area_time_duration_cols += [tmp_area_max_time_duration_col]\n",
    "    tmp_area_duration_df = tmp_area_duration_df.rename(columns={\"time_duration\": tmp_area_max_time_duration_col})\n",
    "    \n",
    "    # customer_idをキーとしてoutput_dfに結合する\n",
    "    output_df = pd.merge(output_df, tmp_area_duration_df, on=[\"customer_id\"], how=\"left\")"
   ]
  },
  {
   "cell_type": "code",
   "execution_count": null,
   "id": "04bd9a2c",
   "metadata": {},
   "outputs": [],
   "source": [
    "output_df"
   ]
  },
  {
   "cell_type": "code",
   "execution_count": null,
   "id": "a04d22f5",
   "metadata": {},
   "outputs": [],
   "source": [
    "area_time_duration_cols"
   ]
  },
  {
   "cell_type": "code",
   "execution_count": null,
   "id": "fd0fc57d",
   "metadata": {},
   "outputs": [],
   "source": [
    "buy_flag_df = pp_gi_train_df_et3[pp_gi_train_df_et3[\"buy_flag\"] == 1].drop_duplicates(subset=\"customer_id\")[[\"customer_id\", \"buy_flag\"]].copy()\n",
    "buy_flag_df"
   ]
  },
  {
   "cell_type": "code",
   "execution_count": null,
   "id": "c285c079",
   "metadata": {},
   "outputs": [],
   "source": [
    "# マージしてoutput_dfに格納\n",
    "output_df = pd.merge(output_df, buy_flag_df, on=\"customer_id\", how=\"left\")\n",
    "# buy_flagについて0埋めとint型への変更を実施\n",
    "output_df[\"buy_flag\"] = output_df[\"buy_flag\"].fillna(0)\n",
    "output_df[\"buy_flag\"] = output_df[\"buy_flag\"].astype(int)\n",
    "output_df"
   ]
  },
  {
   "cell_type": "code",
   "execution_count": null,
   "id": "10f7242f",
   "metadata": {},
   "outputs": [],
   "source": [
    "# 木系モデルの欠損値処理（-1埋め）\n",
    "# エリア1～5についてループを回す\n",
    "dtc_pp_gi_train_df = output_df.copy()\n",
    "for col in area_time_duration_cols:\n",
    "    dtc_pp_gi_train_df[col] = dtc_pp_gi_train_df[col].fillna(-1)\n",
    "\n",
    "# ロジスティック回帰モデルの欠損値処理（0埋め）\n",
    "# エリア1～5についてループを回す\n",
    "lgr_pp_gi_train_df = output_df.copy()\n",
    "for col in area_time_duration_cols:\n",
    "    lgr_pp_gi_train_df[col] = lgr_pp_gi_train_df[col].fillna(0)"
   ]
  },
  {
   "cell_type": "code",
   "execution_count": null,
   "id": "61972de0",
   "metadata": {},
   "outputs": [],
   "source": [
    "dtc_pp_gi_train_df"
   ]
  },
  {
   "cell_type": "code",
   "execution_count": null,
   "id": "40049056",
   "metadata": {},
   "outputs": [],
   "source": [
    "lgr_pp_gi_train_df"
   ]
  },
  {
   "cell_type": "code",
   "execution_count": null,
   "id": "afc12683",
   "metadata": {},
   "outputs": [],
   "source": [
    "# GIのtestデータを読み込む\n",
    "gi_test_df = pd.read_csv(\"../input/gi_test.csv\")\n",
    "gi_test_df.head()"
   ]
  },
  {
   "cell_type": "code",
   "execution_count": null,
   "id": "837ba4b7",
   "metadata": {},
   "outputs": [],
   "source": [
    "# 各event_typeごとのDataFrameを作成\n",
    "pp_gi_test_df_et1 = gi_test_df[gi_test_df[\"event_type\"] == 1]\n",
    "pp_gi_test_df_et2 = gi_test_df[gi_test_df[\"event_type\"] == 2]\n",
    "pp_gi_test_df_et3 = gi_test_df[gi_test_df[\"event_type\"] == 3]\n",
    "\n",
    "output_df = pp_gi_test_df_et1[[\"customer_id\", \"event_day\", \"gender\", \"age\", \"time_duration\"]].copy()\n",
    "\n",
    "# ダミー変数化\n",
    "output_df = pd.get_dummies(data=output_df, columns=cate_cols, drop_first=True)\n",
    "output_df"
   ]
  },
  {
   "cell_type": "code",
   "execution_count": null,
   "id": "750aaa69",
   "metadata": {},
   "outputs": [],
   "source": [
    "area_time_duration_cols"
   ]
  },
  {
   "cell_type": "code",
   "execution_count": null,
   "id": "baf53f7e",
   "metadata": {},
   "outputs": [],
   "source": [
    "# 各エリアについてループ処理\n",
    "for tmp_area_id in area_id_list:\n",
    "    # 当該エリアのtime_durationを取得\n",
    "    #（この時点ではcustomer_idについて複数レコードが存在する）\n",
    "    tmp_area_duration_df = pp_gi_test_df_et2[pp_gi_test_df_et2[\"area_id\"]==tmp_area_id][[\"customer_id\", \"time_duration\"]]\n",
    "    # そのうちcusotmer_idごとに最大値を取得する\n",
    "    tmp_area_duration_df = tmp_area_duration_df.groupby(by=[\"customer_id\"]).max().reset_index(drop=False)\n",
    "\n",
    "    # カラム名を指定する\n",
    "    tmp_area_max_time_duration_col = f\"area{tmp_area_id}_max_time_duration\"\n",
    "    tmp_area_duration_df = tmp_area_duration_df.rename(columns={\"time_duration\": tmp_area_max_time_duration_col})\n",
    "    \n",
    "    # customer_idをキーとしてoutput_dfに結合する\n",
    "    output_df = pd.merge(output_df, tmp_area_duration_df, on=[\"customer_id\"], how=\"left\")"
   ]
  },
  {
   "cell_type": "code",
   "execution_count": null,
   "id": "9908280b",
   "metadata": {},
   "outputs": [],
   "source": [
    "output_df"
   ]
  },
  {
   "cell_type": "code",
   "execution_count": null,
   "id": "c5164387",
   "metadata": {},
   "outputs": [],
   "source": [
    "# 木系モデルの欠損値処理（-1埋め）\n",
    "# エリア1～5についてループを回す\n",
    "dtc_pp_gi_test_df = output_df.copy()\n",
    "for col in area_time_duration_cols:\n",
    "    dtc_pp_gi_test_df[col] = dtc_pp_gi_test_df[col].fillna(-1)\n",
    "\n",
    "# ロジスティック回帰モデルの欠損値処理（0埋め）\n",
    "# エリア1～5についてループを回す\n",
    "lgr_pp_gi_test_df = output_df.copy()\n",
    "for col in area_time_duration_cols:\n",
    "    lgr_pp_gi_test_df[col] = lgr_pp_gi_test_df[col].fillna(0)"
   ]
  },
  {
   "cell_type": "code",
   "execution_count": null,
   "id": "0ba96ee4",
   "metadata": {},
   "outputs": [],
   "source": [
    "dtc_pp_gi_test_df"
   ]
  },
  {
   "cell_type": "code",
   "execution_count": null,
   "id": "31db80d7",
   "metadata": {},
   "outputs": [],
   "source": [
    "lgr_pp_gi_test_df"
   ]
  },
  {
   "cell_type": "markdown",
   "id": "9a0ec705",
   "metadata": {},
   "source": [
    "- csvファイルとpickleファイル出力のプログラムは省略した。\n",
    "- ここからが章末問題独自の処理となる。"
   ]
  },
  {
   "cell_type": "code",
   "execution_count": null,
   "id": "fcebb41d",
   "metadata": {},
   "outputs": [],
   "source": [
    "# 「フレームイン時刻（売場にやってきた）から最初に商品を接触するまでの時刻までの時間」を算出する関数\n",
    "def get_diff_time_df(input_df):\n",
    "\n",
    "    copy_df = input_df.copy()\n",
    "    copy_df = copy_df[copy_df[\"in_time\"].notnull()]\n",
    "    copy_df[\"time\"] = copy_df[\"event_day\"].astype(str) + \" \" + copy_df[\"in_time\"].astype(str)\n",
    "    \n",
    "    copy_df[\"time\"] = pd.to_datetime(copy_df[\"time\"])\n",
    "\n",
    "    # フレームイン時間DataFrame\n",
    "    frame_in_time_df = copy_df[[\"customer_id\", \"event_type\", \"time\"]][\n",
    "        copy_df[\"event_type\"]==1\n",
    "    ].drop(\n",
    "        labels=[\"event_type\"], axis=1\n",
    "    ).groupby(\n",
    "        by=[\"customer_id\"]\n",
    "    ).max().reset_index(drop=False).rename(columns={\"time\": \"frame_in_time\"})\n",
    "\n",
    "    # 商品接触時間DataFrame\n",
    "    touch_time_df = copy_df[[\"customer_id\", \"event_type\", \"time\"]][\n",
    "        copy_df[\"event_type\"]==3\n",
    "    ].drop(\n",
    "        labels=[\"event_type\"], axis=1\n",
    "    ).groupby(\n",
    "        by=[\"customer_id\"]\n",
    "    ).max().reset_index(drop=False).rename(columns={\"time\": \"touch_time\"})\n",
    "\n",
    "    # 2つのDataFrameを結合する\n",
    "    diff_time_df = pd.merge(\n",
    "        touch_time_df,\n",
    "        frame_in_time_df,\n",
    "        on=[\"customer_id\"],\n",
    "        how=\"left\"\n",
    "    )\n",
    "\n",
    "    # 差分を算出して列を追加する\n",
    "    diff_time_df[\"diff_time_frame2touch(s)\"] = diff_time_df[\"touch_time\"] - diff_time_df[\"frame_in_time\"]\n",
    "    diff_time_df[\"diff_time_frame2touch(s)\"] = diff_time_df[\"diff_time_frame2touch(s)\"].apply(lambda x: x.seconds)\n",
    "\n",
    "    # 念のためshapeの確認\n",
    "    print(\"=\" * 80)\n",
    "    print(\"frame_in_time_df.shape:\", frame_in_time_df.shape)\n",
    "    print(\"touch_time_df.shape:\", touch_time_df.shape)\n",
    "    print(\"diff_time_df.shape:\", diff_time_df.shape)\n",
    "    print(\"=\" * 80)\n",
    "    \n",
    "    return diff_time_df"
   ]
  },
  {
   "cell_type": "code",
   "execution_count": null,
   "id": "0f7ca4de",
   "metadata": {},
   "outputs": [],
   "source": [
    "# trainとtestそれぞれのデータに対して、フレームインから商品接触までの時間を計算する\n",
    "diff_time_train_df = get_diff_time_df(gi_train_df)\n",
    "diff_time_test_df = get_diff_time_df(gi_test_df)"
   ]
  },
  {
   "cell_type": "code",
   "execution_count": null,
   "id": "435ea6bf",
   "metadata": {},
   "outputs": [],
   "source": [
    "# 作成されたDataFrameを確認する\n",
    "diff_time_train_df.head()"
   ]
  },
  {
   "cell_type": "code",
   "execution_count": null,
   "id": "83e69a3d",
   "metadata": {},
   "outputs": [],
   "source": [
    "# 決定木、ロジスティック回帰用のtrain、test用データに特徴量をmergeする\n",
    "# 章末問題用データ\n",
    "shomatsu_dtc_pp_gi_train_df = pd.merge(\n",
    "    dtc_pp_gi_train_df,\n",
    "    diff_time_train_df[[\"customer_id\", \"diff_time_frame2touch(s)\"]],\n",
    "    on=\"customer_id\",\n",
    "    how=\"left\"\n",
    ")\n",
    "\n",
    "shomatsu_dtc_pp_gi_test_df = pd.merge(\n",
    "    dtc_pp_gi_test_df,\n",
    "    diff_time_test_df[[\"customer_id\", \"diff_time_frame2touch(s)\"]],\n",
    "    on=\"customer_id\",\n",
    "    how=\"left\"\n",
    ")\n",
    "\n",
    "shomatsu_lgr_pp_gi_train_df = pd.merge(\n",
    "    lgr_pp_gi_train_df,\n",
    "    diff_time_train_df[[\"customer_id\", \"diff_time_frame2touch(s)\"]],\n",
    "    on=\"customer_id\",\n",
    "    how=\"left\"\n",
    ")\n",
    "\n",
    "shomatsu_lgr_pp_gi_test_df = pd.merge(\n",
    "    lgr_pp_gi_test_df,\n",
    "    diff_time_test_df[[\"customer_id\", \"diff_time_frame2touch(s)\"]],\n",
    "    on=\"customer_id\",\n",
    "    how=\"left\"\n",
    ")"
   ]
  },
  {
   "cell_type": "code",
   "execution_count": null,
   "id": "c8343594",
   "metadata": {},
   "outputs": [],
   "source": [
    "# shapeを確認しておく\n",
    "# (行数が増えずに列数だけ増えていればOK)\n",
    "print(\"dtc_pp_gi_train_df.shape:\", dtc_pp_gi_train_df.shape)\n",
    "print(\"shomatsu_dtc_pp_gi_train_df.shape:\", shomatsu_dtc_pp_gi_train_df.shape)\n",
    "\n",
    "print(\"dtc_pp_gi_test_df.shape:\", dtc_pp_gi_test_df.shape)\n",
    "print(\"shomatsu_dtc_pp_gi_test_df.shape:\", shomatsu_dtc_pp_gi_test_df.shape)\n",
    "\n",
    "print(\"lgr_pp_gi_train_df.shape:\", lgr_pp_gi_train_df.shape)\n",
    "print(\"shomatsu_lgr_pp_gi_train_df.shape:\", shomatsu_lgr_pp_gi_train_df.shape)\n",
    "\n",
    "print(\"lgr_pp_gi_test_df.shape:\", lgr_pp_gi_test_df.shape)\n",
    "print(\"shomatsu_lgr_pp_gi_test_df.shape:\", shomatsu_lgr_pp_gi_test_df.shape)"
   ]
  },
  {
   "cell_type": "code",
   "execution_count": null,
   "id": "dcc0da8b",
   "metadata": {},
   "outputs": [],
   "source": [
    "# dict型変数に前処理済みデータをまとめて格納する.\n",
    "shomatsu_pp_data_dict = {\"dtc\": {\"train\": shomatsu_dtc_pp_gi_train_df, \"test\": shomatsu_dtc_pp_gi_test_df},\n",
    "                \"lgr\": {\"train\": shomatsu_lgr_pp_gi_train_df, \"test\": shomatsu_lgr_pp_gi_test_df}}"
   ]
  },
  {
   "cell_type": "code",
   "execution_count": null,
   "id": "14ff3e01",
   "metadata": {},
   "outputs": [],
   "source": [
    "# 出力するpickleのファイルパスを設定\n",
    "shomatsu_pp_data_dict_pkl_fpath = \"../intermediate/shomatsu_pp_data_dict_pkl.pkl3\"\n",
    "# joblibを使用して, pickleファイルを出力する\n",
    "import joblib\n",
    "joblib.dump(shomatsu_pp_data_dict, shomatsu_pp_data_dict_pkl_fpath, compress=3)"
   ]
  },
  {
   "cell_type": "markdown",
   "id": "6ae0d34d",
   "metadata": {},
   "source": [
    "- 「shomatsu_pp_data_dict_pkl.pkl3」というファイルがintermediateフォルダに出力されていることを確認しよう"
   ]
  },
  {
   "cell_type": "markdown",
   "id": "81481bf2",
   "metadata": {},
   "source": [
    "### 【解説】"
   ]
  },
  {
   "cell_type": "markdown",
   "id": "fd33ba40",
   "metadata": {},
   "source": [
    "- 8.1で特徴量をリストアップし、8.2で実際に実装を行いました。このように、まずはどのような特徴量を作れば良さそうかを考えてイメージしておいてから、実際のプログラミングに入ると良いでしょう。そうでないと、プログラミングの途中でどのような特徴量を作るつもりだったのか分からなくなってしまうことがあります。\n",
    "- 書籍本編にも記載しましたが、特徴量はただ単にたくさん作ればよいというものではありません。特徴量を実装するのもプログラミングに時間がかかりますので、まずはある程度「効きそうな」特徴量を見極めて、優先順位を付けて対応していくと良いでしょう。"
   ]
  }
 ],
 "metadata": {
  "kernelspec": {
   "display_name": "Python 3",
   "language": "python",
   "name": "python3"
  },
  "language_info": {
   "codemirror_mode": {
    "name": "ipython",
    "version": 3
   },
   "file_extension": ".py",
   "mimetype": "text/x-python",
   "name": "python",
   "nbconvert_exporter": "python",
   "pygments_lexer": "ipython3",
   "version": "3.8.8"
  },
  "toc": {
   "base_numbering": 1,
   "nav_menu": {},
   "number_sections": true,
   "sideBar": true,
   "skip_h1_title": false,
   "title_cell": "Table of Contents",
   "title_sidebar": "Contents",
   "toc_cell": false,
   "toc_position": {
    "height": "calc(100% - 180px)",
    "left": "10px",
    "top": "150px",
    "width": "321.825px"
   },
   "toc_section_display": true,
   "toc_window_display": true
  },
  "varInspector": {
   "cols": {
    "lenName": 16,
    "lenType": 16,
    "lenVar": 40
   },
   "kernels_config": {
    "python": {
     "delete_cmd_postfix": "",
     "delete_cmd_prefix": "del ",
     "library": "var_list.py",
     "varRefreshCmd": "print(var_dic_list())"
    },
    "r": {
     "delete_cmd_postfix": ") ",
     "delete_cmd_prefix": "rm(",
     "library": "var_list.r",
     "varRefreshCmd": "cat(var_dic_list()) "
    }
   },
   "types_to_exclude": [
    "module",
    "function",
    "builtin_function_or_method",
    "instance",
    "_Feature"
   ],
   "window_display": false
  }
 },
 "nbformat": 4,
 "nbformat_minor": 5
}
