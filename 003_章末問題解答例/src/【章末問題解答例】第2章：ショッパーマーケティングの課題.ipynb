{
 "cells": [
  {
   "cell_type": "markdown",
   "id": "bb6e9092",
   "metadata": {},
   "source": [
    "# 第2章：ショッパーマーケティングの課題"
   ]
  },
  {
   "cell_type": "markdown",
   "id": "a2a91015",
   "metadata": {},
   "source": [
    "## 2.1 鳥居さんの課題を自分なりに整理してみよう。2.3節で挙げた課題1～5に当てはまる課題はあるだろうか？"
   ]
  },
  {
   "cell_type": "markdown",
   "id": "fef64cee",
   "metadata": {},
   "source": [
    "### 【解答例】"
   ]
  },
  {
   "cell_type": "markdown",
   "id": "2e393377",
   "metadata": {},
   "source": [
    "- 鳥居さんは「若い人はあまり商品を検討せずに即決」とか「女性の方がいろいろと商品を検討」という話をされていたが、いずれも「傾向があるよう」とか「してそうな気もする」といった言い方だったので、あまり消費者の購買行動が検証出来てないのかもしれない。もしかしたらペルソナの購買行動（カスタマージャーニー）が実測できていないのかもしれず、「【課題2】ペルソナ/カスタマージャーニーの検証が出来ていない」に通じるところがありそうだ。\n",
    "- 鳥居さんは「ブランドスイッチの余地がありそう」という話をされていたが、商品によって検討されやすい商品（複数商品の中から比較検討されて買われていく商品）とされにくい商品（他の商品と比較検討されることなくほぼ決め打ちで買われていく商品）がありそうだ。これは、「【課題4】計画購買・非計画購買の割合が把握できていない」に通じるところがありそうだ。"
   ]
  },
  {
   "cell_type": "markdown",
   "id": "70df8fb8",
   "metadata": {},
   "source": [
    "### 【解説】"
   ]
  },
  {
   "cell_type": "markdown",
   "id": "909c4004",
   "metadata": {},
   "source": [
    "- 鳥居さんのコメントと2.3節の課題を注意深く照らし合わせて観察してみると、言葉は違っても似たようなことを言っていたり、突き詰めていくと根は同じ問題だったりすることが分かってくるでしょう。\n",
    "- クライアントが話す内容は必ずしも構造化されているとは限りません。むしろ思ったことをそのまま言葉に出してくることが多いでしょう。その際に、一度その言葉を咀嚼して、今回のように他の課題と同じことを言っているのではないか？ということを考えてみるとよいでしょう。"
   ]
  },
  {
   "cell_type": "markdown",
   "id": "165cd210",
   "metadata": {},
   "source": [
    "## 2.2 鳥居さんの課題を解決するためには、どのようにデータを活用していけばよいだろうか？"
   ]
  },
  {
   "cell_type": "markdown",
   "id": "ec8af4a1",
   "metadata": {},
   "source": [
    "### 【解答例】"
   ]
  },
  {
   "cell_type": "markdown",
   "id": "4c0af74a",
   "metadata": {},
   "source": [
    "- 「若い人はあまり商品を検討せずに即決」というのは、売場の滞在時間と商品購入の関係性などを見ていくとよさそうだ。これはGIデータから導き出せそうだ。\n",
    "- 「女性の方がいろいろと商品を検討」というのは、商品の接触点数が男性よりも女性の方が多いかどうかを確認していくと良さそうだ。これもGIデータから導き出せそうだ。"
   ]
  },
  {
   "cell_type": "markdown",
   "id": "85021720",
   "metadata": {},
   "source": [
    "### 【解説】"
   ]
  },
  {
   "cell_type": "markdown",
   "id": "7b5d94f4",
   "metadata": {},
   "source": [
    "- 課題を解決するためにどのようなデータをどのように分析していけば良いのか、具体的に考えることがポイントです。\n",
    "- これを考えることができれば、その後のプログラミングもやりやすくなるでしょう。"
   ]
  }
 ],
 "metadata": {
  "kernelspec": {
   "display_name": "Python 3 (ipykernel)",
   "language": "python",
   "name": "python3"
  },
  "language_info": {
   "codemirror_mode": {
    "name": "ipython",
    "version": 3
   },
   "file_extension": ".py",
   "mimetype": "text/x-python",
   "name": "python",
   "nbconvert_exporter": "python",
   "pygments_lexer": "ipython3",
   "version": "3.8.8"
  },
  "toc": {
   "base_numbering": 1,
   "nav_menu": {},
   "number_sections": true,
   "sideBar": true,
   "skip_h1_title": false,
   "title_cell": "Table of Contents",
   "title_sidebar": "Contents",
   "toc_cell": false,
   "toc_position": {
    "height": "calc(100% - 180px)",
    "left": "10px",
    "top": "150px",
    "width": "321.825px"
   },
   "toc_section_display": true,
   "toc_window_display": true
  },
  "varInspector": {
   "cols": {
    "lenName": 16,
    "lenType": 16,
    "lenVar": 40
   },
   "kernels_config": {
    "python": {
     "delete_cmd_postfix": "",
     "delete_cmd_prefix": "del ",
     "library": "var_list.py",
     "varRefreshCmd": "print(var_dic_list())"
    },
    "r": {
     "delete_cmd_postfix": ") ",
     "delete_cmd_prefix": "rm(",
     "library": "var_list.r",
     "varRefreshCmd": "cat(var_dic_list()) "
    }
   },
   "types_to_exclude": [
    "module",
    "function",
    "builtin_function_or_method",
    "instance",
    "_Feature"
   ],
   "window_display": false
  }
 },
 "nbformat": 4,
 "nbformat_minor": 5
}
