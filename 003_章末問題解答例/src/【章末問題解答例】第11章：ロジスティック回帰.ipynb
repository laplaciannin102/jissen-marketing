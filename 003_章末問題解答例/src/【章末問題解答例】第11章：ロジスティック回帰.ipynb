{
 "cells": [
  {
   "cell_type": "markdown",
   "id": "ca7797a1",
   "metadata": {},
   "source": [
    "# 第11章：ロジスティック回帰"
   ]
  },
  {
   "cell_type": "markdown",
   "id": "fe469dc8",
   "metadata": {},
   "source": [
    "## 11.1 ロジスティック回帰のハイパーパラメータを変更してAUCを向上できないか試してみよう。"
   ]
  },
  {
   "cell_type": "markdown",
   "id": "0afae731",
   "metadata": {},
   "source": [
    "### 【解答例】"
   ]
  },
  {
   "cell_type": "markdown",
   "id": "49889b69",
   "metadata": {},
   "source": [
    "- 途中までは書籍本編と同様の処理を実行する。"
   ]
  },
  {
   "cell_type": "code",
   "execution_count": null,
   "id": "fc4558df",
   "metadata": {},
   "outputs": [],
   "source": [
    "import numpy as np\n",
    "import pandas as pd\n",
    "import matplotlib.pyplot as plt\n",
    "import joblib\n",
    "from sklearn.preprocessing import StandardScaler # 標準化用モジュール\n",
    "from sklearn.model_selection import train_test_split # ホールドアウト用モジュール\n",
    "from sklearn.linear_model import LogisticRegression as logr # ロジスティック回帰用モジュール\n",
    "from sklearn.metrics import accuracy_score, roc_auc_score # 評価指標用モジュール"
   ]
  },
  {
   "cell_type": "code",
   "execution_count": null,
   "id": "69a7d45e",
   "metadata": {},
   "outputs": [],
   "source": [
    "# 前処理済み中間データのdictを読み取る\n",
    "pp_data_dict = joblib.load(\"../intermediate/pp_data_dict.pkl3\")\n",
    "\n",
    "# dictのvalueに格納されたロジスティック回帰向け中間データを読み取る\n",
    "lgr_train_df = pp_data_dict[\"lgr\"][\"train\"]\n",
    "lgr_test_df = pp_data_dict[\"lgr\"][\"test\"]\n",
    "\n",
    "# 6:4の割合でホールドアウト法を行う.\n",
    "lgr_train_train_df, lgr_train_valid_df = train_test_split(lgr_train_df, test_size=0.4, random_state=57, shuffle=True)\n",
    "\n",
    "lgr_train_df.shape, lgr_train_train_df.shape, lgr_train_valid_df.shape, lgr_test_df.shape"
   ]
  },
  {
   "cell_type": "code",
   "execution_count": null,
   "id": "4f6ac46e",
   "metadata": {},
   "outputs": [],
   "source": [
    "# 目的変数をtargetという変数に格納する\n",
    "target = \"buy_flag\"\n",
    "\n",
    "# 説明変数をfeaturesという変数に格納する\n",
    "lgr_features = lgr_train_df.columns.tolist()\n",
    "\n",
    "# customer_idとbuy_flagは説明変数ではない為削除する\n",
    "lgr_features.remove(\"customer_id\")\n",
    "lgr_features.remove(\"buy_flag\")"
   ]
  },
  {
   "cell_type": "code",
   "execution_count": null,
   "id": "4f9a0b17",
   "metadata": {},
   "outputs": [],
   "source": [
    "# ハイパーパラメータチューニング\n",
    "# グリッドサーチ\n",
    "# 探索するハイパーパラメータの候補をリストに格納する.\n",
    "lgr_params_list = [{\"penalty\": \"l2\", \"C\": ii, \"random_state\": 57} for ii in np.arange(0.5, 1.0, 0.005)]\n",
    "lgr_params_list"
   ]
  },
  {
   "cell_type": "code",
   "execution_count": null,
   "id": "cbd52b01",
   "metadata": {},
   "outputs": [],
   "source": [
    "# グリッドサーチの結果を格納するリスト\n",
    "gs_result_list = []\n",
    "\n",
    "# グリッドサーチの実施\n",
    "for params_dict in lgr_params_list:\n",
    "    # 定義する\n",
    "    tmp_lgr_clf = logr(**params_dict, max_iter=1000)\n",
    "    # 学習する\n",
    "    tmp_lgr_clf.fit(lgr_train_train_df[lgr_features], lgr_train_train_df[target])\n",
    "    \n",
    "    # train-trainを予測する（predict関数）\n",
    "    train_pred_y = tmp_lgr_clf.predict(lgr_train_train_df[lgr_features])\n",
    "    \n",
    "    # train-trainを予測する（predict_proba関数）\n",
    "    train_proba_y = tmp_lgr_clf.predict_proba(lgr_train_train_df[lgr_features]).T[1]\n",
    "    \n",
    "    # train-validを予測する（predict関数）\n",
    "    valid_pred_y = tmp_lgr_clf.predict(lgr_train_valid_df[lgr_features])\n",
    "    \n",
    "    # train-validを予測する（predict_proba関数）\n",
    "    valid_proba_y = tmp_lgr_clf.predict_proba(lgr_train_valid_df[lgr_features]).T[1]\n",
    "    \n",
    "    # train-trainを検証する\n",
    "    train_accuracy_val = accuracy_score(lgr_train_train_df[target], train_pred_y)\n",
    "    train_auc_val = roc_auc_score(lgr_train_train_df[target], train_proba_y)\n",
    "    \n",
    "    # train-validを検証する\n",
    "    valid_accuracy_val = accuracy_score(lgr_train_valid_df[target], valid_pred_y)\n",
    "    valid_auc_val = roc_auc_score(lgr_train_valid_df[target], valid_proba_y)\n",
    "    \n",
    "    # リストに格納する\n",
    "    gs_result_list += [[params_dict, params_dict[\"C\"], train_accuracy_val, train_auc_val, valid_accuracy_val, valid_auc_val]]"
   ]
  },
  {
   "cell_type": "code",
   "execution_count": null,
   "id": "396b24e9",
   "metadata": {},
   "outputs": [],
   "source": [
    "# 結果をDataFrameに格納する\n",
    "gs_result_df = pd.DataFrame(gs_result_list, columns=[\"params_dict\", \"L2_regularization_strength\", \"train_accuracy\", \"train_auc\", \"valid_accuracy\", \"valid_auc\"])\n",
    "\n",
    "# 各パラメータ値ごとのvalidのAUCを確認する\n",
    "gs_result_df[[\"params_dict\", \"train_accuracy\", \"train_auc\", \"valid_accuracy\", \"valid_auc\"]].sort_values(by=\"valid_auc\", ascending=False).reset_index(drop=True).head(10)"
   ]
  },
  {
   "cell_type": "markdown",
   "id": "5303bbc2",
   "metadata": {},
   "source": [
    "- どうやらCが0.765の時に最もvalid_aucが高くなるということが分かった。"
   ]
  },
  {
   "cell_type": "markdown",
   "id": "c70144ab",
   "metadata": {},
   "source": [
    "### 【解説】"
   ]
  },
  {
   "cell_type": "markdown",
   "id": "b68e5845",
   "metadata": {},
   "source": [
    "- 本書本編では0.005～0.5の範囲で、この章末問題では0.5～1.0の範囲で、それぞれ0.005刻みで別々に変化させてみましたが、もちろん一括で0.005～1.0の範囲で0.005刻みで変化させてみても良いでしょう。\n",
    "- なお、LogisticRegressionを定義する際に、max_iter=1000を設定しました。これを設定しなくても一応結果は出るのですが、ConvergenceWarningというモデルが収束しないエラーが出ます。max_iterはデフォルトが100に設定されていますが、明示的に1000に設定して反復回数を増やすことで対応しました（その分少し時間がかかるようになります）。"
   ]
  },
  {
   "cell_type": "markdown",
   "id": "08e8243e",
   "metadata": {},
   "source": [
    "## 11.2 第8章の章末問題で自作した特徴量を使ってロジスティック回帰モデルを使って精度を検証してみよう。"
   ]
  },
  {
   "cell_type": "markdown",
   "id": "ae89d21b",
   "metadata": {},
   "source": [
    "### 【解答例】"
   ]
  },
  {
   "cell_type": "markdown",
   "id": "322d4108",
   "metadata": {},
   "source": [
    "- 第8章の章末問題で作成した中間データ（pickleファイル）を使用する"
   ]
  },
  {
   "cell_type": "code",
   "execution_count": null,
   "id": "572de909",
   "metadata": {},
   "outputs": [],
   "source": [
    "# 前処理済み中間データのdictを読み取る\n",
    "shomatsu_pp_data_dict = joblib.load(\"../intermediate/shomatsu_pp_data_dict.pkl3\")\n",
    "\n",
    "# dictのvalueに格納されたロジスティック回帰向け中間データを読み取る\n",
    "shomatsu_lgr_train_df = shomatsu_pp_data_dict[\"lgr\"][\"train\"]\n",
    "shomatsu_lgr_test_df = shomatsu_pp_data_dict[\"lgr\"][\"test\"]\n",
    "\n",
    "# 6:4の割合でホールドアウト法を行う.\n",
    "shomatsu_lgr_train_train_df, shomatsu_lgr_train_valid_df = train_test_split(\n",
    "    shomatsu_lgr_train_df,\n",
    "    test_size=0.4,\n",
    "    random_state=57,\n",
    "    shuffle=True\n",
    ")\n",
    "\n",
    "shomatsu_lgr_train_df.shape, shomatsu_lgr_train_train_df.shape, shomatsu_lgr_train_valid_df.shape, shomatsu_lgr_test_df.shape"
   ]
  },
  {
   "cell_type": "code",
   "execution_count": null,
   "id": "f7f887d0",
   "metadata": {},
   "outputs": [],
   "source": [
    "# 目的変数をtargetという変数に格納する\n",
    "target = \"buy_flag\"\n",
    "\n",
    "# 説明変数をfeaturesという変数に格納する\n",
    "shomatsu_lgr_features = shomatsu_lgr_train_df.columns.tolist()\n",
    "\n",
    "# customer_idとbuy_flagは説明変数ではない為削除する\n",
    "shomatsu_lgr_features.remove(\"customer_id\")\n",
    "shomatsu_lgr_features.remove(\"buy_flag\")"
   ]
  },
  {
   "cell_type": "code",
   "execution_count": null,
   "id": "e04b520b",
   "metadata": {},
   "outputs": [],
   "source": [
    "# ハイパーパラメータチューニング\n",
    "# グリッドサーチ\n",
    "# 探索するハイパーパラメータの候補をリストに格納する.\n",
    "shomatsu_lgr_params_list = [{\"penalty\": \"l2\", \"C\": ii, \"random_state\": 57} for ii in np.arange(0.005, 0.5, 0.005)]\n",
    "\n",
    "# グリッドサーチの結果を格納するリスト．\n",
    "shomatsu_gs_result_list = []\n",
    "\n",
    "# グリッドサーチの実施\n",
    "for params_dict in shomatsu_lgr_params_list:\n",
    "    # 定義する\n",
    "    tmp_shomatsu_lgr_clf = logr(**params_dict, max_iter=1000)\n",
    "    # 学習する\n",
    "    tmp_shomatsu_lgr_clf.fit(shomatsu_lgr_train_train_df[shomatsu_lgr_features], shomatsu_lgr_train_train_df[target])\n",
    "    \n",
    "    # train-trainの予測する（predict関数）\n",
    "    shomatsu_train_pred_y = tmp_shomatsu_lgr_clf.predict(shomatsu_lgr_train_train_df[shomatsu_lgr_features])\n",
    "    \n",
    "    # train-trainの予測する（predict_proba関数）\n",
    "    shomatsu_train_proba_y = tmp_shomatsu_lgr_clf.predict_proba(shomatsu_lgr_train_train_df[shomatsu_lgr_features]).T[1]\n",
    "    \n",
    "    # train-validの予測する（predict関数）\n",
    "    shomatsu_valid_pred_y = tmp_shomatsu_lgr_clf.predict(shomatsu_lgr_train_valid_df[shomatsu_lgr_features])\n",
    "    \n",
    "    # train-validの予測する（predict_proba関数）\n",
    "    shomatsu_valid_proba_y = tmp_shomatsu_lgr_clf.predict_proba(shomatsu_lgr_train_valid_df[shomatsu_lgr_features]).T[1]\n",
    "    \n",
    "    # train-trainの検証する\n",
    "    shomatsu_train_accuracy_val = accuracy_score(shomatsu_lgr_train_train_df[target], shomatsu_train_pred_y)\n",
    "    shomatsu_train_auc_val = roc_auc_score(shomatsu_lgr_train_train_df[target], shomatsu_train_proba_y)\n",
    "    \n",
    "    # train-validの検証する\n",
    "    shomatsu_valid_accuracy_val = accuracy_score(shomatsu_lgr_train_valid_df[target], shomatsu_valid_pred_y)\n",
    "    shomatsu_valid_auc_val = roc_auc_score(shomatsu_lgr_train_valid_df[target], shomatsu_valid_proba_y)\n",
    "    \n",
    "    # リストに格納する\n",
    "    shomatsu_gs_result_list += [[\n",
    "        params_dict,\n",
    "        params_dict[\"C\"],\n",
    "        shomatsu_train_accuracy_val,\n",
    "        shomatsu_train_auc_val,\n",
    "        shomatsu_valid_accuracy_val,\n",
    "        shomatsu_valid_auc_val\n",
    "    ]]"
   ]
  },
  {
   "cell_type": "code",
   "execution_count": null,
   "id": "e4a7a594",
   "metadata": {},
   "outputs": [],
   "source": [
    "# 結果をDataFrameに格納する．\n",
    "shomatsu_gs_result_df = pd.DataFrame(\n",
    "    shomatsu_gs_result_list,\n",
    "    columns=[\"params_dict\", \"L2_regularization_strength\", \"train_accuracy\", \"train_auc\", \"valid_accuracy\", \"valid_auc\"]\n",
    ")\n",
    "\n",
    "# 各パラメータ値ごとのvalidのAUCを確認する.\n",
    "shomatsu_gs_result_df.sort_values(by=\"valid_auc\", ascending=False).reset_index(drop=True).head(10)"
   ]
  },
  {
   "cell_type": "code",
   "execution_count": null,
   "id": "28d83c0c",
   "metadata": {},
   "outputs": [],
   "source": [
    "# Accuracyの可視化\n",
    "plt.figure(figsize=(6, 5), facecolor=\"white\", dpi=150)\n",
    "plt.plot(shomatsu_gs_result_df[\"L2_regularization_strength\"], shomatsu_gs_result_df[\"train_accuracy\"], label=\"train_accuracy\") # train accuracy\n",
    "plt.plot(shomatsu_gs_result_df[\"L2_regularization_strength\"], shomatsu_gs_result_df[\"valid_accuracy\"], label=\"valid_accuracy\") # valid accuracy\n",
    "plt.title(\"Accuracy\\nlgr L2_regularization_strength tuning\", fontsize=10)\n",
    "plt.xlabel(\"L2_regularization_strength\", fontsize=10)\n",
    "plt.ylabel(\"Accuracy\", fontsize=10)\n",
    "plt.legend()\n",
    "plt.grid()\n",
    "plt.show()"
   ]
  },
  {
   "cell_type": "code",
   "execution_count": null,
   "id": "98d8527c",
   "metadata": {},
   "outputs": [],
   "source": [
    "# AUCの可視化\n",
    "plt.figure(figsize=(6, 5), facecolor=\"white\", dpi=150)\n",
    "plt.plot(shomatsu_gs_result_df[\"L2_regularization_strength\"], shomatsu_gs_result_df[\"train_auc\"], label=\"train_auc\") # train auc\n",
    "plt.plot(shomatsu_gs_result_df[\"L2_regularization_strength\"], shomatsu_gs_result_df[\"valid_auc\"], label=\"valid_auc\") # valid auc\n",
    "plt.title(\"AUC\\nlgr L2_regularization_strength tuning\", fontsize=10)\n",
    "plt.xlabel(\"L2_regularization_strength\", fontsize=10)\n",
    "plt.ylabel(\"AUC\", fontsize=10)\n",
    "plt.legend()\n",
    "plt.grid()\n",
    "plt.show()"
   ]
  },
  {
   "cell_type": "code",
   "execution_count": null,
   "id": "32927704",
   "metadata": {},
   "outputs": [],
   "source": [
    "# train-validのAUCが最も高いハイパーパラメータの組み合わせを変数に格納する.\n",
    "shomatsu_lgr_best_idx = np.argmax(shomatsu_gs_result_df[\"valid_auc\"])\n",
    "shomatsu_lgr_best_params = shomatsu_gs_result_df[\"params_dict\"].values[shomatsu_lgr_best_idx]\n",
    "shomatsu_lgr_best_score = shomatsu_gs_result_df[\"valid_auc\"].values[shomatsu_lgr_best_idx]\n",
    "\n",
    "# 内容を確認\n",
    "print(\"lgr_best_params:\", shomatsu_lgr_best_params)\n",
    "print(\"lgr_best_score:\", shomatsu_lgr_best_score)"
   ]
  },
  {
   "cell_type": "code",
   "execution_count": null,
   "id": "da488416",
   "metadata": {},
   "outputs": [],
   "source": [
    "# 最適化したハイパーパラメータを使用してモデルを定義する\n",
    "shomatsu_lgr_clf = logr(**shomatsu_lgr_best_params, max_iter=1000)\n",
    "\n",
    "# 学習する\n",
    "shomatsu_lgr_clf.fit(shomatsu_lgr_train_df[shomatsu_lgr_features], shomatsu_lgr_train_df[target])"
   ]
  },
  {
   "cell_type": "code",
   "execution_count": null,
   "id": "534467ea",
   "metadata": {},
   "outputs": [],
   "source": [
    "# 標準化されていないことを確認する\n",
    "shomatsu_lgr_train_df[shomatsu_lgr_features].describe()"
   ]
  },
  {
   "cell_type": "code",
   "execution_count": null,
   "id": "87850e4d",
   "metadata": {},
   "outputs": [],
   "source": [
    "# 説明変数の標準化を行う\n",
    "scaler = StandardScaler()\n",
    "shomatsu_lgr_train_df[shomatsu_lgr_features] = scaler.fit_transform(shomatsu_lgr_train_df[shomatsu_lgr_features])\n",
    "\n",
    "# 標準化されたことを確認する\n",
    "shomatsu_lgr_train_df[shomatsu_lgr_features].describe()"
   ]
  },
  {
   "cell_type": "code",
   "execution_count": null,
   "id": "bbe5cd28",
   "metadata": {},
   "outputs": [],
   "source": [
    "# 最適化したハイパーパラメータを使用してモデルを定義する\n",
    "shomatsu_lgr_clf = logr(**shomatsu_lgr_best_params, max_iter=1000)\n",
    "\n",
    "# 学習する\n",
    "shomatsu_lgr_clf.fit(shomatsu_lgr_train_df[shomatsu_lgr_features], shomatsu_lgr_train_df[target])"
   ]
  },
  {
   "cell_type": "code",
   "execution_count": null,
   "id": "423e4a57",
   "metadata": {},
   "outputs": [],
   "source": [
    "# 偏回帰係数を確認する.\n",
    "shomatsu_lgr_coef_df = pd.DataFrame({\"feature\": shomatsu_lgr_features, \"coefficient\": shomatsu_lgr_clf.coef_[0]})\n",
    "shomatsu_lgr_coef_df = shomatsu_lgr_coef_df.append(pd.DataFrame({\"feature\": \"constant\", \"coefficient\": shomatsu_lgr_clf.intercept_}))\n",
    "shomatsu_lgr_coef_df[\"abs_coefficient\"] = shomatsu_lgr_coef_df[\"coefficient\"].abs()\n",
    "shomatsu_lgr_coef_df = shomatsu_lgr_coef_df.sort_values(by=\"abs_coefficient\", ascending=False).reset_index(drop=True)\n",
    "shomatsu_lgr_coef_df.head(15)"
   ]
  },
  {
   "cell_type": "code",
   "execution_count": null,
   "id": "abb768b2",
   "metadata": {},
   "outputs": [],
   "source": [
    "# trainの予測する\n",
    "shomatsu_train_pred_y = shomatsu_lgr_clf.predict(shomatsu_lgr_train_df[shomatsu_lgr_features])\n",
    "shomatsu_train_proba_y = shomatsu_lgr_clf.predict_proba(shomatsu_lgr_train_df[shomatsu_lgr_features]).T[1]\n",
    "\n",
    "# trainの検証する\n",
    "shomatsu_train_accuracy_val = accuracy_score(shomatsu_lgr_train_df[target], shomatsu_train_pred_y)\n",
    "shomatsu_train_auc_val = roc_auc_score(shomatsu_lgr_train_df[target], shomatsu_train_proba_y)\n",
    "shomatsu_train_accuracy_val, shomatsu_train_auc_val"
   ]
  },
  {
   "cell_type": "code",
   "execution_count": null,
   "id": "f5fa524b",
   "metadata": {},
   "outputs": [],
   "source": [
    "# testの予測する\n",
    "shomatsu_test_pred_y = shomatsu_lgr_clf.predict(shomatsu_lgr_test_df[shomatsu_lgr_features])\n",
    "shomatsu_test_proba_y = shomatsu_lgr_clf.predict_proba(shomatsu_lgr_test_df[shomatsu_lgr_features]).T[1]"
   ]
  },
  {
   "cell_type": "code",
   "execution_count": null,
   "id": "0cbea652",
   "metadata": {},
   "outputs": [],
   "source": [
    "# sample submitデータを読み込む\n",
    "gi_sample_submit_df = pd.read_csv(\"../input/gi_sample_submit.csv\")"
   ]
  },
  {
   "cell_type": "code",
   "execution_count": null,
   "id": "cba9027a",
   "metadata": {},
   "outputs": [],
   "source": [
    "# submit向けDataFrameを作成し、列に予測確率を格納する\n",
    "shomatsu_submit_df = shomatsu_lgr_test_df.copy()[[\"customer_id\"]]\n",
    "shomatsu_submit_df[\"buy_proba\"] = shomatsu_test_proba_y\n",
    "shomatsu_submit_df.head()"
   ]
  },
  {
   "cell_type": "code",
   "execution_count": null,
   "id": "785c6635",
   "metadata": {},
   "outputs": [],
   "source": [
    "gi_sample_submit_df.shape, shomatsu_submit_df.shape"
   ]
  },
  {
   "cell_type": "code",
   "execution_count": null,
   "id": "563b4dcc",
   "metadata": {},
   "outputs": [],
   "source": [
    "# outputディレクトリにsubmit用ファイルを出力する\n",
    "shomatsu_submit_df.to_csv(f\"../output/shomatsu_submit_lgr.csv\", encoding=\"utf-8\", index=False)"
   ]
  },
  {
   "cell_type": "markdown",
   "id": "2b87de4f",
   "metadata": {},
   "source": [
    "### 【解説】"
   ]
  },
  {
   "cell_type": "markdown",
   "id": "fa5ae77d",
   "metadata": {},
   "source": [
    "- ロジスティック回帰も決定木と同様で、機械学習モデル構築のプロセスは書籍本編とほぼ同じプログラムとなります。\n",
    "- 従って、元となるDataFrame（特徴量）を入れ替えてあげれば、そのまま同様のプログラムを活用することが可能です。"
   ]
  }
 ],
 "metadata": {
  "kernelspec": {
   "display_name": "Python 3 (ipykernel)",
   "language": "python",
   "name": "python3"
  },
  "language_info": {
   "codemirror_mode": {
    "name": "ipython",
    "version": 3
   },
   "file_extension": ".py",
   "mimetype": "text/x-python",
   "name": "python",
   "nbconvert_exporter": "python",
   "pygments_lexer": "ipython3",
   "version": "3.8.8"
  },
  "toc": {
   "base_numbering": 1,
   "nav_menu": {},
   "number_sections": true,
   "sideBar": true,
   "skip_h1_title": false,
   "title_cell": "Table of Contents",
   "title_sidebar": "Contents",
   "toc_cell": false,
   "toc_position": {
    "height": "calc(100% - 180px)",
    "left": "10px",
    "top": "150px",
    "width": "321.825px"
   },
   "toc_section_display": true,
   "toc_window_display": true
  },
  "varInspector": {
   "cols": {
    "lenName": 16,
    "lenType": 16,
    "lenVar": 40
   },
   "kernels_config": {
    "python": {
     "delete_cmd_postfix": "",
     "delete_cmd_prefix": "del ",
     "library": "var_list.py",
     "varRefreshCmd": "print(var_dic_list())"
    },
    "r": {
     "delete_cmd_postfix": ") ",
     "delete_cmd_prefix": "rm(",
     "library": "var_list.r",
     "varRefreshCmd": "cat(var_dic_list()) "
    }
   },
   "types_to_exclude": [
    "module",
    "function",
    "builtin_function_or_method",
    "instance",
    "_Feature"
   ],
   "window_display": false
  }
 },
 "nbformat": 4,
 "nbformat_minor": 5
}
