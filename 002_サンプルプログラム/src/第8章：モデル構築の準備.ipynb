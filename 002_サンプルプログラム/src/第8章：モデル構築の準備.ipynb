{
 "cells": [
  {
   "cell_type": "markdown",
   "id": "1316fb3f",
   "metadata": {},
   "source": [
    "# 第8章：モデル構築の準備"
   ]
  },
  {
   "cell_type": "markdown",
   "id": "1d0113c5",
   "metadata": {},
   "source": [
    "## 8.4 特徴量を作成する"
   ]
  },
  {
   "cell_type": "markdown",
   "id": "0aadbbf0",
   "metadata": {},
   "source": [
    "### 8.4.3 ライブラリの宣言"
   ]
  },
  {
   "cell_type": "code",
   "execution_count": null,
   "id": "e6f5ad6c",
   "metadata": {
    "ExecuteTime": {
     "end_time": "2022-09-21T10:41:16.767792Z",
     "start_time": "2022-09-21T10:41:16.357889Z"
    },
    "scrolled": true
   },
   "outputs": [],
   "source": [
    "import numpy as np\n",
    "import pandas as pd\n",
    "\n",
    "gi_train_mm10_df = pd.read_csv(\"../input/gi_train_mm10.csv\") # 10月のデータ\n",
    "gi_train_mm11_df = pd.read_csv(\"../input/gi_train_mm11.csv\") # 11月のデータ\n",
    "\n",
    "# pandasのconcatで結合する\n",
    "gi_train_df = pd.concat([gi_train_mm10_df, gi_train_mm11_df], axis=0)\n",
    "pp_gi_train_df = gi_train_df[gi_train_df[\"customer_id\"].notna()].copy()\n",
    "\n",
    "# 各event_typeごとのDataFrameを作成\n",
    "pp_gi_train_df_et1 = pp_gi_train_df[pp_gi_train_df[\"event_type\"] == 1]\n",
    "pp_gi_train_df_et2 = pp_gi_train_df[pp_gi_train_df[\"event_type\"] == 2]\n",
    "pp_gi_train_df_et3 = pp_gi_train_df[pp_gi_train_df[\"event_type\"] == 3]"
   ]
  },
  {
   "cell_type": "code",
   "execution_count": null,
   "id": "478b2ee2",
   "metadata": {
    "ExecuteTime": {
     "end_time": "2022-09-21T10:41:16.779762Z",
     "start_time": "2022-09-21T10:41:16.768789Z"
    }
   },
   "outputs": [],
   "source": [
    "contact_list = pp_gi_train_df_et3[\"customer_id\"].drop_duplicates()\n",
    "contact_list"
   ]
  },
  {
   "cell_type": "code",
   "execution_count": null,
   "id": "97573778",
   "metadata": {
    "ExecuteTime": {
     "end_time": "2022-09-21T10:41:16.799326Z",
     "start_time": "2022-09-21T10:41:16.781756Z"
    }
   },
   "outputs": [],
   "source": [
    "pp_gi_train_df_et1_rev = pp_gi_train_df_et1[pp_gi_train_df_et1[\"customer_id\"].isin(contact_list)]\n",
    "pp_gi_train_df_et1_rev.head()"
   ]
  },
  {
   "cell_type": "code",
   "execution_count": null,
   "id": "a255afe7",
   "metadata": {
    "ExecuteTime": {
     "end_time": "2022-09-21T10:41:16.817277Z",
     "start_time": "2022-09-21T10:41:16.800324Z"
    }
   },
   "outputs": [],
   "source": [
    "pp_gi_train_df_et2_rev = pp_gi_train_df_et2[pp_gi_train_df_et2[\"customer_id\"].isin(contact_list)]\n",
    "pp_gi_train_df_et2_rev.head()"
   ]
  },
  {
   "cell_type": "markdown",
   "id": "54dda7ac",
   "metadata": {},
   "source": [
    "### 8.4.5 属性情報とフレーム滞在時間の抽出"
   ]
  },
  {
   "cell_type": "code",
   "execution_count": null,
   "id": "08282b4b",
   "metadata": {
    "ExecuteTime": {
     "end_time": "2022-09-21T10:41:16.831241Z",
     "start_time": "2022-09-21T10:41:16.818275Z"
    }
   },
   "outputs": [],
   "source": [
    "output_df = pp_gi_train_df_et1_rev[[\"customer_id\", \"event_day\", \"gender\", \"age\", \"time_duration\"]].copy()\n",
    "output_df"
   ]
  },
  {
   "cell_type": "markdown",
   "id": "11ddec12",
   "metadata": {},
   "source": [
    "### 8.4.6 カテゴリ変数のダミー変数化"
   ]
  },
  {
   "cell_type": "code",
   "execution_count": null,
   "id": "6e67cf7d",
   "metadata": {
    "ExecuteTime": {
     "end_time": "2022-09-21T10:41:16.859166Z",
     "start_time": "2022-09-21T10:41:16.834233Z"
    }
   },
   "outputs": [],
   "source": [
    "# カテゴリ変数をまとめたリスト\n",
    "cate_cols = [\"event_day\", \"gender\", \"age\"]\n",
    "# ダミー変数化\n",
    "output_df = pd.get_dummies(data=output_df, columns=cate_cols)\n",
    "output_df"
   ]
  },
  {
   "cell_type": "markdown",
   "id": "3565d39c",
   "metadata": {},
   "source": [
    "### 8.4.7 各エリアの最大滞在時間の算出"
   ]
  },
  {
   "cell_type": "code",
   "execution_count": null,
   "id": "01ee3c84",
   "metadata": {
    "ExecuteTime": {
     "end_time": "2022-09-21T10:41:16.867144Z",
     "start_time": "2022-09-21T10:41:16.860163Z"
    }
   },
   "outputs": [],
   "source": [
    "# エリアIDのリストを数値型で作成\n",
    "area_id_list = sorted(pp_gi_train_df_et2_rev[\"area_id\"].astype(int).unique().tolist())\n",
    "area_id_list"
   ]
  },
  {
   "cell_type": "code",
   "execution_count": null,
   "id": "41df7bcf",
   "metadata": {
    "ExecuteTime": {
     "end_time": "2022-09-21T10:41:16.909032Z",
     "start_time": "2022-09-21T10:41:16.868141Z"
    }
   },
   "outputs": [],
   "source": [
    "# areaのtime_duration関連のカラムを格納するリスト\n",
    "area_time_duration_cols = []\n",
    "\n",
    "# 各エリアについてループ処理\n",
    "for tmp_area_id in area_id_list:\n",
    "    # 当該エリアのtime_durationを取得\n",
    "    #（この時点ではcustomer_idについて複数レコードが存在する）\n",
    "    tmp_area_duration_df = pp_gi_train_df_et2_rev[pp_gi_train_df_et2_rev[\"area_id\"]==tmp_area_id][[\"customer_id\", \"time_duration\"]]\n",
    "    # そのうちcusotmer_idごとに最大値を取得する\n",
    "    tmp_area_duration_df = tmp_area_duration_df.groupby(by=[\"customer_id\"]).max().reset_index(drop=False)\n",
    "\n",
    "    # カラム名を指定する\n",
    "    tmp_area_max_time_duration_col = f\"area{tmp_area_id}_max_time_duration\"\n",
    "    area_time_duration_cols += [tmp_area_max_time_duration_col]\n",
    "    tmp_area_duration_df = tmp_area_duration_df.rename(columns={\"time_duration\": tmp_area_max_time_duration_col})\n",
    "    \n",
    "    # customer_idをキーとしてoutput_dfに結合する\n",
    "    output_df = pd.merge(output_df, tmp_area_duration_df, on=[\"customer_id\"], how=\"left\")"
   ]
  },
  {
   "cell_type": "code",
   "execution_count": null,
   "id": "70181fc9",
   "metadata": {
    "ExecuteTime": {
     "end_time": "2022-09-21T10:41:16.936957Z",
     "start_time": "2022-09-21T10:41:16.910029Z"
    }
   },
   "outputs": [],
   "source": [
    "output_df"
   ]
  },
  {
   "cell_type": "code",
   "execution_count": null,
   "id": "ceea4c7c",
   "metadata": {
    "ExecuteTime": {
     "end_time": "2022-09-21T10:41:16.944937Z",
     "start_time": "2022-09-21T10:41:16.938952Z"
    }
   },
   "outputs": [],
   "source": [
    "area_time_duration_cols"
   ]
  },
  {
   "cell_type": "markdown",
   "id": "2a05a324",
   "metadata": {},
   "source": [
    "### 8.4.8 目的変数（buy_flag）の追加"
   ]
  },
  {
   "cell_type": "code",
   "execution_count": null,
   "id": "e7e9ca3b",
   "metadata": {
    "ExecuteTime": {
     "end_time": "2022-09-21T10:41:16.960894Z",
     "start_time": "2022-09-21T10:41:16.945934Z"
    }
   },
   "outputs": [],
   "source": [
    "buy_flag_df = pp_gi_train_df_et3[pp_gi_train_df_et3[\"buy_flag\"] == 1].drop_duplicates(subset=\"customer_id\")[[\"customer_id\", \"buy_flag\"]].copy()\n",
    "buy_flag_df"
   ]
  },
  {
   "cell_type": "code",
   "execution_count": null,
   "id": "a40fb3b7",
   "metadata": {
    "ExecuteTime": {
     "end_time": "2022-09-21T10:41:16.988819Z",
     "start_time": "2022-09-21T10:41:16.961891Z"
    }
   },
   "outputs": [],
   "source": [
    "# マージしてoutput_dfに格納\n",
    "output_df = pd.merge(output_df, buy_flag_df, on=\"customer_id\", how=\"left\")\n",
    "# buy_flagについて0埋めとint型への変更を実施\n",
    "output_df[\"buy_flag\"] = output_df[\"buy_flag\"].fillna(0)\n",
    "output_df[\"buy_flag\"] = output_df[\"buy_flag\"].astype(int)\n",
    "output_df"
   ]
  },
  {
   "cell_type": "markdown",
   "id": "53a2a722",
   "metadata": {},
   "source": [
    "#### 8.4.9 欠損値の補間"
   ]
  },
  {
   "cell_type": "code",
   "execution_count": null,
   "id": "26c38a73",
   "metadata": {
    "ExecuteTime": {
     "end_time": "2022-09-21T10:41:17.000788Z",
     "start_time": "2022-09-21T10:41:16.989818Z"
    }
   },
   "outputs": [],
   "source": [
    "# 木系モデルの欠損値処理（-1埋め）\n",
    "# エリア1～5についてループを回す\n",
    "dtc_pp_gi_train_df = output_df.copy()\n",
    "for col in area_time_duration_cols:\n",
    "    dtc_pp_gi_train_df[col] = dtc_pp_gi_train_df[col].fillna(-1)\n",
    "\n",
    "# ロジスティック回帰モデルの欠損値処理（0埋め）\n",
    "# エリア1～5についてループを回す\n",
    "lgr_pp_gi_train_df = output_df.copy()\n",
    "for col in area_time_duration_cols:\n",
    "    lgr_pp_gi_train_df[col] = lgr_pp_gi_train_df[col].fillna(0)"
   ]
  },
  {
   "cell_type": "code",
   "execution_count": null,
   "id": "00eaeafe",
   "metadata": {
    "ExecuteTime": {
     "end_time": "2022-09-21T10:41:17.042675Z",
     "start_time": "2022-09-21T10:41:17.002783Z"
    }
   },
   "outputs": [],
   "source": [
    "dtc_pp_gi_train_df"
   ]
  },
  {
   "cell_type": "code",
   "execution_count": null,
   "id": "11ab13d3",
   "metadata": {
    "ExecuteTime": {
     "end_time": "2022-09-21T10:41:17.071598Z",
     "start_time": "2022-09-21T10:41:17.043673Z"
    }
   },
   "outputs": [],
   "source": [
    "lgr_pp_gi_train_df"
   ]
  },
  {
   "cell_type": "markdown",
   "id": "bb0e5d52",
   "metadata": {},
   "source": [
    "## 8.5 テストデータの特徴量抽出"
   ]
  },
  {
   "cell_type": "markdown",
   "id": "2149e663",
   "metadata": {},
   "source": [
    "### 8.5.1 テストデータの確認"
   ]
  },
  {
   "cell_type": "code",
   "execution_count": null,
   "id": "a3a6285a",
   "metadata": {
    "ExecuteTime": {
     "end_time": "2022-09-21T10:41:17.112809Z",
     "start_time": "2022-09-21T10:41:17.072595Z"
    },
    "scrolled": true
   },
   "outputs": [],
   "source": [
    "# GIのtestデータを読み込む\n",
    "gi_test_df = pd.read_csv(\"../input/gi_test.csv\")\n",
    "gi_test_df.head()"
   ]
  },
  {
   "cell_type": "markdown",
   "id": "38f7c679",
   "metadata": {},
   "source": [
    "### 8.5.2 テストデータの特徴量抽出"
   ]
  },
  {
   "cell_type": "code",
   "execution_count": null,
   "id": "e008d43c",
   "metadata": {
    "ExecuteTime": {
     "end_time": "2022-09-21T10:41:17.136746Z",
     "start_time": "2022-09-21T10:41:17.113807Z"
    }
   },
   "outputs": [],
   "source": [
    "# 各event_typeごとのDataFrameを作成\n",
    "pp_gi_test_df_et1 = gi_test_df[gi_test_df[\"event_type\"] == 1]\n",
    "pp_gi_test_df_et2 = gi_test_df[gi_test_df[\"event_type\"] == 2]\n",
    "pp_gi_test_df_et3 = gi_test_df[gi_test_df[\"event_type\"] == 3]\n",
    "\n",
    "output_df = pp_gi_test_df_et1[[\"customer_id\", \"event_day\", \"gender\", \"age\", \"time_duration\"]].copy()\n",
    "\n",
    "# ダミー変数化\n",
    "output_df = pd.get_dummies(data=output_df, columns=cate_cols)\n",
    "output_df"
   ]
  },
  {
   "cell_type": "code",
   "execution_count": null,
   "id": "dff26ef2",
   "metadata": {
    "ExecuteTime": {
     "end_time": "2022-09-21T10:41:17.142728Z",
     "start_time": "2022-09-21T10:41:17.137742Z"
    }
   },
   "outputs": [],
   "source": [
    "area_time_duration_cols"
   ]
  },
  {
   "cell_type": "code",
   "execution_count": null,
   "id": "7b4d93b3",
   "metadata": {
    "ExecuteTime": {
     "end_time": "2022-09-21T10:41:17.176639Z",
     "start_time": "2022-09-21T10:41:17.143727Z"
    }
   },
   "outputs": [],
   "source": [
    "# 各エリアについてループ処理\n",
    "for tmp_area_id in area_id_list:\n",
    "    # 当該エリアのtime_durationを取得\n",
    "    #（この時点ではcustomer_idについて複数レコードが存在する）\n",
    "    tmp_area_duration_df = pp_gi_test_df_et2[pp_gi_test_df_et2[\"area_id\"]==tmp_area_id][[\"customer_id\", \"time_duration\"]]\n",
    "    # そのうちcusotmer_idごとに最大値を取得する\n",
    "    tmp_area_duration_df = tmp_area_duration_df.groupby(by=[\"customer_id\"]).max().reset_index(drop=False)\n",
    "\n",
    "    # カラム名を指定する\n",
    "    tmp_area_max_time_duration_col = f\"area{tmp_area_id}_max_time_duration\"\n",
    "    tmp_area_duration_df = tmp_area_duration_df.rename(columns={\"time_duration\": tmp_area_max_time_duration_col})\n",
    "    \n",
    "    # customer_idをキーとしてoutput_dfに結合する\n",
    "    output_df = pd.merge(output_df, tmp_area_duration_df, on=[\"customer_id\"], how=\"left\")"
   ]
  },
  {
   "cell_type": "code",
   "execution_count": null,
   "id": "1282d0c7",
   "metadata": {
    "ExecuteTime": {
     "end_time": "2022-09-21T10:41:17.198579Z",
     "start_time": "2022-09-21T10:41:17.177636Z"
    }
   },
   "outputs": [],
   "source": [
    "output_df"
   ]
  },
  {
   "cell_type": "code",
   "execution_count": null,
   "id": "37e82119",
   "metadata": {
    "ExecuteTime": {
     "end_time": "2022-09-21T10:41:17.208553Z",
     "start_time": "2022-09-21T10:41:17.199577Z"
    }
   },
   "outputs": [],
   "source": [
    "# 木系モデルの欠損値処理（-1埋め）\n",
    "# エリア1～5についてループを回す\n",
    "dtc_pp_gi_test_df = output_df.copy()\n",
    "for col in area_time_duration_cols:\n",
    "    dtc_pp_gi_test_df[col] = dtc_pp_gi_test_df[col].fillna(-1)\n",
    "\n",
    "# ロジスティック回帰モデルの欠損値処理（0埋め）\n",
    "# エリア1～5についてループを回す\n",
    "lgr_pp_gi_test_df = output_df.copy()\n",
    "for col in area_time_duration_cols:\n",
    "    lgr_pp_gi_test_df[col] = lgr_pp_gi_test_df[col].fillna(0)"
   ]
  },
  {
   "cell_type": "code",
   "execution_count": null,
   "id": "cf13dba0",
   "metadata": {
    "ExecuteTime": {
     "end_time": "2022-09-21T10:41:17.230495Z",
     "start_time": "2022-09-21T10:41:17.209551Z"
    }
   },
   "outputs": [],
   "source": [
    "dtc_pp_gi_test_df"
   ]
  },
  {
   "cell_type": "code",
   "execution_count": null,
   "id": "b27cbdcf",
   "metadata": {
    "ExecuteTime": {
     "end_time": "2022-09-21T10:41:17.259417Z",
     "start_time": "2022-09-21T10:41:17.232489Z"
    }
   },
   "outputs": [],
   "source": [
    "lgr_pp_gi_test_df"
   ]
  },
  {
   "cell_type": "markdown",
   "id": "8d56d142",
   "metadata": {},
   "source": [
    "## 8.6 準備結果の出力"
   ]
  },
  {
   "cell_type": "markdown",
   "id": "9301d68f",
   "metadata": {},
   "source": [
    "### 8.6.2 csvファイル形式の出力"
   ]
  },
  {
   "cell_type": "code",
   "execution_count": null,
   "id": "c7126a91",
   "metadata": {
    "ExecuteTime": {
     "end_time": "2022-09-21T10:41:17.355161Z",
     "start_time": "2022-09-21T10:41:17.261412Z"
    }
   },
   "outputs": [],
   "source": [
    "# 出力するファイルパスを設定\n",
    "dtc_pp_gi_train_df_csv = \"../intermediate/dtc_pp_gi_train_df_csv.csv\"\n",
    "dtc_pp_gi_test_df_csv = \"../intermediate/dtc_pp_gi_test_df_csv.csv\"\n",
    "lgr_pp_gi_train_df_csv = \"../intermediate/lgr_pp_gi_train_df_csv.csv\"\n",
    "lgr_pp_gi_test_df_csv = \"../intermediate/lgr_pp_gi_test_df_csv.csv\"\n",
    "\n",
    "# csv出力\n",
    "dtc_pp_gi_train_df.to_csv(dtc_pp_gi_train_df_csv, encoding=\"shift_jis\")\n",
    "dtc_pp_gi_test_df.to_csv(dtc_pp_gi_test_df_csv, encoding=\"shift_jis\")\n",
    "lgr_pp_gi_train_df.to_csv(lgr_pp_gi_train_df_csv, encoding=\"shift_jis\")\n",
    "lgr_pp_gi_test_df.to_csv(lgr_pp_gi_test_df_csv, encoding=\"shift_jis\")"
   ]
  },
  {
   "cell_type": "markdown",
   "id": "6eda1e02",
   "metadata": {},
   "source": [
    "### 8.6.3 pickleファイル形式の出力"
   ]
  },
  {
   "cell_type": "code",
   "execution_count": null,
   "id": "1c677326",
   "metadata": {
    "ExecuteTime": {
     "end_time": "2022-09-21T10:41:17.361146Z",
     "start_time": "2022-09-21T10:41:17.356158Z"
    }
   },
   "outputs": [],
   "source": [
    "# dict型変数に前処理済みデータをまとめて格納する.\n",
    "pp_data_dict = {\"dtc\": {\"train\": dtc_pp_gi_train_df, \"test\": dtc_pp_gi_test_df}, \"lgr\": {\"train\": lgr_pp_gi_train_df, \"test\": lgr_pp_gi_test_df}}"
   ]
  },
  {
   "cell_type": "code",
   "execution_count": null,
   "id": "91a865f9",
   "metadata": {
    "ExecuteTime": {
     "end_time": "2022-09-21T10:41:17.415001Z",
     "start_time": "2022-09-21T10:41:17.364138Z"
    }
   },
   "outputs": [],
   "source": [
    "# 出力するpickleのファイルパスを設定\n",
    "pp_data_dict_pkl_fpath = \"../intermediate/pp_data_dict.pkl3\"\n",
    "# joblibを使用して, pickleファイルを出力する\n",
    "import joblib\n",
    "joblib.dump(pp_data_dict, pp_data_dict_pkl_fpath, compress=3)"
   ]
  }
 ],
 "metadata": {
  "kernelspec": {
   "display_name": "Python 3 (ipykernel)",
   "language": "python",
   "name": "python3"
  },
  "language_info": {
   "codemirror_mode": {
    "name": "ipython",
    "version": 3
   },
   "file_extension": ".py",
   "mimetype": "text/x-python",
   "name": "python",
   "nbconvert_exporter": "python",
   "pygments_lexer": "ipython3",
   "version": "3.8.8"
  },
  "toc": {
   "base_numbering": 1,
   "nav_menu": {},
   "number_sections": true,
   "sideBar": true,
   "skip_h1_title": false,
   "title_cell": "Table of Contents",
   "title_sidebar": "Contents",
   "toc_cell": false,
   "toc_position": {},
   "toc_section_display": true,
   "toc_window_display": true
  },
  "varInspector": {
   "cols": {
    "lenName": 16,
    "lenType": 16,
    "lenVar": 40
   },
   "kernels_config": {
    "python": {
     "delete_cmd_postfix": "",
     "delete_cmd_prefix": "del ",
     "library": "var_list.py",
     "varRefreshCmd": "print(var_dic_list())"
    },
    "r": {
     "delete_cmd_postfix": ") ",
     "delete_cmd_prefix": "rm(",
     "library": "var_list.r",
     "varRefreshCmd": "cat(var_dic_list()) "
    }
   },
   "types_to_exclude": [
    "module",
    "function",
    "builtin_function_or_method",
    "instance",
    "_Feature"
   ],
   "window_display": false
  }
 },
 "nbformat": 4,
 "nbformat_minor": 5
}
