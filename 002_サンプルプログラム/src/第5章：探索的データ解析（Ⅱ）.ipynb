{
 "cells": [
  {
   "cell_type": "markdown",
   "id": "f7723315",
   "metadata": {},
   "source": [
    "# 第5章：探索的データ解析（Ⅱ）"
   ]
  },
  {
   "cell_type": "markdown",
   "id": "01650295",
   "metadata": {},
   "source": [
    "## 5.1 エリア情報を確認する"
   ]
  },
  {
   "cell_type": "markdown",
   "id": "23bae89c",
   "metadata": {},
   "source": [
    "### 5.1.1 基本処理の再実行"
   ]
  },
  {
   "cell_type": "code",
   "execution_count": null,
   "id": "a075f7be",
   "metadata": {
    "ExecuteTime": {
     "end_time": "2022-07-06T02:38:43.837925Z",
     "start_time": "2022-07-06T02:38:19.219266Z"
    }
   },
   "outputs": [],
   "source": [
    "import numpy as np\n",
    "import pandas as pd\n",
    "import matplotlib.pyplot as plt\n",
    "%matplotlib inline\n",
    "\n",
    "df1 = pd.read_csv(\"../input/gi_train_mm10.csv\") # 10月のデータ\n",
    "df2 = pd.read_csv(\"../input/gi_train_mm11.csv\") # 11月のデータ\n",
    "\n",
    "df_tmp = pd.concat([df1, df2])\n",
    "df = df_tmp[df_tmp[\"customer_id\"].notna()].copy()\n",
    "\n",
    "df_et1 = df.loc[(df[\"event_type\"] == 1)]\n",
    "df_et2 = df.loc[(df[\"event_type\"] == 2)]\n",
    "df_et3 = df.loc[(df[\"event_type\"] == 3)]"
   ]
  },
  {
   "cell_type": "markdown",
   "id": "24efc240",
   "metadata": {},
   "source": [
    "### 5.1.2 エリア滞在時間の要約統計量の確認"
   ]
  },
  {
   "cell_type": "code",
   "execution_count": null,
   "id": "9e2b564e",
   "metadata": {
    "ExecuteTime": {
     "end_time": "2022-07-06T02:38:43.851888Z",
     "start_time": "2022-07-06T02:38:43.838924Z"
    }
   },
   "outputs": [],
   "source": [
    "df_et2[\"time_duration\"].describe()"
   ]
  },
  {
   "cell_type": "markdown",
   "id": "f485fc59",
   "metadata": {},
   "source": [
    "### 5.1.3 エリア滞在時間のヒストグラムの作成"
   ]
  },
  {
   "cell_type": "code",
   "execution_count": null,
   "id": "e7f533ba",
   "metadata": {
    "ExecuteTime": {
     "end_time": "2022-07-06T02:38:45.546558Z",
     "start_time": "2022-07-06T02:38:43.853883Z"
    }
   },
   "outputs": [],
   "source": [
    "bin_min = int(df_et2[\"time_duration\"].min())\n",
    "bin_max = int(df_et2[\"time_duration\"].max())\n",
    "edges = range(bin_min, bin_max, 5)\n",
    "df_et2[\"time_duration\"].hist(bins=edges)"
   ]
  },
  {
   "cell_type": "markdown",
   "id": "25ffbcb2",
   "metadata": {},
   "source": [
    "### 5.1.4 「気付き」の確認"
   ]
  },
  {
   "cell_type": "code",
   "execution_count": null,
   "id": "4fef950e",
   "metadata": {},
   "outputs": [],
   "source": [
    "df_et2[\"area_id\"].value_counts()"
   ]
  },
  {
   "cell_type": "markdown",
   "id": "084673b0",
   "metadata": {},
   "source": [
    "### 5.1.5 エリアIDの型変換"
   ]
  },
  {
   "cell_type": "code",
   "execution_count": null,
   "id": "24c70baa",
   "metadata": {
    "ExecuteTime": {
     "end_time": "2022-07-06T02:38:46.639145Z",
     "start_time": "2022-07-06T02:38:45.548554Z"
    }
   },
   "outputs": [],
   "source": [
    "df_et2[\"area_id\"] = df_et2[\"area_id\"].astype(int).astype(str)\n",
    "df_et2[\"area_id\"].dtypes"
   ]
  },
  {
   "cell_type": "markdown",
   "id": "86579627",
   "metadata": {},
   "source": [
    "### 5.1.6 各エリアの要約統計量の確認"
   ]
  },
  {
   "cell_type": "code",
   "execution_count": null,
   "id": "2e28a763",
   "metadata": {
    "ExecuteTime": {
     "end_time": "2022-07-06T02:38:46.791147Z",
     "start_time": "2022-07-06T02:38:46.640143Z"
    }
   },
   "outputs": [],
   "source": [
    "df_et2_byArea = df_et2.groupby(\"area_id\")\n",
    "df_et2_byArea[\"time_duration\"].describe()"
   ]
  },
  {
   "cell_type": "markdown",
   "id": "460cf153",
   "metadata": {},
   "source": [
    "## 5.2 フレームとエリアの特徴を確認する"
   ]
  },
  {
   "cell_type": "markdown",
   "id": "bead674a",
   "metadata": {},
   "source": [
    "### 5.2.1 フレームイン/アウトは必ずどのショッパーも1回行う"
   ]
  },
  {
   "cell_type": "code",
   "execution_count": null,
   "id": "18e1c0bf",
   "metadata": {
    "ExecuteTime": {
     "end_time": "2022-07-06T02:38:46.809100Z",
     "start_time": "2022-07-06T02:38:46.793142Z"
    }
   },
   "outputs": [],
   "source": [
    "print(\"■フレームインの回数\")\n",
    "print(df_et1[\"in_time\"].notnull().sum())\n",
    "print(\"■フレームアウトの回数\")\n",
    "print(df_et1[\"out_time\"].notnull().sum())\n",
    "print(\"■ユニークなショッパーの人数\")\n",
    "print(df_et1[\"customer_id\"].nunique())\n",
    "print(\"■customer_idに重複がないことの確認\")\n",
    "print(df_et1[\"customer_id\"].duplicated().sum())"
   ]
  },
  {
   "cell_type": "markdown",
   "id": "fd061c1a",
   "metadata": {},
   "source": [
    "### 5.2.2 エリアイン/アウトがないショッパーもいる"
   ]
  },
  {
   "cell_type": "code",
   "execution_count": null,
   "id": "6e115b9e",
   "metadata": {
    "ExecuteTime": {
     "end_time": "2022-07-06T02:38:46.821068Z",
     "start_time": "2022-07-06T02:38:46.811094Z"
    }
   },
   "outputs": [],
   "source": [
    "# フレームイン/アウトのレコードを持っているショッパー\n",
    "list_frame = df_et1[\"customer_id\"].drop_duplicates()\n",
    "list_frame"
   ]
  },
  {
   "cell_type": "code",
   "execution_count": null,
   "id": "855caebb",
   "metadata": {
    "ExecuteTime": {
     "end_time": "2022-07-06T02:38:46.833035Z",
     "start_time": "2022-07-06T02:38:46.823063Z"
    }
   },
   "outputs": [],
   "source": [
    "# エリアイン/アウトのレコードを持っているショッパー\n",
    "list_area = df_et2[\"customer_id\"].drop_duplicates()\n",
    "list_area"
   ]
  },
  {
   "cell_type": "code",
   "execution_count": null,
   "id": "eacf4ea6",
   "metadata": {
    "ExecuteTime": {
     "end_time": "2022-07-06T02:38:46.843009Z",
     "start_time": "2022-07-06T02:38:46.835030Z"
    }
   },
   "outputs": [],
   "source": [
    "list_frame_only = list_frame[~list_frame.isin(list_area)]\n",
    "list_frame_only"
   ]
  },
  {
   "cell_type": "code",
   "execution_count": null,
   "id": "12434849",
   "metadata": {
    "ExecuteTime": {
     "end_time": "2022-07-06T02:38:46.881982Z",
     "start_time": "2022-07-06T02:38:46.846001Z"
    }
   },
   "outputs": [],
   "source": [
    "df[df[\"customer_id\"] == \"20201026-010001\"]"
   ]
  },
  {
   "cell_type": "code",
   "execution_count": null,
   "id": "b3f3c0bd",
   "metadata": {
    "ExecuteTime": {
     "end_time": "2022-07-06T02:38:46.901928Z",
     "start_time": "2022-07-06T02:38:46.882979Z"
    }
   },
   "outputs": [],
   "source": [
    "df[df[\"customer_id\"] == \"20201026-010004\"]"
   ]
  },
  {
   "cell_type": "markdown",
   "id": "445eb110",
   "metadata": {},
   "source": [
    "### 5.2.3 エリアインしなくても商品に接触するショッパーがいる"
   ]
  },
  {
   "cell_type": "code",
   "execution_count": null,
   "id": "e4722531",
   "metadata": {
    "ExecuteTime": {
     "end_time": "2022-07-06T02:38:46.911902Z",
     "start_time": "2022-07-06T02:38:46.902926Z"
    }
   },
   "outputs": [],
   "source": [
    "# 商品接触のレコードを持っているショッパー\n",
    "list_contact = df_et3[\"customer_id\"].drop_duplicates()\n",
    "list_contact"
   ]
  },
  {
   "cell_type": "code",
   "execution_count": null,
   "id": "372d2f56",
   "metadata": {
    "ExecuteTime": {
     "end_time": "2022-07-06T02:38:46.921875Z",
     "start_time": "2022-07-06T02:38:46.912899Z"
    }
   },
   "outputs": [],
   "source": [
    "list_contact_only = list_contact[~list_contact.isin(list_area)]\n",
    "list_contact_only"
   ]
  },
  {
   "cell_type": "code",
   "execution_count": null,
   "id": "e1a77435",
   "metadata": {
    "ExecuteTime": {
     "end_time": "2022-07-06T02:38:46.939827Z",
     "start_time": "2022-07-06T02:38:46.922872Z"
    }
   },
   "outputs": [],
   "source": [
    "df[df[\"customer_id\"] == \"20201026-020247\"]"
   ]
  },
  {
   "cell_type": "markdown",
   "id": "45499d37",
   "metadata": {},
   "source": [
    "### 5.2.4 1つのエリアにつき複数回イン/アウトをするショッパーがいる"
   ]
  },
  {
   "cell_type": "code",
   "execution_count": null,
   "id": "e2b55354",
   "metadata": {
    "ExecuteTime": {
     "end_time": "2022-07-06T02:38:46.973740Z",
     "start_time": "2022-07-06T02:38:46.941822Z"
    }
   },
   "outputs": [],
   "source": [
    "import collections\n",
    "count = collections.Counter(df_et2[\"customer_id\"])\n",
    "count"
   ]
  },
  {
   "cell_type": "code",
   "execution_count": null,
   "id": "6135357f",
   "metadata": {
    "ExecuteTime": {
     "end_time": "2022-07-06T02:38:47.001666Z",
     "start_time": "2022-07-06T02:38:46.975736Z"
    }
   },
   "outputs": [],
   "source": [
    "df[df[\"customer_id\"] == \"20201026-050096\"]"
   ]
  },
  {
   "cell_type": "markdown",
   "id": "6f27596a",
   "metadata": {},
   "source": [
    "## 5.3 性別・年代を確認する準備"
   ]
  },
  {
   "cell_type": "code",
   "execution_count": null,
   "id": "fccf2fe9",
   "metadata": {
    "ExecuteTime": {
     "end_time": "2022-07-06T02:38:47.023609Z",
     "start_time": "2022-07-06T02:38:47.003660Z"
    }
   },
   "outputs": [],
   "source": [
    "df_customer_attribute = df_et1[[\"customer_id\", \"gender\", \"age\", \"age_category\"]].drop_duplicates()\n",
    "df_customer_attribute.head(5)"
   ]
  },
  {
   "cell_type": "code",
   "execution_count": null,
   "id": "8ef7fcb6",
   "metadata": {
    "ExecuteTime": {
     "end_time": "2022-07-06T02:38:47.037570Z",
     "start_time": "2022-07-06T02:38:47.025603Z"
    }
   },
   "outputs": [],
   "source": [
    "print(\"■df_customer_attributeのレコード数\")\n",
    "print(df_customer_attribute[\"customer_id\"].nunique())\n",
    "\n",
    "df_customer_attribute_new = df_et1[[\"customer_id\", \"gender\", \"age\", \"age_category\"]]\n",
    "print(\"■df_customer_attribute_newのレコード数\")\n",
    "print(df_customer_attribute_new[\"customer_id\"].nunique())"
   ]
  },
  {
   "cell_type": "markdown",
   "id": "225aeb48",
   "metadata": {},
   "source": [
    "## 5.4 pieで円グラフを作成する"
   ]
  },
  {
   "cell_type": "markdown",
   "id": "c7b76634",
   "metadata": {},
   "source": [
    "### 5.4.1 立寄者の男女比の確認"
   ]
  },
  {
   "cell_type": "code",
   "execution_count": null,
   "id": "2eda6b02",
   "metadata": {
    "ExecuteTime": {
     "end_time": "2022-07-06T02:38:47.940769Z",
     "start_time": "2022-07-06T02:38:47.038567Z"
    }
   },
   "outputs": [],
   "source": [
    "gender_counts = df_customer_attribute[\"gender\"].value_counts()\n",
    "plt.pie(gender_counts, labels=gender_counts.index, autopct=\"%.1f%%\", startangle=90) \n",
    "plt.show()\n",
    "print(gender_counts)"
   ]
  },
  {
   "cell_type": "markdown",
   "id": "39922fd5",
   "metadata": {},
   "source": [
    "### 5.4.2 立寄者の年代比の確認"
   ]
  },
  {
   "cell_type": "code",
   "execution_count": null,
   "id": "5408b63a",
   "metadata": {
    "ExecuteTime": {
     "end_time": "2022-07-06T02:38:48.050477Z",
     "start_time": "2022-07-06T02:38:47.941767Z"
    }
   },
   "outputs": [],
   "source": [
    "age_counts = df_customer_attribute[\"age\"].value_counts().sort_index(ascending=False)\n",
    "plt.pie(age_counts, labels=age_counts.index, autopct=\"%.1f%%\", startangle=90) \n",
    "plt.show()\n",
    "print(age_counts)"
   ]
  },
  {
   "cell_type": "markdown",
   "id": "d27f90cf",
   "metadata": {},
   "source": [
    "## 5.5 接触/購入の回数/人数の一覧表を作成する"
   ]
  },
  {
   "cell_type": "markdown",
   "id": "e008aabf",
   "metadata": {},
   "source": [
    "### 5.5.2 一覧表の作成"
   ]
  },
  {
   "cell_type": "markdown",
   "id": "5aa3a60b",
   "metadata": {},
   "source": [
    "#### 接触回数"
   ]
  },
  {
   "cell_type": "code",
   "execution_count": null,
   "id": "d2f624a4",
   "metadata": {
    "ExecuteTime": {
     "end_time": "2022-07-06T02:38:48.154198Z",
     "start_time": "2022-07-06T02:38:48.051473Z"
    }
   },
   "outputs": [],
   "source": [
    "ranking_contact_num = df_et3.groupby(\"product_name\")[\"num_touch\"].sum().astype(int).sort_values(ascending = False)\n",
    "print(ranking_contact_num)"
   ]
  },
  {
   "cell_type": "markdown",
   "id": "1265c3de",
   "metadata": {},
   "source": [
    "#### 接触人数"
   ]
  },
  {
   "cell_type": "code",
   "execution_count": null,
   "id": "b1606828",
   "metadata": {
    "ExecuteTime": {
     "end_time": "2022-07-06T02:38:48.343692Z",
     "start_time": "2022-07-06T02:38:48.155196Z"
    }
   },
   "outputs": [],
   "source": [
    "ranking_contact_nop = df_et3.groupby(\"product_name\")[\"customer_id\"].nunique().sort_values(ascending = False)\n",
    "print(ranking_contact_nop)"
   ]
  },
  {
   "cell_type": "markdown",
   "id": "6232463e",
   "metadata": {},
   "source": [
    "#### 購入回数"
   ]
  },
  {
   "cell_type": "code",
   "execution_count": null,
   "id": "964fa866",
   "metadata": {
    "ExecuteTime": {
     "end_time": "2022-07-06T02:38:48.355660Z",
     "start_time": "2022-07-06T02:38:48.344689Z"
    }
   },
   "outputs": [],
   "source": [
    "df_et3_buy = df_et3.loc[(df_et3[\"buy_flag\"]==1)]\n",
    "ranking_buy_num = df_et3_buy.groupby(\"product_name\")[\"num_touch\"].sum().astype(int).sort_values(ascending = False)\n",
    "print(ranking_buy_num)"
   ]
  },
  {
   "cell_type": "markdown",
   "id": "0bd6d5f3",
   "metadata": {},
   "source": [
    "#### 購入人数"
   ]
  },
  {
   "cell_type": "code",
   "execution_count": null,
   "id": "96e6112a",
   "metadata": {
    "ExecuteTime": {
     "end_time": "2022-07-06T02:38:48.367627Z",
     "start_time": "2022-07-06T02:38:48.356657Z"
    }
   },
   "outputs": [],
   "source": [
    "df_et3_buy = df_et3[df_et3[\"buy_flag\"]==1]\n",
    "ranking_buy_nop = df_et3_buy.groupby(\"product_name\")[\"customer_id\"].nunique().sort_values(ascending = False)\n",
    "ranking_buy_nop"
   ]
  },
  {
   "cell_type": "markdown",
   "id": "59441194",
   "metadata": {},
   "source": [
    "#### 全部まとめる"
   ]
  },
  {
   "cell_type": "code",
   "execution_count": null,
   "id": "958b5742",
   "metadata": {
    "ExecuteTime": {
     "end_time": "2022-07-06T02:38:48.397548Z",
     "start_time": "2022-07-06T02:38:48.368626Z"
    }
   },
   "outputs": [],
   "source": [
    "df_ranking = pd.concat([ranking_contact_num, ranking_contact_nop, ranking_buy_num, ranking_buy_nop], axis=1)\n",
    "df_ranking.columns = [\"接触回数\",\"接触人数\",\"購入回数\",\"購入人数\"]\n",
    "df_ranking"
   ]
  },
  {
   "cell_type": "code",
   "execution_count": null,
   "id": "9dcbd7f9",
   "metadata": {
    "ExecuteTime": {
     "end_time": "2022-07-06T02:38:48.417495Z",
     "start_time": "2022-07-06T02:38:48.398545Z"
    }
   },
   "outputs": [],
   "source": [
    "pd.set_option(\"display.max_rows\", 150) #150行まで表示可能とした"
   ]
  },
  {
   "cell_type": "markdown",
   "id": "06d517c2",
   "metadata": {},
   "source": [
    "### 5.5.4 商品名・メーカー名の対比表"
   ]
  },
  {
   "cell_type": "code",
   "execution_count": null,
   "id": "7c72413f",
   "metadata": {
    "ExecuteTime": {
     "end_time": "2022-07-06T02:38:48.529196Z",
     "start_time": "2022-07-06T02:38:48.419489Z"
    }
   },
   "outputs": [],
   "source": [
    "# df_et3からproduct_nameとcompanyがユニークなDataFrameを抽出\n",
    "df_company_tmp = df_et3[[\"product_name\",\"company\"]][~df_et3.duplicated(subset=[\"product_name\",\"company\"])]\n",
    "# product_nameをインデックスとする\n",
    "df_company_tmp = df_company_tmp.rename(index=df_company_tmp[\"product_name\"]).copy() \n",
    "# 冗長なproduct_name列を削除\n",
    "df_company = df_company_tmp.drop(\"product_name\", axis=1) \n",
    "df_company"
   ]
  },
  {
   "cell_type": "markdown",
   "id": "734fb9b5",
   "metadata": {},
   "source": [
    "### 5.5.5 一覧表への結合"
   ]
  },
  {
   "cell_type": "code",
   "execution_count": null,
   "id": "5043b30c",
   "metadata": {
    "ExecuteTime": {
     "end_time": "2022-07-06T02:38:48.555126Z",
     "start_time": "2022-07-06T02:38:48.533185Z"
    }
   },
   "outputs": [],
   "source": [
    "#結合する\n",
    "df_ranking_new = pd.concat([df_ranking, df_company], axis=1, join=\"inner\")\n",
    "df_ranking_new"
   ]
  },
  {
   "cell_type": "code",
   "execution_count": null,
   "id": "bd7de242",
   "metadata": {
    "ExecuteTime": {
     "end_time": "2022-07-06T02:38:48.565611Z",
     "start_time": "2022-07-06T02:38:48.556124Z"
    }
   },
   "outputs": [],
   "source": [
    "print(df_ranking.shape)\n",
    "print(df_ranking_new.shape)\n",
    "print(df_ranking_new.isnull().sum())"
   ]
  },
  {
   "cell_type": "markdown",
   "id": "72206ed0",
   "metadata": {},
   "source": [
    "## 5.6 CVR（接触人数→購入人数）を算出する"
   ]
  },
  {
   "cell_type": "markdown",
   "id": "c5155be5",
   "metadata": {},
   "source": [
    "### 5.6.2 CVRの算出"
   ]
  },
  {
   "cell_type": "code",
   "execution_count": null,
   "id": "078b7438",
   "metadata": {
    "ExecuteTime": {
     "end_time": "2022-07-06T02:38:48.593536Z",
     "start_time": "2022-07-06T02:38:48.566608Z"
    }
   },
   "outputs": [],
   "source": [
    "# 新しく列を追加\n",
    "df_ranking_new[\"CVR\"] = df_ranking_new[\"購入人数\"] / df_ranking_new[\"接触人数\"]\n",
    "# CVRが高い順に並び変える\n",
    "df_ranking_new.sort_values(\"CVR\", ascending=False)"
   ]
  },
  {
   "cell_type": "markdown",
   "id": "9b0b8966",
   "metadata": {},
   "source": [
    "## 5.7 メーカー別に集計する"
   ]
  },
  {
   "cell_type": "markdown",
   "id": "619eeca2",
   "metadata": {},
   "source": [
    "### 5.7.1 メーカー別の集計"
   ]
  },
  {
   "cell_type": "code",
   "execution_count": null,
   "id": "a7a893b2",
   "metadata": {
    "ExecuteTime": {
     "end_time": "2022-07-06T02:38:48.609493Z",
     "start_time": "2022-07-06T02:38:48.594533Z"
    }
   },
   "outputs": [],
   "source": [
    "df_ranking_company = df_ranking_new.groupby(\"company\").sum()\n",
    "df_ranking_company"
   ]
  },
  {
   "cell_type": "markdown",
   "id": "1552c015",
   "metadata": {},
   "source": [
    "### 5.7.2 2通りのCVRを考慮したメーカー別の集計"
   ]
  },
  {
   "cell_type": "code",
   "execution_count": null,
   "id": "bc9e29c3",
   "metadata": {
    "ExecuteTime": {
     "end_time": "2022-07-06T02:38:48.679307Z",
     "start_time": "2022-07-06T02:38:48.610490Z"
    }
   },
   "outputs": [],
   "source": [
    "df_ranking_company = df_ranking_company.drop(\"CVR\", axis=1)\n",
    "df_ranking_company[\"CVR（全体）\"] = df_ranking_company[\"購入人数\"] / df_ranking_company[\"接触人数\"]\n",
    "df_ranking_company[\"CVR（平均）\"] = df_ranking_new.groupby(\"company\").mean()[\"CVR\"]\n",
    "df_ranking_company\n",
    "#CVR（全体）が高い順に並び変える\n",
    "df_ranking_company.sort_values(\"CVR（全体）\", ascending=False)"
   ]
  },
  {
   "cell_type": "markdown",
   "id": "fbaebfe6",
   "metadata": {},
   "source": [
    "## 5.8 scatterで散布図を作成する"
   ]
  },
  {
   "cell_type": "markdown",
   "id": "0433eda8",
   "metadata": {},
   "source": [
    "### 5.8.1 scatterで散布図の作成"
   ]
  },
  {
   "cell_type": "code",
   "execution_count": null,
   "id": "e8a6c7f9",
   "metadata": {
    "ExecuteTime": {
     "end_time": "2022-07-06T02:38:48.834687Z",
     "start_time": "2022-07-06T02:38:48.682299Z"
    }
   },
   "outputs": [],
   "source": [
    "plt.scatter(df_ranking_new[\"購入人数\"], df_ranking_new[\"接触人数\"])"
   ]
  },
  {
   "cell_type": "markdown",
   "id": "11863b8c",
   "metadata": {},
   "source": [
    "### 5.8.2 corrで相関係数の確認"
   ]
  },
  {
   "cell_type": "code",
   "execution_count": null,
   "id": "bbc5b8ce",
   "metadata": {
    "ExecuteTime": {
     "end_time": "2022-07-06T02:38:48.896521Z",
     "start_time": "2022-07-06T02:38:48.836681Z"
    }
   },
   "outputs": [],
   "source": [
    "df_ranking_new.corr()"
   ]
  }
 ],
 "metadata": {
  "kernelspec": {
   "display_name": "Python 3",
   "language": "python",
   "name": "python3"
  },
  "language_info": {
   "codemirror_mode": {
    "name": "ipython",
    "version": 3
   },
   "file_extension": ".py",
   "mimetype": "text/x-python",
   "name": "python",
   "nbconvert_exporter": "python",
   "pygments_lexer": "ipython3",
   "version": "3.8.8"
  },
  "toc": {
   "base_numbering": 1,
   "nav_menu": {},
   "number_sections": true,
   "sideBar": true,
   "skip_h1_title": false,
   "title_cell": "Table of Contents",
   "title_sidebar": "Contents",
   "toc_cell": false,
   "toc_position": {},
   "toc_section_display": true,
   "toc_window_display": true
  },
  "varInspector": {
   "cols": {
    "lenName": 16,
    "lenType": 16,
    "lenVar": 40
   },
   "kernels_config": {
    "python": {
     "delete_cmd_postfix": "",
     "delete_cmd_prefix": "del ",
     "library": "var_list.py",
     "varRefreshCmd": "print(var_dic_list())"
    },
    "r": {
     "delete_cmd_postfix": ") ",
     "delete_cmd_prefix": "rm(",
     "library": "var_list.r",
     "varRefreshCmd": "cat(var_dic_list()) "
    }
   },
   "types_to_exclude": [
    "module",
    "function",
    "builtin_function_or_method",
    "instance",
    "_Feature"
   ],
   "window_display": false
  }
 },
 "nbformat": 4,
 "nbformat_minor": 5
}
