{
 "cells": [
  {
   "cell_type": "markdown",
   "id": "191d7636",
   "metadata": {},
   "source": [
    "# 第10章：決定木"
   ]
  },
  {
   "cell_type": "markdown",
   "id": "362a3f6a",
   "metadata": {},
   "source": [
    "## 10.2 決定木モデルの実装"
   ]
  },
  {
   "cell_type": "markdown",
   "id": "91940067",
   "metadata": {},
   "source": [
    "### 10.2.1 モジュールなどの宣言"
   ]
  },
  {
   "cell_type": "code",
   "execution_count": null,
   "id": "37d36410",
   "metadata": {
    "ExecuteTime": {
     "end_time": "2022-09-21T10:41:20.111366Z",
     "start_time": "2022-09-21T10:41:18.684354Z"
    }
   },
   "outputs": [],
   "source": [
    "import numpy as np\n",
    "import pandas as pd\n",
    "import matplotlib.pyplot as plt\n",
    "import joblib\n",
    "from sklearn.model_selection import train_test_split # ホールドアウト用モジュール\n",
    "from sklearn.tree import DecisionTreeClassifier as dtc # 決定木用モジュール\n",
    "from sklearn.tree import plot_tree # 決定木の可視化モジュール\n",
    "from sklearn.metrics import accuracy_score, roc_auc_score # 評価指標用モジュール"
   ]
  },
  {
   "cell_type": "markdown",
   "id": "bc4b0db1",
   "metadata": {},
   "source": [
    "### 10.2.2 pickleファイルの読み込み"
   ]
  },
  {
   "cell_type": "code",
   "execution_count": null,
   "id": "0a05c204",
   "metadata": {
    "ExecuteTime": {
     "end_time": "2022-09-21T10:41:20.125329Z",
     "start_time": "2022-09-21T10:41:20.112363Z"
    }
   },
   "outputs": [],
   "source": [
    "# 前処理済み中間データのdictを読み取る\n",
    "pp_data_dict = joblib.load(\"../intermediate/pp_data_dict_pkl.pkl3\")\n",
    "\n",
    "# 辞書型変数の値に格納された決定木向け中間データを読み取る\n",
    "dtc_train_df = pp_data_dict[\"dtc\"][\"train\"]\n",
    "dtc_test_df = pp_data_dict[\"dtc\"][\"test\"]"
   ]
  },
  {
   "cell_type": "markdown",
   "id": "9e783692",
   "metadata": {},
   "source": [
    "### 10.2.3 訓練データの分割"
   ]
  },
  {
   "cell_type": "code",
   "execution_count": null,
   "id": "868750b7",
   "metadata": {
    "ExecuteTime": {
     "end_time": "2022-09-21T10:41:20.133308Z",
     "start_time": "2022-09-21T10:41:20.126326Z"
    }
   },
   "outputs": [],
   "source": [
    "# 6:4の割合でホールドアウト法を行う\n",
    "dtc_train_train_df, dtc_train_valid_df = train_test_split(dtc_train_df, test_size=0.4, random_state=57, shuffle=True)"
   ]
  },
  {
   "cell_type": "code",
   "execution_count": null,
   "id": "e2b81e1f",
   "metadata": {
    "ExecuteTime": {
     "end_time": "2022-09-21T10:41:20.147272Z",
     "start_time": "2022-09-21T10:41:20.134305Z"
    }
   },
   "outputs": [],
   "source": [
    "dtc_train_df.shape, dtc_train_train_df.shape, dtc_train_valid_df.shape, dtc_test_df.shape"
   ]
  },
  {
   "cell_type": "markdown",
   "id": "74441cd6",
   "metadata": {},
   "source": [
    "### 10.2.4 モデルの構築"
   ]
  },
  {
   "cell_type": "code",
   "execution_count": null,
   "id": "30ab9395",
   "metadata": {
    "ExecuteTime": {
     "end_time": "2022-09-21T10:41:20.153255Z",
     "start_time": "2022-09-21T10:41:20.148268Z"
    }
   },
   "outputs": [],
   "source": [
    "# 目的変数をtargetという変数に格納する\n",
    "target = \"buy_flag\"\n",
    "\n",
    "# 説明変数をfeaturesという変数に格納する\n",
    "dtc_features = dtc_train_df.columns.tolist()\n",
    "\n",
    "# customer_idとbuy_flagは説明変数ではない為削除する\n",
    "dtc_features.remove(\"customer_id\")\n",
    "dtc_features.remove(\"buy_flag\")"
   ]
  },
  {
   "cell_type": "code",
   "execution_count": null,
   "id": "0063b261",
   "metadata": {
    "ExecuteTime": {
     "end_time": "2022-09-21T10:41:20.159241Z",
     "start_time": "2022-09-21T10:41:20.154252Z"
    }
   },
   "outputs": [],
   "source": [
    "# 定義する\n",
    "dtc_clf = dtc(max_depth=3, random_state=57)"
   ]
  },
  {
   "cell_type": "code",
   "execution_count": null,
   "id": "72723d85",
   "metadata": {
    "ExecuteTime": {
     "end_time": "2022-09-21T10:41:20.171207Z",
     "start_time": "2022-09-21T10:41:20.160236Z"
    }
   },
   "outputs": [],
   "source": [
    "# 学習する\n",
    "dtc_clf.fit(dtc_train_train_df[dtc_features], dtc_train_train_df[target])"
   ]
  },
  {
   "cell_type": "code",
   "execution_count": null,
   "id": "4fe3179b",
   "metadata": {
    "ExecuteTime": {
     "end_time": "2022-09-21T10:41:20.179185Z",
     "start_time": "2022-09-21T10:41:20.172205Z"
    }
   },
   "outputs": [],
   "source": [
    "# 予測する（predict_proba）\n",
    "train_valid_proba_y = dtc_clf.predict_proba(dtc_train_valid_df[dtc_features]).T[1]\n",
    "train_valid_proba_y"
   ]
  },
  {
   "cell_type": "code",
   "execution_count": null,
   "id": "d7b15f6d",
   "metadata": {
    "ExecuteTime": {
     "end_time": "2022-09-21T10:41:20.187165Z",
     "start_time": "2022-09-21T10:41:20.180183Z"
    }
   },
   "outputs": [],
   "source": [
    "# 検証する\n",
    "# AUCを出力する\n",
    "train_valid_auc_val = roc_auc_score(dtc_train_valid_df[target], train_valid_proba_y)\n",
    "train_valid_auc_val"
   ]
  },
  {
   "cell_type": "code",
   "execution_count": null,
   "id": "668401d0",
   "metadata": {
    "ExecuteTime": {
     "end_time": "2022-09-21T10:41:20.197137Z",
     "start_time": "2022-09-21T10:41:20.190157Z"
    }
   },
   "outputs": [],
   "source": [
    "# 予測する（predict）\n",
    "train_valid_pred_y = dtc_clf.predict(dtc_train_valid_df[dtc_features])\n",
    "\n",
    "# Accuracyを出力する\n",
    "train_valid_accuracy_val = accuracy_score(dtc_train_valid_df[target], train_valid_pred_y)\n",
    "train_valid_accuracy_val"
   ]
  },
  {
   "cell_type": "markdown",
   "id": "c820785e",
   "metadata": {},
   "source": [
    "### 10.2.5 決定木の可視化"
   ]
  },
  {
   "cell_type": "code",
   "execution_count": null,
   "id": "0fc303ab",
   "metadata": {
    "ExecuteTime": {
     "end_time": "2022-09-21T10:41:20.803024Z",
     "start_time": "2022-09-21T10:41:20.199133Z"
    }
   },
   "outputs": [],
   "source": [
    "# 決定木の可視化を行う\n",
    "plt.figure(figsize=(20, 10), facecolor=\"white\", dpi=150)\n",
    "plot_tree(dtc_clf, feature_names=dtc_features, class_names=[\"not_buy\", \"buy\"], fontsize=8, filled=True)\n",
    "plt.show()"
   ]
  },
  {
   "cell_type": "markdown",
   "id": "6bca71fd",
   "metadata": {},
   "source": [
    "## 10.3 ハイパーパラメータチューニング"
   ]
  },
  {
   "cell_type": "markdown",
   "id": "822fc3d3",
   "metadata": {},
   "source": [
    "### 10.3.3 グリッドサーチ"
   ]
  },
  {
   "cell_type": "code",
   "execution_count": null,
   "id": "6660f704",
   "metadata": {
    "ExecuteTime": {
     "end_time": "2022-09-21T10:41:20.809008Z",
     "start_time": "2022-09-21T10:41:20.804021Z"
    }
   },
   "outputs": [],
   "source": [
    "# ハイパーパラメータチューニング\n",
    "# グリッドサーチ\n",
    "# 探索するハイパーパラメータの候補をリストに格納する.\n",
    "dtc_params_list = [{\"max_depth\": ii, \"random_state\": 57} for ii in np.arange(2, 12, 1)]\n",
    "dtc_params_list"
   ]
  },
  {
   "cell_type": "code",
   "execution_count": null,
   "id": "da6e8c50",
   "metadata": {
    "ExecuteTime": {
     "end_time": "2022-09-21T10:41:20.964596Z",
     "start_time": "2022-09-21T10:41:20.810006Z"
    }
   },
   "outputs": [],
   "source": [
    "# グリッドサーチの結果を格納するリスト\n",
    "gs_result_list = []\n",
    "\n",
    "# グリッドサーチの実施\n",
    "for params_dict in dtc_params_list:\n",
    "    # 定義する\n",
    "    tmp_dtc_clf = dtc(**params_dict)\n",
    "    # 学習する\n",
    "    tmp_dtc_clf.fit(dtc_train_train_df[dtc_features], dtc_train_train_df[target])\n",
    "    \n",
    "    # train-trainを予測する（predict関数）\n",
    "    train_pred_y = tmp_dtc_clf.predict(dtc_train_train_df[dtc_features])\n",
    "    \n",
    "    # train-trainを予測する（predict_proba関数）\n",
    "    train_proba_y = tmp_dtc_clf.predict_proba(dtc_train_train_df[dtc_features]).T[1]\n",
    "    \n",
    "    # train-validを予測する（predict関数）\n",
    "    valid_pred_y = tmp_dtc_clf.predict(dtc_train_valid_df[dtc_features])\n",
    "    \n",
    "    # train-validを予測する（predict_proba関数）\n",
    "    valid_proba_y = tmp_dtc_clf.predict_proba(dtc_train_valid_df[dtc_features]).T[1]\n",
    "    \n",
    "    # train-trainを検証する\n",
    "    train_accuracy_val = accuracy_score(dtc_train_train_df[target], train_pred_y)\n",
    "    train_auc_val = roc_auc_score(dtc_train_train_df[target], train_proba_y)\n",
    "    \n",
    "    # train-validを検証する\n",
    "    valid_accuracy_val = accuracy_score(dtc_train_valid_df[target], valid_pred_y)\n",
    "    valid_auc_val = roc_auc_score(dtc_train_valid_df[target], valid_proba_y)\n",
    "    \n",
    "    # リストに格納する\n",
    "    gs_result_list += [[params_dict, params_dict[\"max_depth\"], train_accuracy_val, train_auc_val, valid_accuracy_val, valid_auc_val]]"
   ]
  },
  {
   "cell_type": "code",
   "execution_count": null,
   "id": "486809fa",
   "metadata": {
    "ExecuteTime": {
     "end_time": "2022-09-21T10:41:20.978559Z",
     "start_time": "2022-09-21T10:41:20.965594Z"
    }
   },
   "outputs": [],
   "source": [
    "# 結果をDataFrameに格納する\n",
    "gs_result_df = pd.DataFrame(gs_result_list, columns=[\"params_dict\", \"max_depth\", \"train_accuracy\", \"train_auc\", \"valid_accuracy\", \"valid_auc\"])\n",
    "\n",
    "# 結果を確認する\n",
    "gs_result_df[[\"max_depth\", \"train_accuracy\", \"train_auc\", \"valid_accuracy\", \"valid_auc\"]].sort_values(by=\"valid_auc\", ascending=False).reset_index(drop=True)"
   ]
  },
  {
   "cell_type": "code",
   "execution_count": null,
   "id": "93aecb52",
   "metadata": {
    "ExecuteTime": {
     "end_time": "2022-09-21T10:41:21.118190Z",
     "start_time": "2022-09-21T10:41:20.979557Z"
    }
   },
   "outputs": [],
   "source": [
    "# Accuracyの可視化\n",
    "plt.figure(figsize=(6, 5), facecolor=\"white\", dpi=150)\n",
    "# train Accuracy\n",
    "plt.plot(gs_result_df[\"max_depth\"], gs_result_df[\"train_accuracy\"], label=\"train_accuracy\")\n",
    "# valid Accuracy\n",
    "plt.plot(gs_result_df[\"max_depth\"], gs_result_df[\"valid_accuracy\"], label=\"valid_accuracy\")\n",
    "plt.title(\"Accuracy\\nDTC max_depth tuning\", fontsize=10)\n",
    "plt.xlabel(\"max_depth\", fontsize=10)\n",
    "plt.ylabel(\"Accuracy\", fontsize=10)\n",
    "plt.legend()\n",
    "plt.grid()\n",
    "plt.show()"
   ]
  },
  {
   "cell_type": "code",
   "execution_count": null,
   "id": "a95c0a7e",
   "metadata": {
    "ExecuteTime": {
     "end_time": "2022-09-21T10:41:21.251832Z",
     "start_time": "2022-09-21T10:41:21.119186Z"
    }
   },
   "outputs": [],
   "source": [
    "# AUCの可視化\n",
    "plt.figure(figsize=(6, 5), facecolor=\"white\", dpi=150)\n",
    "# train AUC\n",
    "plt.plot(gs_result_df[\"max_depth\"], gs_result_df[\"train_auc\"], label=\"train_auc\")\n",
    "# valid AUC\n",
    "plt.plot(gs_result_df[\"max_depth\"], gs_result_df[\"valid_auc\"], label=\"valid_auc\")\n",
    "plt.title(\"AUC\\nDTC max_depth tuning\", fontsize=10)\n",
    "plt.xlabel(\"max_depth\", fontsize=10)\n",
    "plt.ylabel(\"AUC\", fontsize=10)\n",
    "plt.legend()\n",
    "plt.grid()\n",
    "plt.show()"
   ]
  },
  {
   "cell_type": "markdown",
   "id": "02fa7b1b",
   "metadata": {},
   "source": [
    "## 10.4 最適化した決定木モデルの実装"
   ]
  },
  {
   "cell_type": "markdown",
   "id": "4cc143c9",
   "metadata": {},
   "source": [
    "### 10.4.1 モデルの構築"
   ]
  },
  {
   "cell_type": "code",
   "execution_count": null,
   "id": "fbd3c096",
   "metadata": {
    "ExecuteTime": {
     "end_time": "2022-09-21T10:41:21.259811Z",
     "start_time": "2022-09-21T10:41:21.252830Z"
    }
   },
   "outputs": [],
   "source": [
    "# train-validのAUCが最も高いハイパーパラメータの組み合わせを変数に格納する\n",
    "dtc_best_idx = np.argmax(gs_result_df[\"valid_auc\"])\n",
    "dtc_best_params = gs_result_df[\"params_dict\"].values[dtc_best_idx]\n",
    "dtc_best_score = gs_result_df[\"valid_auc\"].values[dtc_best_idx]\n",
    "\n",
    "# 内容を確認\n",
    "print(\"dtc_best_params:\", dtc_best_params)\n",
    "print(\"dtc_best_score:\", dtc_best_score)"
   ]
  },
  {
   "cell_type": "code",
   "execution_count": null,
   "id": "17502498",
   "metadata": {
    "ExecuteTime": {
     "end_time": "2022-09-21T10:41:21.273773Z",
     "start_time": "2022-09-21T10:41:21.260809Z"
    }
   },
   "outputs": [],
   "source": [
    "# 最適化したハイパーパラメータを使用してモデルを定義する\n",
    "dtc_clf = dtc(**dtc_best_params)\n",
    "\n",
    "# 学習する\n",
    "dtc_clf.fit(dtc_train_df[dtc_features], dtc_train_df[target])"
   ]
  },
  {
   "cell_type": "code",
   "execution_count": null,
   "id": "7bd07d3a",
   "metadata": {
    "ExecuteTime": {
     "end_time": "2022-09-21T10:41:21.283747Z",
     "start_time": "2022-09-21T10:41:21.274771Z"
    }
   },
   "outputs": [],
   "source": [
    "# 決定木のインポータンスを確認する\n",
    "importance_df = pd.DataFrame({\"feature\": dtc_features, \"importance\": dtc_clf.feature_importances_})\n",
    "importance_df = importance_df.sort_values(by=\"importance\", ascending=False).reset_index(drop=True)\n",
    "importance_df.head()"
   ]
  },
  {
   "cell_type": "markdown",
   "id": "93dd9c30",
   "metadata": {},
   "source": [
    "### 10.4.2 モデルの可視化"
   ]
  },
  {
   "cell_type": "code",
   "execution_count": null,
   "id": "ead3d7c3",
   "metadata": {
    "ExecuteTime": {
     "end_time": "2022-09-21T10:41:23.116366Z",
     "start_time": "2022-09-21T10:41:21.284755Z"
    }
   },
   "outputs": [],
   "source": [
    "# 決定木の可視化を行う\n",
    "plt.figure(figsize=(20, 10), facecolor=\"white\", dpi=150)\n",
    "plot_tree(dtc_clf, feature_names=dtc_features, class_names=[\"not_buy\", \"buy\"], fontsize=8, filled=True)\n",
    "plt.show()"
   ]
  },
  {
   "cell_type": "markdown",
   "id": "6b88a93c",
   "metadata": {},
   "source": [
    "### 10.4.3 予測と検証"
   ]
  },
  {
   "cell_type": "code",
   "execution_count": null,
   "id": "49174bf3",
   "metadata": {
    "ExecuteTime": {
     "end_time": "2022-09-21T10:41:23.134319Z",
     "start_time": "2022-09-21T10:41:23.119358Z"
    }
   },
   "outputs": [],
   "source": [
    "# trainを予測する\n",
    "train_pred_y = dtc_clf.predict(dtc_train_df[dtc_features])\n",
    "train_proba_y = dtc_clf.predict_proba(dtc_train_df[dtc_features]).T[1]\n",
    "\n",
    "# trainを検証する\n",
    "train_accuracy_val = accuracy_score(dtc_train_df[target], train_pred_y)\n",
    "train_auc_val = roc_auc_score(dtc_train_df[target], train_proba_y)\n",
    "train_accuracy_val, train_auc_val"
   ]
  },
  {
   "cell_type": "markdown",
   "id": "5375efc7",
   "metadata": {},
   "source": [
    "### 10.4.4 テストデータの予測"
   ]
  },
  {
   "cell_type": "code",
   "execution_count": null,
   "id": "777d3853",
   "metadata": {
    "ExecuteTime": {
     "end_time": "2022-09-21T10:41:23.148281Z",
     "start_time": "2022-09-21T10:41:23.136314Z"
    }
   },
   "outputs": [],
   "source": [
    "# testを予測する\n",
    "test_pred_y = dtc_clf.predict(dtc_test_df[dtc_features])\n",
    "test_proba_y = dtc_clf.predict_proba(dtc_test_df[dtc_features]).T[1]"
   ]
  },
  {
   "cell_type": "code",
   "execution_count": null,
   "id": "cb3bb47b",
   "metadata": {
    "ExecuteTime": {
     "end_time": "2022-09-21T10:41:23.160249Z",
     "start_time": "2022-09-21T10:41:23.150277Z"
    }
   },
   "outputs": [],
   "source": [
    "# sample submitデータを読み込む\n",
    "gi_sample_submit_df = pd.read_csv(\"../input/gi_sample_submit.csv\")"
   ]
  },
  {
   "cell_type": "code",
   "execution_count": null,
   "id": "7df98e7d",
   "metadata": {
    "ExecuteTime": {
     "end_time": "2022-09-21T10:41:23.174212Z",
     "start_time": "2022-09-21T10:41:23.161246Z"
    }
   },
   "outputs": [],
   "source": [
    "# submit向けDataFrameを作成し、列に予測確率を格納する\n",
    "submit_df = dtc_test_df.copy()[[\"customer_id\"]]\n",
    "submit_df[\"buy_proba\"] = test_proba_y\n",
    "submit_df.head()"
   ]
  },
  {
   "cell_type": "code",
   "execution_count": null,
   "id": "1a037da1",
   "metadata": {
    "ExecuteTime": {
     "end_time": "2022-09-21T10:41:23.184186Z",
     "start_time": "2022-09-21T10:41:23.176207Z"
    }
   },
   "outputs": [],
   "source": [
    "gi_sample_submit_df.shape, submit_df.shape"
   ]
  },
  {
   "cell_type": "code",
   "execution_count": null,
   "id": "41a08c48",
   "metadata": {
    "ExecuteTime": {
     "end_time": "2022-09-21T10:41:23.202138Z",
     "start_time": "2022-09-21T10:41:23.186180Z"
    }
   },
   "outputs": [],
   "source": [
    "submit_df = pd.merge(gi_sample_submit_df.drop(\"buy_proba\", axis=1), submit_df, on=\"customer_id\", how=\"left\").reset_index(drop=True)\n",
    "submit_df.head()"
   ]
  },
  {
   "cell_type": "code",
   "execution_count": null,
   "id": "60d46a37",
   "metadata": {
    "ExecuteTime": {
     "end_time": "2022-09-21T10:41:23.210116Z",
     "start_time": "2022-09-21T10:41:23.204133Z"
    }
   },
   "outputs": [],
   "source": [
    "submit_df.shape"
   ]
  },
  {
   "cell_type": "code",
   "execution_count": null,
   "id": "ba8093b4",
   "metadata": {
    "ExecuteTime": {
     "end_time": "2022-09-21T10:41:23.232057Z",
     "start_time": "2022-09-21T10:41:23.215103Z"
    }
   },
   "outputs": [],
   "source": [
    "# outputディレクトリにsubmit用ファイルを出力する\n",
    "submit_df.to_csv(f\"../output/submit_dtc.csv\", encoding=\"utf-8\", index=False)"
   ]
  }
 ],
 "metadata": {
  "kernelspec": {
   "display_name": "Python 3",
   "language": "python",
   "name": "python3"
  },
  "language_info": {
   "codemirror_mode": {
    "name": "ipython",
    "version": 3
   },
   "file_extension": ".py",
   "mimetype": "text/x-python",
   "name": "python",
   "nbconvert_exporter": "python",
   "pygments_lexer": "ipython3",
   "version": "3.8.8"
  },
  "toc": {
   "base_numbering": 1,
   "nav_menu": {},
   "number_sections": true,
   "sideBar": true,
   "skip_h1_title": false,
   "title_cell": "Table of Contents",
   "title_sidebar": "Contents",
   "toc_cell": false,
   "toc_position": {},
   "toc_section_display": true,
   "toc_window_display": true
  },
  "varInspector": {
   "cols": {
    "lenName": 16,
    "lenType": 16,
    "lenVar": 40
   },
   "kernels_config": {
    "python": {
     "delete_cmd_postfix": "",
     "delete_cmd_prefix": "del ",
     "library": "var_list.py",
     "varRefreshCmd": "print(var_dic_list())"
    },
    "r": {
     "delete_cmd_postfix": ") ",
     "delete_cmd_prefix": "rm(",
     "library": "var_list.r",
     "varRefreshCmd": "cat(var_dic_list()) "
    }
   },
   "types_to_exclude": [
    "module",
    "function",
    "builtin_function_or_method",
    "instance",
    "_Feature"
   ],
   "window_display": false
  }
 },
 "nbformat": 4,
 "nbformat_minor": 5
}
