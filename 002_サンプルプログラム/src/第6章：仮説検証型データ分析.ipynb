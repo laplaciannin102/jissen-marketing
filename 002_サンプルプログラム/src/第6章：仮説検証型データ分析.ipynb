{
 "cells": [
  {
   "cell_type": "markdown",
   "id": "8db64cbc",
   "metadata": {},
   "source": [
    "# 第6章：仮説検証型データ分析"
   ]
  },
  {
   "cell_type": "markdown",
   "id": "3c828b27",
   "metadata": {},
   "source": [
    "## 6.1 仮説検証のための事前準備"
   ]
  },
  {
   "cell_type": "markdown",
   "id": "b3deaab9",
   "metadata": {},
   "source": [
    "### 6.1.3 ショッパー属性リストの作成"
   ]
  },
  {
   "cell_type": "code",
   "execution_count": null,
   "id": "c47aaaad",
   "metadata": {
    "ExecuteTime": {
     "end_time": "2022-07-06T02:38:52.791352Z",
     "start_time": "2022-07-06T02:38:51.652247Z"
    }
   },
   "outputs": [],
   "source": [
    "import numpy as np\n",
    "import pandas as pd\n",
    "import matplotlib.pyplot as plt\n",
    "%matplotlib inline\n",
    "\n",
    "df1 = pd.read_csv(\"../input/gi_train_mm10.csv\") # 10月のデータ\n",
    "df2 = pd.read_csv(\"../input/gi_train_mm11.csv\") # 11月のデータ\n",
    "\n",
    "df_tmp = pd.concat([df1, df2])\n",
    "df = df_tmp[df_tmp[\"customer_id\"].notna()].copy()\n",
    "\n",
    "df_et1 = df.loc[(df[\"event_type\"] == 1)]\n",
    "df_et2 = df.loc[(df[\"event_type\"] == 2)]\n",
    "df_et3 = df.loc[(df[\"event_type\"] == 3)]\n",
    "\n",
    "shopper_attribute_list = df[[\"customer_id\",\"gender\",\"age\",\"age_category\"]].drop_duplicates().set_index(\"customer_id\")\n",
    "shopper_attribute_list"
   ]
  },
  {
   "cell_type": "markdown",
   "id": "bc6d2ca2",
   "metadata": {},
   "source": [
    "### 6.1.4 ショッパー接触回数リストの作成"
   ]
  },
  {
   "cell_type": "code",
   "execution_count": null,
   "id": "72b04812",
   "metadata": {
    "ExecuteTime": {
     "end_time": "2022-07-06T02:38:52.833239Z",
     "start_time": "2022-07-06T02:38:52.797335Z"
    }
   },
   "outputs": [],
   "source": [
    "shopper_contact_list = df.groupby(\"customer_id\")[[\"num_touch\"]].sum().astype(int).rename(columns={\"num_touch\" : \"接触回数\"})\n",
    "shopper_contact_list"
   ]
  },
  {
   "cell_type": "markdown",
   "id": "05d5e01f",
   "metadata": {},
   "source": [
    "### 6.1.5 ショッパー購入回数リストの作成"
   ]
  },
  {
   "cell_type": "code",
   "execution_count": null,
   "id": "4139c9af",
   "metadata": {
    "ExecuteTime": {
     "end_time": "2022-07-06T02:38:52.857175Z",
     "start_time": "2022-07-06T02:38:52.835235Z"
    }
   },
   "outputs": [],
   "source": [
    "shopper_buy_list = df.groupby(\"customer_id\")[[\"buy_flag\"]].sum().astype(int).rename(columns={\"buy_flag\" : \"購入回数\"})\n",
    "shopper_buy_list"
   ]
  },
  {
   "cell_type": "markdown",
   "id": "f456c2d4",
   "metadata": {},
   "source": [
    "### 6.1.6 ショッパー滞在時間リストの作成"
   ]
  },
  {
   "cell_type": "code",
   "execution_count": null,
   "id": "514de186",
   "metadata": {
    "ExecuteTime": {
     "end_time": "2022-07-06T02:38:52.873133Z",
     "start_time": "2022-07-06T02:38:52.859170Z"
    }
   },
   "outputs": [],
   "source": [
    "shopper_time_duration_list = df_et1[[\"customer_id\",\"time_duration\"]].set_index(\"customer_id\")\n",
    "shopper_time_duration_list"
   ]
  },
  {
   "cell_type": "markdown",
   "id": "b76e55d2",
   "metadata": {},
   "source": [
    "### 6.1.7 ショッパー情報一覧の作成"
   ]
  },
  {
   "cell_type": "code",
   "execution_count": null,
   "id": "a0a270c5",
   "metadata": {
    "ExecuteTime": {
     "end_time": "2022-07-06T02:38:52.893079Z",
     "start_time": "2022-07-06T02:38:52.875127Z"
    }
   },
   "outputs": [],
   "source": [
    "df_shopper = pd.concat([shopper_attribute_list, shopper_contact_list, shopper_buy_list, shopper_time_duration_list], axis=1)\n",
    "df_shopper"
   ]
  },
  {
   "cell_type": "markdown",
   "id": "b46e421a",
   "metadata": {},
   "source": [
    "## 6.2 仮説1「女性の方がいろいろと商品を検討してそう」の検証"
   ]
  },
  {
   "cell_type": "markdown",
   "id": "a97c438a",
   "metadata": {},
   "source": [
    "### 6.2.2 データで検証"
   ]
  },
  {
   "cell_type": "code",
   "execution_count": null,
   "id": "dbb1ac9f",
   "metadata": {
    "ExecuteTime": {
     "end_time": "2022-07-06T02:38:52.903053Z",
     "start_time": "2022-07-06T02:38:52.895074Z"
    }
   },
   "outputs": [],
   "source": [
    "df_shopper.groupby(\"gender\")[\"接触回数\"].mean()"
   ]
  },
  {
   "cell_type": "markdown",
   "id": "80daeff5",
   "metadata": {},
   "source": [
    "## 6.3 仮説2「女性の方が長い時間比較検討してそう」の検証"
   ]
  },
  {
   "cell_type": "markdown",
   "id": "be8b2e1e",
   "metadata": {},
   "source": [
    "### 6.3.2 データで検証"
   ]
  },
  {
   "cell_type": "code",
   "execution_count": null,
   "id": "42b6d224",
   "metadata": {
    "ExecuteTime": {
     "end_time": "2022-07-06T02:38:52.921004Z",
     "start_time": "2022-07-06T02:38:52.904050Z"
    }
   },
   "outputs": [],
   "source": [
    "df_shopper.groupby(\"gender\")[\"time_duration\"].describe()"
   ]
  },
  {
   "cell_type": "markdown",
   "id": "55f61c91",
   "metadata": {},
   "source": [
    "### 6.3.5 仮説検定の進め方②　有意水準を設定しp値を算出する"
   ]
  },
  {
   "cell_type": "code",
   "execution_count": null,
   "id": "9fc5aa19",
   "metadata": {
    "ExecuteTime": {
     "end_time": "2022-07-06T02:38:53.564302Z",
     "start_time": "2022-07-06T02:38:52.922002Z"
    }
   },
   "outputs": [],
   "source": [
    "import scipy.stats as st\n",
    "xa = df_shopper[df_shopper[\"gender\"] == \"man\"][\"time_duration\"]\n",
    "xb = df_shopper[df_shopper[\"gender\"] == \"woman\"][\"time_duration\"]\n",
    "t, p = st.ttest_ind(xa, xb, equal_var=False)\n",
    "print(\"t値=\", t)\n",
    "print(\"p値=\", p)"
   ]
  },
  {
   "cell_type": "markdown",
   "id": "965a0f3e",
   "metadata": {},
   "source": [
    "## 6.4 仮説3「若い人はあまり商品を検討していない」の検証"
   ]
  },
  {
   "cell_type": "markdown",
   "id": "d6884fe7",
   "metadata": {},
   "source": [
    "### 6.4.2 データで検証"
   ]
  },
  {
   "cell_type": "code",
   "execution_count": null,
   "id": "1d748d4e",
   "metadata": {
    "ExecuteTime": {
     "end_time": "2022-07-06T02:38:53.588239Z",
     "start_time": "2022-07-06T02:38:53.565300Z"
    }
   },
   "outputs": [],
   "source": [
    "df_shopper.groupby(\"age\")[\"接触回数\"].describe()"
   ]
  },
  {
   "cell_type": "markdown",
   "id": "4cae34fd",
   "metadata": {},
   "source": [
    "## 6.5 仮説4「『雪のしずく』は『岩清水』と比較検討されている」の検証"
   ]
  },
  {
   "cell_type": "markdown",
   "id": "ce1c8090",
   "metadata": {},
   "source": [
    "### 6.5.2 データで検証"
   ]
  },
  {
   "cell_type": "code",
   "execution_count": null,
   "id": "7f4dd188",
   "metadata": {
    "ExecuteTime": {
     "end_time": "2022-07-06T02:38:53.600207Z",
     "start_time": "2022-07-06T02:38:53.589236Z"
    }
   },
   "outputs": [],
   "source": [
    "#「雪のしずく550ml」に接触したショッパーの人物IDのリストを作成\n",
    "list_tdr = df_et3[df_et3[\"product_name\"] == \"雪のしずく550ml\"][\"customer_id\"].drop_duplicates()\n",
    "list_tdr"
   ]
  },
  {
   "cell_type": "code",
   "execution_count": null,
   "id": "fe3e6a42",
   "metadata": {
    "ExecuteTime": {
     "end_time": "2022-07-06T02:38:53.624143Z",
     "start_time": "2022-07-06T02:38:53.601204Z"
    }
   },
   "outputs": [],
   "source": [
    "#その人物IDのショッパーの接触商品の一覧表を作成\n",
    "df_tmp = df_et3[df_et3[\"customer_id\"].isin(list_tdr)]\n",
    "df_tmp.head()"
   ]
  },
  {
   "cell_type": "code",
   "execution_count": null,
   "id": "e640af58",
   "metadata": {
    "ExecuteTime": {
     "end_time": "2022-07-06T02:38:53.632122Z",
     "start_time": "2022-07-06T02:38:53.625140Z"
    }
   },
   "outputs": [],
   "source": [
    "df_tmp[\"product_name\"].value_counts()"
   ]
  },
  {
   "cell_type": "markdown",
   "id": "08151b33",
   "metadata": {},
   "source": [
    "## 6.6 仮説5「時間帯によって手に取られる商品が異なる」の検証"
   ]
  },
  {
   "cell_type": "markdown",
   "id": "4e6ce60c",
   "metadata": {},
   "source": [
    "### 6.6.2 データで検証"
   ]
  },
  {
   "cell_type": "code",
   "execution_count": null,
   "id": "aef4bb80",
   "metadata": {
    "ExecuteTime": {
     "end_time": "2022-07-06T02:38:53.662042Z",
     "start_time": "2022-07-06T02:38:53.634117Z"
    }
   },
   "outputs": [],
   "source": [
    "df_et3.info() # 型の確認"
   ]
  },
  {
   "cell_type": "code",
   "execution_count": null,
   "id": "24aa2b63",
   "metadata": {
    "ExecuteTime": {
     "end_time": "2022-07-06T02:38:54.092177Z",
     "start_time": "2022-07-06T02:38:53.664038Z"
    }
   },
   "outputs": [],
   "source": [
    "df_tmp = df_et3.copy() # いったんコピー\n",
    "df_tmp[\"in_time\"] = pd.to_datetime(df_tmp[\"in_time\"]) # 型変換\n",
    "df_tmp.info() # 型の確認"
   ]
  },
  {
   "cell_type": "code",
   "execution_count": null,
   "id": "2fe13aad",
   "metadata": {
    "ExecuteTime": {
     "end_time": "2022-07-06T02:38:54.197334Z",
     "start_time": "2022-07-06T02:38:54.093105Z"
    }
   },
   "outputs": [],
   "source": [
    "df_tmp[\"hour\"] = df_tmp[\"in_time\"].dt.strftime(\"%H\") # 時のみ切り出してhourに格納\n",
    "df_tmp.head(5)"
   ]
  },
  {
   "cell_type": "code",
   "execution_count": null,
   "id": "14869998",
   "metadata": {
    "ExecuteTime": {
     "end_time": "2022-07-06T02:38:54.225259Z",
     "start_time": "2022-07-06T02:38:54.198332Z"
    }
   },
   "outputs": [],
   "source": [
    "df_tmp.groupby(\"hour\")[\"product_name\"].describe()"
   ]
  }
 ],
 "metadata": {
  "kernelspec": {
   "display_name": "Python 3 (ipykernel)",
   "language": "python",
   "name": "python3"
  },
  "language_info": {
   "codemirror_mode": {
    "name": "ipython",
    "version": 3
   },
   "file_extension": ".py",
   "mimetype": "text/x-python",
   "name": "python",
   "nbconvert_exporter": "python",
   "pygments_lexer": "ipython3",
   "version": "3.8.8"
  },
  "toc": {
   "base_numbering": 1,
   "nav_menu": {},
   "number_sections": true,
   "sideBar": true,
   "skip_h1_title": false,
   "title_cell": "Table of Contents",
   "title_sidebar": "Contents",
   "toc_cell": false,
   "toc_position": {},
   "toc_section_display": true,
   "toc_window_display": true
  },
  "varInspector": {
   "cols": {
    "lenName": 16,
    "lenType": 16,
    "lenVar": 40
   },
   "kernels_config": {
    "python": {
     "delete_cmd_postfix": "",
     "delete_cmd_prefix": "del ",
     "library": "var_list.py",
     "varRefreshCmd": "print(var_dic_list())"
    },
    "r": {
     "delete_cmd_postfix": ") ",
     "delete_cmd_prefix": "rm(",
     "library": "var_list.r",
     "varRefreshCmd": "cat(var_dic_list()) "
    }
   },
   "types_to_exclude": [
    "module",
    "function",
    "builtin_function_or_method",
    "instance",
    "_Feature"
   ],
   "window_display": false
  }
 },
 "nbformat": 4,
 "nbformat_minor": 5
}
