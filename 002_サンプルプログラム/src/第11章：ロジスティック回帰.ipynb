{
 "cells": [
  {
   "cell_type": "markdown",
   "id": "0e728de2",
   "metadata": {},
   "source": [
    "# 第11章：ロジスティック回帰"
   ]
  },
  {
   "cell_type": "markdown",
   "id": "f7e9477a",
   "metadata": {},
   "source": [
    "## 11.2 ロジスティック回帰の実装"
   ]
  },
  {
   "cell_type": "markdown",
   "id": "3fb6e631",
   "metadata": {},
   "source": [
    "### 11.2.1 モジュールなどの宣言"
   ]
  },
  {
   "cell_type": "code",
   "execution_count": null,
   "id": "6e61704e",
   "metadata": {
    "ExecuteTime": {
     "end_time": "2022-09-21T10:41:22.847087Z",
     "start_time": "2022-09-21T10:41:21.308681Z"
    }
   },
   "outputs": [],
   "source": [
    "import numpy as np\n",
    "import pandas as pd\n",
    "import matplotlib.pyplot as plt\n",
    "import joblib\n",
    "from sklearn.preprocessing import StandardScaler # 標準化用モジュール\n",
    "from sklearn.model_selection import train_test_split # ホールドアウト用モジュール\n",
    "from sklearn.linear_model import LogisticRegression as logr # ロジスティック回帰用モジュール\n",
    "from sklearn.metrics import accuracy_score, roc_auc_score # 評価指標用モジュール"
   ]
  },
  {
   "cell_type": "markdown",
   "id": "a8e8e4bc",
   "metadata": {},
   "source": [
    "### 11.2.2 pickleファイルの読み込みと訓練データの分割"
   ]
  },
  {
   "cell_type": "code",
   "execution_count": null,
   "id": "9a5527c5",
   "metadata": {
    "ExecuteTime": {
     "end_time": "2022-09-21T10:41:22.873017Z",
     "start_time": "2022-09-21T10:41:22.849081Z"
    }
   },
   "outputs": [],
   "source": [
    "# 前処理済み中間データのdictを読み取る\n",
    "pp_data_dict = joblib.load(\"../intermediate/pp_data_dict.pkl3\")\n",
    "\n",
    "# dictのvalueに格納されたロジスティック回帰向け中間データを読み取る\n",
    "lgr_train_df = pp_data_dict[\"lgr\"][\"train\"]\n",
    "lgr_test_df = pp_data_dict[\"lgr\"][\"test\"]\n",
    "\n",
    "# 6:4の割合でホールドアウト法を行う\n",
    "lgr_train_train_df, lgr_train_valid_df = train_test_split(lgr_train_df, test_size=0.4, random_state=57, shuffle=True)\n",
    "\n",
    "lgr_train_df.shape, lgr_train_train_df.shape, lgr_train_valid_df.shape, lgr_test_df.shape"
   ]
  },
  {
   "cell_type": "code",
   "execution_count": null,
   "id": "7a2d5965",
   "metadata": {
    "ExecuteTime": {
     "end_time": "2022-09-21T10:41:22.879000Z",
     "start_time": "2022-09-21T10:41:22.874014Z"
    }
   },
   "outputs": [],
   "source": [
    "# 目的変数をtargetという変数に格納する\n",
    "target = \"buy_flag\"\n",
    "\n",
    "# 説明変数をfeaturesという変数に格納する\n",
    "lgr_features = lgr_train_df.columns.tolist()\n",
    "\n",
    "# customer_idとbuy_flagは説明変数ではない為削除する\n",
    "lgr_features.remove(\"customer_id\")\n",
    "lgr_features.remove(\"buy_flag\")"
   ]
  },
  {
   "cell_type": "markdown",
   "id": "cc7c6d95",
   "metadata": {},
   "source": [
    "## 11.3 ハイパーパラメータチューニング"
   ]
  },
  {
   "cell_type": "markdown",
   "id": "f9d0e138",
   "metadata": {},
   "source": [
    "### 11.3.2 グリッドサーチ"
   ]
  },
  {
   "cell_type": "code",
   "execution_count": null,
   "id": "ad86f630",
   "metadata": {
    "ExecuteTime": {
     "end_time": "2022-09-21T10:41:22.896953Z",
     "start_time": "2022-09-21T10:41:22.880995Z"
    }
   },
   "outputs": [],
   "source": [
    "# ハイパーパラメータチューニング\n",
    "# グリッドサーチ\n",
    "# 探索するハイパーパラメータの候補をリストに格納する.\n",
    "lgr_params_list = [{\"penalty\": \"l2\", \"C\": ii, \"random_state\": 57} for ii in np.arange(0.005, 0.5, 0.005)]\n",
    "lgr_params_list"
   ]
  },
  {
   "cell_type": "code",
   "execution_count": null,
   "id": "5780b452",
   "metadata": {
    "ExecuteTime": {
     "end_time": "2022-09-21T10:41:27.383192Z",
     "start_time": "2022-09-21T10:41:22.897950Z"
    }
   },
   "outputs": [],
   "source": [
    "# グリッドサーチの結果を格納するリスト\n",
    "gs_result_list = []\n",
    "\n",
    "# グリッドサーチの実施\n",
    "for params_dict in lgr_params_list:\n",
    "    # 定義する\n",
    "    tmp_lgr_clf = logr(**params_dict, max_iter=1000)\n",
    "    # 学習する\n",
    "    tmp_lgr_clf.fit(lgr_train_train_df[lgr_features], lgr_train_train_df[target])\n",
    "    \n",
    "    # train-trainを予測する（predict関数）\n",
    "    train_pred_y = tmp_lgr_clf.predict(lgr_train_train_df[lgr_features])\n",
    "    \n",
    "    # train-trainを予測する（predict_proba関数）\n",
    "    train_proba_y = tmp_lgr_clf.predict_proba(lgr_train_train_df[lgr_features]).T[1]\n",
    "    \n",
    "    # train-validを予測する（predict関数）\n",
    "    valid_pred_y = tmp_lgr_clf.predict(lgr_train_valid_df[lgr_features])\n",
    "    \n",
    "    # train-validを予測する（predict_proba関数）\n",
    "    valid_proba_y = tmp_lgr_clf.predict_proba(lgr_train_valid_df[lgr_features]).T[1]\n",
    "    \n",
    "    # train-trainを検証する\n",
    "    train_accuracy_val = accuracy_score(lgr_train_train_df[target], train_pred_y)\n",
    "    train_auc_val = roc_auc_score(lgr_train_train_df[target], train_proba_y)\n",
    "    \n",
    "    # train-validを検証する\n",
    "    valid_accuracy_val = accuracy_score(lgr_train_valid_df[target], valid_pred_y)\n",
    "    valid_auc_val = roc_auc_score(lgr_train_valid_df[target], valid_proba_y)\n",
    "    \n",
    "    # リストに格納する\n",
    "    gs_result_list += [[params_dict, params_dict[\"C\"], train_accuracy_val, train_auc_val, valid_accuracy_val, valid_auc_val]]"
   ]
  },
  {
   "cell_type": "code",
   "execution_count": null,
   "id": "357a97bb",
   "metadata": {
    "ExecuteTime": {
     "end_time": "2022-09-21T10:41:27.403140Z",
     "start_time": "2022-09-21T10:41:27.384189Z"
    }
   },
   "outputs": [],
   "source": [
    "# 結果をDataFrameに格納する\n",
    "gs_result_df = pd.DataFrame(gs_result_list, columns=[\"params_dict\", \"L2_regularization_strength\", \"train_accuracy\", \"train_auc\", \"valid_accuracy\", \"valid_auc\"])\n",
    "# 各パラメータ値ごとのvalidのAUCを確認する\n",
    "gs_result_df[[\"L2_regularization_strength\", \"train_accuracy\", \"train_auc\", \"valid_accuracy\", \"valid_auc\"]].sort_values(by=\"valid_auc\", ascending=False).reset_index(drop=True).head(10)"
   ]
  },
  {
   "cell_type": "markdown",
   "id": "0a582305",
   "metadata": {},
   "source": [
    "### 11.3.3 ロジスティック回帰の可視化"
   ]
  },
  {
   "cell_type": "code",
   "execution_count": null,
   "id": "7f485843",
   "metadata": {
    "ExecuteTime": {
     "end_time": "2022-09-21T10:41:27.572687Z",
     "start_time": "2022-09-21T10:41:27.406131Z"
    }
   },
   "outputs": [],
   "source": [
    "# Accuracyの可視化\n",
    "plt.figure(figsize=(6, 5), facecolor=\"white\", dpi=150)\n",
    "# train Accuracy\n",
    "plt.plot(gs_result_df[\"L2_regularization_strength\"], gs_result_df[\"train_accuracy\"], label=\"train_accuracy\")\n",
    "# valid Accuracy\n",
    "plt.plot(gs_result_df[\"L2_regularization_strength\"], gs_result_df[\"valid_accuracy\"], label=\"valid_accuracy\")\n",
    "plt.title(\"Accuracy\\nlgr L2_regularization_strength tuning\", fontsize=10)\n",
    "plt.xlabel(\"L2_regularization_strength\", fontsize=10)\n",
    "plt.ylabel(\"Accuracy\", fontsize=10)\n",
    "plt.legend()\n",
    "plt.grid()\n",
    "plt.show()"
   ]
  },
  {
   "cell_type": "code",
   "execution_count": null,
   "id": "3cd73280",
   "metadata": {
    "ExecuteTime": {
     "end_time": "2022-09-21T10:41:27.756195Z",
     "start_time": "2022-09-21T10:41:27.574681Z"
    }
   },
   "outputs": [],
   "source": [
    "# AUCの可視化\n",
    "plt.figure(figsize=(6, 5), facecolor=\"white\", dpi=150)\n",
    "# train AUC\n",
    "plt.plot(gs_result_df[\"L2_regularization_strength\"], gs_result_df[\"train_auc\"], label=\"train_auc\")\n",
    "# valid AUC\n",
    "plt.plot(gs_result_df[\"L2_regularization_strength\"], gs_result_df[\"valid_auc\"], label=\"valid_auc\")\n",
    "plt.title(\"AUC\\nlgr L2_regularization_strength tuning\", fontsize=10)\n",
    "plt.xlabel(\"L2_regularization_strength\", fontsize=10)\n",
    "plt.ylabel(\"AUC\", fontsize=10)\n",
    "plt.legend()\n",
    "plt.grid()\n",
    "plt.show()"
   ]
  },
  {
   "cell_type": "code",
   "execution_count": null,
   "id": "9e68b6be",
   "metadata": {
    "ExecuteTime": {
     "end_time": "2022-09-21T10:41:27.762180Z",
     "start_time": "2022-09-21T10:41:27.757192Z"
    }
   },
   "outputs": [],
   "source": [
    "# train-validのAUCが最も高いハイパーパラメータの組み合わせを変数に格納する.\n",
    "lgr_best_idx = np.argmax(gs_result_df[\"valid_auc\"])\n",
    "lgr_best_params = gs_result_df[\"params_dict\"].values[lgr_best_idx]\n",
    "lgr_best_score = gs_result_df[\"valid_auc\"].values[lgr_best_idx]\n",
    "\n",
    "# 内容を確認\n",
    "print(\"lgr_best_params:\", lgr_best_params)\n",
    "print(\"lgr_best_score:\", lgr_best_score)"
   ]
  },
  {
   "cell_type": "markdown",
   "id": "b8aad7ea",
   "metadata": {},
   "source": [
    "## 11.4 最適化したロジスティック回帰モデルの実装"
   ]
  },
  {
   "cell_type": "markdown",
   "id": "d4475054",
   "metadata": {},
   "source": [
    "### 11.4.1 モデルの構築"
   ]
  },
  {
   "cell_type": "code",
   "execution_count": null,
   "id": "c8972640",
   "metadata": {
    "ExecuteTime": {
     "end_time": "2022-09-21T10:41:27.812046Z",
     "start_time": "2022-09-21T10:41:27.766169Z"
    }
   },
   "outputs": [],
   "source": [
    "# 最適化したハイパーパラメータを使用してモデルを定義する\n",
    "lgr_clf = logr(**lgr_best_params, max_iter=1000)\n",
    "\n",
    "# 学習する\n",
    "lgr_clf.fit(lgr_train_df[lgr_features], lgr_train_df[target])"
   ]
  },
  {
   "cell_type": "markdown",
   "id": "23c26923",
   "metadata": {},
   "source": [
    "### 11.4.2 標準化の実施"
   ]
  },
  {
   "cell_type": "code",
   "execution_count": null,
   "id": "f52f9a78",
   "metadata": {
    "ExecuteTime": {
     "end_time": "2022-09-21T10:41:27.869892Z",
     "start_time": "2022-09-21T10:41:27.813044Z"
    }
   },
   "outputs": [],
   "source": [
    "# 標準化されていないことを確認する\n",
    "lgr_train_df[lgr_features].describe()"
   ]
  },
  {
   "cell_type": "code",
   "execution_count": null,
   "id": "8fe3cecc",
   "metadata": {
    "ExecuteTime": {
     "end_time": "2022-09-21T10:41:27.953669Z",
     "start_time": "2022-09-21T10:41:27.871887Z"
    }
   },
   "outputs": [],
   "source": [
    "# 説明変数の標準化を行う\n",
    "scaler = StandardScaler()\n",
    "lgr_train_df[lgr_features] = scaler.fit_transform(lgr_train_df[lgr_features])\n",
    "\n",
    "# 標準化されたことを確認する\n",
    "lgr_train_df[lgr_features].describe()"
   ]
  },
  {
   "cell_type": "code",
   "execution_count": null,
   "id": "de778b44",
   "metadata": {
    "ExecuteTime": {
     "end_time": "2022-09-21T10:41:27.971619Z",
     "start_time": "2022-09-21T10:41:27.954666Z"
    }
   },
   "outputs": [],
   "source": [
    "# 最適化したハイパーパラメータを使用してモデルを定義する\n",
    "lgr_clf = logr(**lgr_best_params, max_iter=1000)\n",
    "\n",
    "# 学習する\n",
    "lgr_clf.fit(lgr_train_df[lgr_features], lgr_train_df[target])"
   ]
  },
  {
   "cell_type": "markdown",
   "id": "80538858",
   "metadata": {},
   "source": [
    "### 11.4.3 偏回帰係数の確認"
   ]
  },
  {
   "cell_type": "code",
   "execution_count": null,
   "id": "13424018",
   "metadata": {
    "ExecuteTime": {
     "end_time": "2022-09-21T10:41:27.987578Z",
     "start_time": "2022-09-21T10:41:27.972618Z"
    }
   },
   "outputs": [],
   "source": [
    "# 偏回帰係数を確認する\n",
    "lgr_coef_df = pd.DataFrame({\"feature\": lgr_features, \"coefficient\": lgr_clf.coef_[0]})\n",
    "lgr_coef_df = lgr_coef_df.append(pd.DataFrame({\"feature\": \"constant\", \"coefficient\": lgr_clf.intercept_}))\n",
    "lgr_coef_df[\"abs_coefficient\"] = lgr_coef_df[\"coefficient\"].abs()\n",
    "lgr_coef_df = lgr_coef_df.sort_values(by=\"abs_coefficient\", ascending=False).reset_index(drop=True)\n",
    "lgr_coef_df.head(15)"
   ]
  },
  {
   "cell_type": "markdown",
   "id": "afe437b0",
   "metadata": {},
   "source": [
    "### 11.4.4 予測と検証"
   ]
  },
  {
   "cell_type": "code",
   "execution_count": null,
   "id": "86849b2b",
   "metadata": {
    "ExecuteTime": {
     "end_time": "2022-09-21T10:41:28.001540Z",
     "start_time": "2022-09-21T10:41:27.988576Z"
    }
   },
   "outputs": [],
   "source": [
    "# trainを予測する\n",
    "train_pred_y = lgr_clf.predict(lgr_train_df[lgr_features])\n",
    "train_proba_y = lgr_clf.predict_proba(lgr_train_df[lgr_features]).T[1]\n",
    "\n",
    "# trainを検証する\n",
    "train_accuracy_val = accuracy_score(lgr_train_df[target], train_pred_y)\n",
    "train_auc_val = roc_auc_score(lgr_train_df[target], train_proba_y)\n",
    "train_accuracy_val, train_auc_val"
   ]
  },
  {
   "cell_type": "markdown",
   "id": "fc770269",
   "metadata": {},
   "source": [
    "### 11.4.5 テストデータの予測"
   ]
  },
  {
   "cell_type": "code",
   "execution_count": null,
   "id": "6d711c65",
   "metadata": {
    "ExecuteTime": {
     "end_time": "2022-09-21T10:41:28.013509Z",
     "start_time": "2022-09-21T10:41:28.003536Z"
    }
   },
   "outputs": [],
   "source": [
    "# testを予測する\n",
    "test_pred_y = lgr_clf.predict(lgr_test_df[lgr_features])\n",
    "test_proba_y = lgr_clf.predict_proba(lgr_test_df[lgr_features]).T[1]"
   ]
  },
  {
   "cell_type": "code",
   "execution_count": null,
   "id": "8d103f32",
   "metadata": {
    "ExecuteTime": {
     "end_time": "2022-09-21T10:41:28.023481Z",
     "start_time": "2022-09-21T10:41:28.014506Z"
    }
   },
   "outputs": [],
   "source": [
    "# sample submitデータを読み込む\n",
    "gi_sample_submit_df = pd.read_csv(\"../input/gi_sample_submit.csv\")"
   ]
  },
  {
   "cell_type": "code",
   "execution_count": null,
   "id": "964078ff",
   "metadata": {
    "ExecuteTime": {
     "end_time": "2022-09-21T10:41:28.035451Z",
     "start_time": "2022-09-21T10:41:28.024479Z"
    }
   },
   "outputs": [],
   "source": [
    "# submit向けDataFrameを作成し、列に予測確率を格納する\n",
    "submit_df = lgr_test_df.copy()[[\"customer_id\"]]\n",
    "submit_df[\"buy_proba\"] = test_proba_y\n",
    "submit_df.head()"
   ]
  },
  {
   "cell_type": "code",
   "execution_count": null,
   "id": "c1804a39",
   "metadata": {
    "ExecuteTime": {
     "end_time": "2022-09-21T10:41:28.043427Z",
     "start_time": "2022-09-21T10:41:28.036448Z"
    }
   },
   "outputs": [],
   "source": [
    "gi_sample_submit_df.shape, submit_df.shape"
   ]
  },
  {
   "cell_type": "code",
   "execution_count": null,
   "id": "ba50178f",
   "metadata": {},
   "outputs": [],
   "source": [
    "submit_df = pd.merge(gi_sample_submit_df.drop(\"buy_proba\", axis=1), submit_df, on=\"customer_id\", how=\"left\").reset_index(drop=True)\n",
    "submit_df.head()"
   ]
  },
  {
   "cell_type": "code",
   "execution_count": null,
   "id": "c5fc23ec",
   "metadata": {},
   "outputs": [],
   "source": [
    "submit_df.shape"
   ]
  },
  {
   "cell_type": "code",
   "execution_count": null,
   "id": "33b4dfab",
   "metadata": {
    "ExecuteTime": {
     "end_time": "2022-09-21T10:41:28.065369Z",
     "start_time": "2022-09-21T10:41:28.052403Z"
    }
   },
   "outputs": [],
   "source": [
    "# outputディレクトリにsubmit用ファイルを出力する\n",
    "submit_df.to_csv(f\"../output/submit_lgr.csv\", encoding=\"utf-8\", index=False)"
   ]
  }
 ],
 "metadata": {
  "kernelspec": {
   "display_name": "Python 3 (ipykernel)",
   "language": "python",
   "name": "python3"
  },
  "language_info": {
   "codemirror_mode": {
    "name": "ipython",
    "version": 3
   },
   "file_extension": ".py",
   "mimetype": "text/x-python",
   "name": "python",
   "nbconvert_exporter": "python",
   "pygments_lexer": "ipython3",
   "version": "3.8.8"
  },
  "toc": {
   "base_numbering": 1,
   "nav_menu": {},
   "number_sections": true,
   "sideBar": true,
   "skip_h1_title": false,
   "title_cell": "Table of Contents",
   "title_sidebar": "Contents",
   "toc_cell": false,
   "toc_position": {},
   "toc_section_display": true,
   "toc_window_display": true
  },
  "varInspector": {
   "cols": {
    "lenName": 16,
    "lenType": 16,
    "lenVar": 40
   },
   "kernels_config": {
    "python": {
     "delete_cmd_postfix": "",
     "delete_cmd_prefix": "del ",
     "library": "var_list.py",
     "varRefreshCmd": "print(var_dic_list())"
    },
    "r": {
     "delete_cmd_postfix": ") ",
     "delete_cmd_prefix": "rm(",
     "library": "var_list.r",
     "varRefreshCmd": "cat(var_dic_list()) "
    }
   },
   "types_to_exclude": [
    "module",
    "function",
    "builtin_function_or_method",
    "instance",
    "_Feature"
   ],
   "window_display": false
  }
 },
 "nbformat": 4,
 "nbformat_minor": 5
}
