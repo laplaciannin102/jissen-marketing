{
 "cells": [
  {
   "cell_type": "markdown",
   "id": "31c317ad",
   "metadata": {},
   "source": [
    "# 第12章：アンサンブル"
   ]
  },
  {
   "cell_type": "markdown",
   "id": "ddd6c2dc",
   "metadata": {},
   "source": [
    "## 12.2 決定木とロジスティック回帰のアンサンブル"
   ]
  },
  {
   "cell_type": "markdown",
   "id": "53a6b93d",
   "metadata": {},
   "source": [
    "### 12.2.2 モジュールなどの宣言"
   ]
  },
  {
   "cell_type": "code",
   "execution_count": null,
   "id": "c78e326c",
   "metadata": {
    "ExecuteTime": {
     "end_time": "2022-09-21T10:41:28.509284Z",
     "start_time": "2022-09-21T10:41:27.549748Z"
    },
    "scrolled": true
   },
   "outputs": [],
   "source": [
    "import numpy as np\n",
    "import pandas as pd\n",
    "import joblib\n",
    "from sklearn.model_selection import train_test_split # ホールドアウト用モジュール\n",
    "from sklearn.metrics import accuracy_score, roc_auc_score # 評価指標用モジュール"
   ]
  },
  {
   "cell_type": "markdown",
   "id": "f44329d5",
   "metadata": {},
   "source": [
    "### 12.2.3 csvファイルの読み込み"
   ]
  },
  {
   "cell_type": "code",
   "execution_count": null,
   "id": "cf51a479",
   "metadata": {
    "ExecuteTime": {
     "end_time": "2022-09-21T10:41:28.527234Z",
     "start_time": "2022-09-21T10:41:28.510281Z"
    }
   },
   "outputs": [],
   "source": [
    "# 決定木のsubmit用ファイルを読み込む\n",
    "submit_dtc_df = pd.read_csv(\"../output/submit_dtc.csv\", encoding=\"utf-8\", dtype={\"customer_id\": str, \"buy_proba\": float})\n",
    "\n",
    "# ロジスティック回帰のsubmit用ファイルを読み込む\n",
    "submit_lgr_df = pd.read_csv(\"../output/submit_lgr.csv\", encoding=\"utf-8\", dtype={\"customer_id\": str, \"buy_proba\": float})"
   ]
  },
  {
   "cell_type": "markdown",
   "id": "2f12a67e",
   "metadata": {},
   "source": [
    "### 12.2.4 予測結果のマージ"
   ]
  },
  {
   "cell_type": "code",
   "execution_count": null,
   "id": "816b597a",
   "metadata": {
    "ExecuteTime": {
     "end_time": "2022-09-21T10:41:28.557155Z",
     "start_time": "2022-09-21T10:41:28.530228Z"
    }
   },
   "outputs": [],
   "source": [
    "# 決定木とロジスティック回帰の予測結果をマージする\n",
    "submit_dtc_lgr_df = pd.merge(submit_dtc_df, submit_lgr_df, on=\"customer_id\", suffixes=[\"_dtc\", \"_lgr\"])\n",
    "\n",
    "# 行数・列数を確認する\n",
    "print(f\"submit_dtc_lgr_df.shape: {submit_dtc_lgr_df.shape}\")\n",
    "\n",
    "# DataFrameの中身を確認する\n",
    "submit_dtc_lgr_df.head()"
   ]
  },
  {
   "cell_type": "markdown",
   "id": "35c3a851",
   "metadata": {},
   "source": [
    "### 12.2.5 平均値の取得と分類"
   ]
  },
  {
   "cell_type": "code",
   "execution_count": null,
   "id": "4d2e5d1e",
   "metadata": {
    "ExecuteTime": {
     "end_time": "2022-09-21T10:41:28.567128Z",
     "start_time": "2022-09-21T10:41:28.559150Z"
    }
   },
   "outputs": [],
   "source": [
    "# 平均を取得する\n",
    "submit_dtc_lgr_df[\"buy_proba\"] = submit_dtc_lgr_df[[\"buy_proba_dtc\", \"buy_proba_lgr\"]].mean(axis=1)"
   ]
  },
  {
   "cell_type": "code",
   "execution_count": null,
   "id": "72eb1069",
   "metadata": {
    "ExecuteTime": {
     "end_time": "2022-09-21T10:41:28.583086Z",
     "start_time": "2022-09-21T10:41:28.568126Z"
    }
   },
   "outputs": [],
   "source": [
    "# 0.5をしきい値に分類を行う\n",
    "submit_dtc_lgr_df[\"pred_buy_flag\"] = np.where(submit_dtc_lgr_df[\"buy_proba\"] >= 0.5, 1, 0)\n",
    "print(submit_dtc_lgr_df.shape)\n",
    "submit_dtc_lgr_df.head()"
   ]
  },
  {
   "cell_type": "code",
   "execution_count": null,
   "id": "61cd8b95",
   "metadata": {
    "ExecuteTime": {
     "end_time": "2022-09-21T10:41:28.593059Z",
     "start_time": "2022-09-21T10:41:28.584083Z"
    }
   },
   "outputs": [],
   "source": [
    "submit_dtc_lgr_df[\"pred_buy_flag\"].value_counts()"
   ]
  },
  {
   "cell_type": "code",
   "execution_count": null,
   "id": "6b4fe824",
   "metadata": {
    "ExecuteTime": {
     "end_time": "2022-09-21T10:41:28.607022Z",
     "start_time": "2022-09-21T10:41:28.594056Z"
    }
   },
   "outputs": [],
   "source": [
    "submit_dtc_lgr_mean_df = submit_dtc_lgr_df[[\"customer_id\", \"buy_proba\"]]\n",
    "print(submit_dtc_lgr_mean_df.shape)\n",
    "submit_dtc_lgr_mean_df.head()"
   ]
  },
  {
   "cell_type": "code",
   "execution_count": null,
   "id": "0c0a0acb",
   "metadata": {
    "ExecuteTime": {
     "end_time": "2022-09-21T10:41:28.620984Z",
     "start_time": "2022-09-21T10:41:28.609017Z"
    }
   },
   "outputs": [],
   "source": [
    "# outputディレクトリにsubmit用ファイルを出力する.\n",
    "submit_dtc_lgr_mean_df.to_csv(\"../output/submit_dtc_lgr_mean.csv\", encoding=\"utf-8\", index=False)"
   ]
  },
  {
   "cell_type": "markdown",
   "id": "2e5be0ed",
   "metadata": {},
   "source": [
    "## 12.3 LightGBM"
   ]
  },
  {
   "cell_type": "markdown",
   "id": "e4fd7df2",
   "metadata": {},
   "source": [
    "### 12.3.2 pickleファイルの読み込みと訓練データの分割"
   ]
  },
  {
   "cell_type": "code",
   "execution_count": null,
   "id": "7a165e53",
   "metadata": {
    "ExecuteTime": {
     "end_time": "2022-09-21T10:41:28.644922Z",
     "start_time": "2022-09-21T10:41:28.621982Z"
    }
   },
   "outputs": [],
   "source": [
    "# 前処理済み中間データのdictを読み取る\n",
    "pp_data_dict = joblib.load(\"../intermediate/pp_data_dict.pkl3\")\n",
    "# 辞書型変数の値に格納された決定木向け中間データを読み取る\n",
    "dtc_train_df = pp_data_dict[\"dtc\"][\"train\"]\n",
    "dtc_test_df = pp_data_dict[\"dtc\"][\"test\"]\n",
    "# 6:4の割合でホールドアウト法を行う\n",
    "dtc_train_train_df, dtc_train_valid_df = train_test_split(dtc_train_df, test_size=0.4, random_state=57, shuffle=True)\n",
    "dtc_train_df.shape, dtc_train_train_df.shape, dtc_train_valid_df.shape, dtc_test_df.shape"
   ]
  },
  {
   "cell_type": "code",
   "execution_count": null,
   "id": "2d179ed3",
   "metadata": {
    "ExecuteTime": {
     "end_time": "2022-09-21T10:41:28.652899Z",
     "start_time": "2022-09-21T10:41:28.647913Z"
    }
   },
   "outputs": [],
   "source": [
    "# 目的変数をtargetという変数に格納する\n",
    "target = \"buy_flag\"\n",
    "# 説明変数をfeaturesという変数に格納する\n",
    "lgbc_features = dtc_train_df.columns.tolist()\n",
    "# customer_idとbuy_flagは説明変数ではない為削除する\n",
    "lgbc_features.remove(\"customer_id\")\n",
    "lgbc_features.remove(\"buy_flag\")"
   ]
  },
  {
   "cell_type": "markdown",
   "id": "74623ac0",
   "metadata": {},
   "source": [
    "### 12.3.3 データセットの生成とモデルの構築"
   ]
  },
  {
   "cell_type": "code",
   "execution_count": null,
   "id": "de0f05e9",
   "metadata": {
    "ExecuteTime": {
     "end_time": "2022-09-21T10:41:29.426344Z",
     "start_time": "2022-09-21T10:41:28.653896Z"
    }
   },
   "outputs": [],
   "source": [
    "import lightgbm as lgb # LightGBM"
   ]
  },
  {
   "cell_type": "code",
   "execution_count": null,
   "id": "a04fb101",
   "metadata": {
    "ExecuteTime": {
     "end_time": "2022-09-21T10:41:29.438311Z",
     "start_time": "2022-09-21T10:41:29.428338Z"
    }
   },
   "outputs": [],
   "source": [
    "# LightGBM用データセットを生成する\n",
    "lgb_train_train_dataset = lgb.Dataset(dtc_train_train_df[lgbc_features], dtc_train_train_df[target])\n",
    "lgb_train_valid_dataset = lgb.Dataset(dtc_train_valid_df[lgbc_features], dtc_train_valid_df[target], reference=lgb_train_train_dataset)\n",
    "\n",
    "lgb_train_dataset = lgb.Dataset(dtc_train_df[lgbc_features], dtc_train_df[target])\n",
    "lgb_test_dataset = lgb.Dataset(dtc_test_df[lgbc_features], reference=lgb_train_dataset)"
   ]
  },
  {
   "cell_type": "code",
   "execution_count": null,
   "id": "fd0f1178",
   "metadata": {
    "ExecuteTime": {
     "end_time": "2022-09-21T10:41:29.444295Z",
     "start_time": "2022-09-21T10:41:29.439309Z"
    }
   },
   "outputs": [],
   "source": [
    "# あらかじめ設定しておくハイパーパラメータ\n",
    "lgbc_params = {\n",
    "    \"objective\": \"binary\", # 問題設定: 二値分類\n",
    "    \"metric\": \"auc\", # 評価関数: AUC\n",
    "    \"verbosity\": -1 # 出力なし\n",
    "}"
   ]
  },
  {
   "cell_type": "code",
   "execution_count": null,
   "id": "aa6a9d57",
   "metadata": {
    "ExecuteTime": {
     "end_time": "2022-09-21T10:41:29.554002Z",
     "start_time": "2022-09-21T10:41:29.445293Z"
    }
   },
   "outputs": [],
   "source": [
    "# 学習する\n",
    "lgbc_clf = lgb.train(\n",
    "    lgbc_params, # ハイパーパラメータ\n",
    "    train_set=lgb_train_train_dataset, # 学習データ\n",
    "    num_boost_round=100, # ブースティングを行う回数\n",
    "    verbose_eval=20 # ブースティング20回につき1回結果を出力\n",
    ")"
   ]
  },
  {
   "cell_type": "markdown",
   "id": "43427b4e",
   "metadata": {},
   "source": [
    "### 12.3.4 予測と検証"
   ]
  },
  {
   "cell_type": "code",
   "execution_count": null,
   "id": "8e40792a",
   "metadata": {
    "ExecuteTime": {
     "end_time": "2022-09-21T10:41:29.569960Z",
     "start_time": "2022-09-21T10:41:29.555000Z"
    }
   },
   "outputs": [],
   "source": [
    "# train-validを予測する\n",
    "lgbc_train_valid_proba_y = lgbc_clf.predict(dtc_train_valid_df[lgbc_features])\n",
    "lgbc_train_valid_proba_y"
   ]
  },
  {
   "cell_type": "code",
   "execution_count": null,
   "id": "034e49b5",
   "metadata": {
    "ExecuteTime": {
     "end_time": "2022-09-21T10:41:29.581928Z",
     "start_time": "2022-09-21T10:41:29.571955Z"
    }
   },
   "outputs": [],
   "source": [
    "# train-validを検証する\n",
    "lgbc_train_valid_auc_val = roc_auc_score(dtc_train_valid_df[target], lgbc_train_valid_proba_y)\n",
    "lgbc_train_valid_auc_val"
   ]
  },
  {
   "cell_type": "markdown",
   "id": "55aa4167",
   "metadata": {},
   "source": [
    "## 12.4 ハイパーパラメータチューニング"
   ]
  },
  {
   "cell_type": "markdown",
   "id": "5fdea659",
   "metadata": {},
   "source": [
    "### 12.4.2 Optunaのインストールとimport"
   ]
  },
  {
   "cell_type": "raw",
   "id": "861419fb",
   "metadata": {
    "ExecuteTime": {
     "end_time": "2022-09-21T07:13:22.904052Z",
     "start_time": "2022-09-21T07:12:59.586830Z"
    }
   },
   "source": [
    "!pip install --quiet optuna"
   ]
  },
  {
   "cell_type": "code",
   "execution_count": null,
   "id": "7ae2fbd3",
   "metadata": {
    "ExecuteTime": {
     "end_time": "2022-09-21T10:41:29.917590Z",
     "start_time": "2022-09-21T10:41:29.583922Z"
    }
   },
   "outputs": [],
   "source": [
    "import optuna.integration.lightgbm as optuna_lgb # OptunaによるLightGBM\n",
    "import warnings\n",
    "warnings.filterwarnings(\"ignore\")"
   ]
  },
  {
   "cell_type": "code",
   "execution_count": null,
   "id": "965be10f",
   "metadata": {
    "ExecuteTime": {
     "end_time": "2022-09-21T10:41:29.927563Z",
     "start_time": "2022-09-21T10:41:29.918587Z"
    }
   },
   "outputs": [],
   "source": [
    "# LightGBM用データセットを生成する\n",
    "lgb_train_train_dataset = lgb.Dataset(dtc_train_train_df[lgbc_features], dtc_train_train_df[target])\n",
    "lgb_train_valid_dataset = lgb.Dataset(dtc_train_valid_df[lgbc_features], dtc_train_valid_df[target], reference=lgb_train_train_dataset)\n",
    "\n",
    "lgb_train_dataset = lgb.Dataset(dtc_train_df[lgbc_features], dtc_train_df[target])\n",
    "lgb_test_dataset = lgb.Dataset(dtc_test_df[lgbc_features], reference=lgb_train_dataset)"
   ]
  },
  {
   "cell_type": "markdown",
   "id": "0f1680b0",
   "metadata": {},
   "source": [
    "### 12.4.3 Optunaによる探索"
   ]
  },
  {
   "cell_type": "code",
   "execution_count": null,
   "id": "154532fb",
   "metadata": {
    "ExecuteTime": {
     "end_time": "2022-09-21T10:41:36.571682Z",
     "start_time": "2022-09-21T10:41:29.928560Z"
    }
   },
   "outputs": [],
   "source": [
    "# OptunaによるLightGBMのハイパーパラメータチューニング\n",
    "optuna_lgbc_clf = optuna_lgb.train(\n",
    "    lgbc_params, # 固定のハイパーパラメータ\n",
    "    train_set=lgb_train_train_dataset, # 学習データ\n",
    "    valid_sets=lgb_train_valid_dataset, # 検証データ\n",
    "    num_boost_round=100, # boostingを行う回数\n",
    "    verbose_eval=20, # ブースティング20回につき1回結果を出力\n",
    "    optuna_seed=57 # 再現性確保のためseed値を指定\n",
    ")"
   ]
  },
  {
   "cell_type": "code",
   "execution_count": null,
   "id": "9e5d09d9",
   "metadata": {
    "ExecuteTime": {
     "end_time": "2022-09-21T10:41:36.579681Z",
     "start_time": "2022-09-21T10:41:36.573676Z"
    }
   },
   "outputs": [],
   "source": [
    "# 最適なパラメータの確認\n",
    "best_lgbc_params = optuna_lgbc_clf.params\n",
    "best_lgbc_params"
   ]
  },
  {
   "cell_type": "markdown",
   "id": "66f9316a",
   "metadata": {},
   "source": [
    "## 12.5 最適化したLightGBMモデルの実装"
   ]
  },
  {
   "cell_type": "markdown",
   "id": "fc37f2e3",
   "metadata": {},
   "source": [
    "### 12.5.1 モデルの構築"
   ]
  },
  {
   "cell_type": "code",
   "execution_count": null,
   "id": "bf427b81",
   "metadata": {
    "ExecuteTime": {
     "end_time": "2022-09-21T10:41:36.605727Z",
     "start_time": "2022-09-21T10:41:36.581676Z"
    }
   },
   "outputs": [],
   "source": [
    "# 学習する\n",
    "lgbc_clf = lgb.train(\n",
    "    best_lgbc_params, # 最適なハイパーパラメータ\n",
    "    train_set=lgb_train_train_dataset, # 学習データ\n",
    "    # valid_sets=lgb_valid_dataset, # 検証データ\n",
    "    num_boost_round=100, # boostingを行う回数\n",
    "    verbose_eval=20 # ブースティング20回につき1回結果を出力\n",
    ")"
   ]
  },
  {
   "cell_type": "code",
   "execution_count": null,
   "id": "175a7ada",
   "metadata": {
    "ExecuteTime": {
     "end_time": "2022-09-21T10:41:36.619712Z",
     "start_time": "2022-09-21T10:41:36.607722Z"
    }
   },
   "outputs": [],
   "source": [
    "# train-validを予測する\n",
    "lgbc_train_valid_proba_y = lgbc_clf.predict(dtc_train_valid_df[lgbc_features])\n",
    "lgbc_train_valid_proba_y"
   ]
  },
  {
   "cell_type": "code",
   "execution_count": null,
   "id": "7ba6128d",
   "metadata": {
    "ExecuteTime": {
     "end_time": "2022-09-21T10:41:36.628709Z",
     "start_time": "2022-09-21T10:41:36.621707Z"
    }
   },
   "outputs": [],
   "source": [
    "# train-validを検証する（AUCを算出する）\n",
    "lgbc_train_valid_auc_val = roc_auc_score(dtc_train_valid_df[target], lgbc_train_valid_proba_y)\n",
    "lgbc_train_valid_auc_val"
   ]
  },
  {
   "cell_type": "code",
   "execution_count": null,
   "id": "b50d1fea",
   "metadata": {
    "ExecuteTime": {
     "end_time": "2022-09-21T10:41:36.638683Z",
     "start_time": "2022-09-21T10:41:36.629706Z"
    }
   },
   "outputs": [],
   "source": [
    "# train-validを予測する\n",
    "# 確率が0.5以上の時1と判定する\n",
    "lgbc_train_valid_pred_y = np.where(lgbc_train_valid_proba_y >= 0.5, 1, 0)\n",
    "\n",
    "# train-validを検証する（Accuracyを算出する）\n",
    "lgbc_train_train_accuracy_val = accuracy_score(dtc_train_valid_df[target], lgbc_train_valid_pred_y)\n",
    "lgbc_train_train_accuracy_val"
   ]
  },
  {
   "cell_type": "markdown",
   "id": "697caa1a",
   "metadata": {},
   "source": [
    "### 12.5.2 予測と検証"
   ]
  },
  {
   "cell_type": "code",
   "execution_count": null,
   "id": "c66d59b2",
   "metadata": {
    "ExecuteTime": {
     "end_time": "2022-09-21T10:41:36.661719Z",
     "start_time": "2022-09-21T10:41:36.641676Z"
    }
   },
   "outputs": [],
   "source": [
    "# trainを予測する\n",
    "lgbc_train_proba_y = lgbc_clf.predict(dtc_train_df[lgbc_features])\n",
    "lgbc_train_pred_y = np.where(lgbc_train_proba_y >= 0.5, 1, 0)\n",
    "\n",
    "# trainを検証する\n",
    "lgbc_train_accuracy_val = accuracy_score(dtc_train_df[target], lgbc_train_pred_y)\n",
    "lgbc_train_auc_val = roc_auc_score(dtc_train_df[target], lgbc_train_proba_y)\n",
    "lgbc_train_accuracy_val, lgbc_train_auc_val"
   ]
  },
  {
   "cell_type": "markdown",
   "id": "f8066ba1",
   "metadata": {},
   "source": [
    "### 12.5.3 テストデータの予測"
   ]
  },
  {
   "cell_type": "code",
   "execution_count": null,
   "id": "fc6c2dda",
   "metadata": {
    "ExecuteTime": {
     "end_time": "2022-09-21T10:41:36.673709Z",
     "start_time": "2022-09-21T10:41:36.664228Z"
    }
   },
   "outputs": [],
   "source": [
    "# testを予測する\n",
    "lgbc_test_proba_y = lgbc_clf.predict(dtc_test_df[lgbc_features])"
   ]
  },
  {
   "cell_type": "code",
   "execution_count": null,
   "id": "601e34e0",
   "metadata": {
    "ExecuteTime": {
     "end_time": "2022-09-21T10:41:36.682705Z",
     "start_time": "2022-09-21T10:41:36.674742Z"
    }
   },
   "outputs": [],
   "source": [
    "# sample submitデータを読み込む\n",
    "gi_sample_submit_df = pd.read_csv(\"../input/gi_sample_submit.csv\")"
   ]
  },
  {
   "cell_type": "code",
   "execution_count": null,
   "id": "25872ad5",
   "metadata": {
    "ExecuteTime": {
     "end_time": "2022-09-21T10:41:36.709775Z",
     "start_time": "2022-09-21T10:41:36.688759Z"
    }
   },
   "outputs": [],
   "source": [
    "# submit向けDataFrameを作成し、列に予測確率を格納する\n",
    "submit_df = dtc_test_df.copy()[[\"customer_id\"]]\n",
    "submit_df[\"buy_proba\"] = lgbc_test_proba_y\n",
    "submit_df.head()"
   ]
  },
  {
   "cell_type": "code",
   "execution_count": null,
   "id": "9cca2061",
   "metadata": {
    "ExecuteTime": {
     "end_time": "2022-09-21T10:41:36.721769Z",
     "start_time": "2022-09-21T10:41:36.711770Z"
    }
   },
   "outputs": [],
   "source": [
    "gi_sample_submit_df.shape, submit_df.shape"
   ]
  },
  {
   "cell_type": "code",
   "execution_count": null,
   "id": "0125ad15",
   "metadata": {
    "ExecuteTime": {
     "end_time": "2022-09-21T10:41:36.775822Z",
     "start_time": "2022-09-21T10:41:36.741809Z"
    }
   },
   "outputs": [],
   "source": [
    "submit_df = pd.merge(gi_sample_submit_df.drop(\"buy_proba\", axis=1), submit_df, on=\"customer_id\", how=\"left\").reset_index(drop=True)\n",
    "submit_df.head()"
   ]
  },
  {
   "cell_type": "code",
   "execution_count": null,
   "id": "ae46cb3a",
   "metadata": {
    "ExecuteTime": {
     "end_time": "2022-09-21T10:41:36.788819Z",
     "start_time": "2022-09-21T10:41:36.782804Z"
    }
   },
   "outputs": [],
   "source": [
    "submit_df.shape"
   ]
  },
  {
   "cell_type": "code",
   "execution_count": null,
   "id": "4dd8180e",
   "metadata": {
    "ExecuteTime": {
     "end_time": "2022-09-21T10:41:36.811814Z",
     "start_time": "2022-09-21T10:41:36.793805Z"
    }
   },
   "outputs": [],
   "source": [
    "# outputディレクトリにsubmit⽤ファイルを出⼒する\n",
    "submit_df.to_csv(f\"../output/submit_lgbc.csv\", encoding=\"utf-8\", index=False)"
   ]
  }
 ],
 "metadata": {
  "kernelspec": {
   "display_name": "Python 3 (ipykernel)",
   "language": "python",
   "name": "python3"
  },
  "language_info": {
   "codemirror_mode": {
    "name": "ipython",
    "version": 3
   },
   "file_extension": ".py",
   "mimetype": "text/x-python",
   "name": "python",
   "nbconvert_exporter": "python",
   "pygments_lexer": "ipython3",
   "version": "3.8.8"
  },
  "toc": {
   "base_numbering": 1,
   "nav_menu": {},
   "number_sections": true,
   "sideBar": true,
   "skip_h1_title": false,
   "title_cell": "Table of Contents",
   "title_sidebar": "Contents",
   "toc_cell": false,
   "toc_position": {
    "height": "497.037px",
    "left": "1030px",
    "top": "160.435px",
    "width": "284.427px"
   },
   "toc_section_display": true,
   "toc_window_display": true
  },
  "varInspector": {
   "cols": {
    "lenName": 16,
    "lenType": 16,
    "lenVar": 40
   },
   "kernels_config": {
    "python": {
     "delete_cmd_postfix": "",
     "delete_cmd_prefix": "del ",
     "library": "var_list.py",
     "varRefreshCmd": "print(var_dic_list())"
    },
    "r": {
     "delete_cmd_postfix": ") ",
     "delete_cmd_prefix": "rm(",
     "library": "var_list.r",
     "varRefreshCmd": "cat(var_dic_list()) "
    }
   },
   "types_to_exclude": [
    "module",
    "function",
    "builtin_function_or_method",
    "instance",
    "_Feature"
   ],
   "window_display": false
  }
 },
 "nbformat": 4,
 "nbformat_minor": 5
}
