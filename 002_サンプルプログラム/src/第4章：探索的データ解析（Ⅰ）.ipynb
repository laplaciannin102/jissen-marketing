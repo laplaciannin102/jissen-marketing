{
 "cells": [
  {
   "cell_type": "markdown",
   "id": "d6ffe699",
   "metadata": {},
   "source": [
    "# 第4章：探索的データ解析（Ⅰ）"
   ]
  },
  {
   "cell_type": "markdown",
   "id": "eeaa8a5c",
   "metadata": {},
   "source": [
    "## 4.2 head/tailで中身を確認する"
   ]
  },
  {
   "cell_type": "markdown",
   "id": "5bb92c39",
   "metadata": {},
   "source": [
    "### 4.2.2 ライブラリのインポート"
   ]
  },
  {
   "cell_type": "code",
   "execution_count": null,
   "id": "a4ba49c1",
   "metadata": {
    "ExecuteTime": {
     "end_time": "2022-07-06T02:38:43.704282Z",
     "start_time": "2022-07-06T02:38:16.116261Z"
    }
   },
   "outputs": [],
   "source": [
    "import numpy as np\n",
    "import pandas as pd\n",
    "import matplotlib.pyplot as plt\n",
    "%matplotlib inline"
   ]
  },
  {
   "cell_type": "markdown",
   "id": "4c129969",
   "metadata": {},
   "source": [
    "### 4.2.3 csvファイルの読み込み"
   ]
  },
  {
   "cell_type": "code",
   "execution_count": null,
   "id": "876cb938",
   "metadata": {
    "ExecuteTime": {
     "end_time": "2022-07-06T02:38:43.819975Z",
     "start_time": "2022-07-06T02:38:43.706277Z"
    }
   },
   "outputs": [],
   "source": [
    "df1 = pd.read_csv(\"../input/gi_train_mm10.csv\") # 10月のデータ\n",
    "df2 = pd.read_csv(\"../input/gi_train_mm11.csv\") # 11月のデータ"
   ]
  },
  {
   "cell_type": "markdown",
   "id": "231f7d7c",
   "metadata": {},
   "source": [
    "### 4.2.4 headメソッドとtailメソッドの実行"
   ]
  },
  {
   "cell_type": "code",
   "execution_count": null,
   "id": "0084de2a",
   "metadata": {
    "ExecuteTime": {
     "end_time": "2022-07-06T02:38:43.843909Z",
     "start_time": "2022-07-06T02:38:43.821969Z"
    }
   },
   "outputs": [],
   "source": [
    "df1.head()"
   ]
  },
  {
   "cell_type": "code",
   "execution_count": null,
   "id": "97530d91",
   "metadata": {
    "ExecuteTime": {
     "end_time": "2022-07-06T02:38:43.871835Z",
     "start_time": "2022-07-06T02:38:43.845904Z"
    }
   },
   "outputs": [],
   "source": [
    "df1.tail()"
   ]
  },
  {
   "cell_type": "markdown",
   "id": "80a9c62a",
   "metadata": {},
   "source": [
    "## 4.3 concatでcsvファイルを結合する"
   ]
  },
  {
   "cell_type": "markdown",
   "id": "3523a250",
   "metadata": {},
   "source": [
    "### 4.3.1 shapeで行数・列数を確認"
   ]
  },
  {
   "cell_type": "code",
   "execution_count": null,
   "id": "cf45144f",
   "metadata": {
    "ExecuteTime": {
     "end_time": "2022-07-06T02:38:43.881808Z",
     "start_time": "2022-07-06T02:38:43.873830Z"
    }
   },
   "outputs": [],
   "source": [
    "df1.shape"
   ]
  },
  {
   "cell_type": "code",
   "execution_count": null,
   "id": "3a7ea988",
   "metadata": {
    "ExecuteTime": {
     "end_time": "2022-07-06T02:38:43.889786Z",
     "start_time": "2022-07-06T02:38:43.883804Z"
    }
   },
   "outputs": [],
   "source": [
    "df2.shape"
   ]
  },
  {
   "cell_type": "markdown",
   "id": "fefc4cfd",
   "metadata": {},
   "source": [
    "### 4.3.2 dtpyesでデータ型を確認"
   ]
  },
  {
   "cell_type": "code",
   "execution_count": null,
   "id": "e974ada7",
   "metadata": {
    "ExecuteTime": {
     "end_time": "2022-07-06T02:38:43.899761Z",
     "start_time": "2022-07-06T02:38:43.891782Z"
    }
   },
   "outputs": [],
   "source": [
    "df1.dtypes"
   ]
  },
  {
   "cell_type": "code",
   "execution_count": null,
   "id": "81277f56",
   "metadata": {
    "ExecuteTime": {
     "end_time": "2022-07-06T02:38:43.909733Z",
     "start_time": "2022-07-06T02:38:43.901755Z"
    }
   },
   "outputs": [],
   "source": [
    "df2.dtypes"
   ]
  },
  {
   "cell_type": "markdown",
   "id": "86305bd5",
   "metadata": {},
   "source": [
    "### 4.3.3 concatでデータを結合"
   ]
  },
  {
   "cell_type": "code",
   "execution_count": null,
   "id": "27471ab0",
   "metadata": {
    "ExecuteTime": {
     "end_time": "2022-07-06T02:38:43.937232Z",
     "start_time": "2022-07-06T02:38:43.911728Z"
    }
   },
   "outputs": [],
   "source": [
    "df_tmp = pd.concat([df1, df2])\n",
    "df_tmp.head(5)"
   ]
  },
  {
   "cell_type": "markdown",
   "id": "b47f41fe",
   "metadata": {},
   "source": [
    "### 4.3.4 uniqueで結合の確認"
   ]
  },
  {
   "cell_type": "code",
   "execution_count": null,
   "id": "1b6b2cd4",
   "metadata": {
    "ExecuteTime": {
     "end_time": "2022-07-06T02:38:43.949200Z",
     "start_time": "2022-07-06T02:38:43.939227Z"
    }
   },
   "outputs": [],
   "source": [
    "print(df_tmp[\"customer_id\"].unique().size)\n",
    "print(df1[\"customer_id\"].unique().size + df2[\"customer_id\"].unique().size)"
   ]
  },
  {
   "cell_type": "code",
   "execution_count": null,
   "id": "c4caf859",
   "metadata": {},
   "outputs": [],
   "source": [
    "print(df_tmp[\"customer_id\"].isnull().any())\n",
    "print(df1[\"customer_id\"].isnull().any())\n",
    "print(df2[\"customer_id\"].isnull().any())"
   ]
  },
  {
   "cell_type": "code",
   "execution_count": null,
   "id": "d57b4b34",
   "metadata": {
    "ExecuteTime": {
     "end_time": "2022-07-06T02:38:43.975131Z",
     "start_time": "2022-07-06T02:38:43.961169Z"
    }
   },
   "outputs": [],
   "source": [
    "print(df_tmp[\"customer_id\"].nunique())\n",
    "print(df1[\"customer_id\"].nunique() + df2[\"customer_id\"].nunique())"
   ]
  },
  {
   "cell_type": "markdown",
   "id": "9006c1f2",
   "metadata": {},
   "source": [
    "### 4.3.5 notnaで不要なレコードを削除"
   ]
  },
  {
   "cell_type": "code",
   "execution_count": null,
   "id": "248dcac3",
   "metadata": {
    "ExecuteTime": {
     "end_time": "2022-07-06T02:38:43.999067Z",
     "start_time": "2022-07-06T02:38:43.977127Z"
    }
   },
   "outputs": [],
   "source": [
    "df_tmp = df_tmp[df_tmp[\"customer_id\"].notna()]"
   ]
  },
  {
   "cell_type": "code",
   "execution_count": null,
   "id": "9928f39e",
   "metadata": {
    "ExecuteTime": {
     "end_time": "2022-07-06T02:38:44.005051Z",
     "start_time": "2022-07-06T02:38:44.000064Z"
    }
   },
   "outputs": [],
   "source": [
    "df = df_tmp.copy()"
   ]
  },
  {
   "cell_type": "markdown",
   "id": "99bbb867",
   "metadata": {},
   "source": [
    "## 4.4 describeで要約統計量を確認する"
   ]
  },
  {
   "cell_type": "markdown",
   "id": "06bca3f0",
   "metadata": {},
   "source": [
    "### 4.4.1 locで分割する"
   ]
  },
  {
   "cell_type": "code",
   "execution_count": null,
   "id": "14c872ea",
   "metadata": {
    "ExecuteTime": {
     "end_time": "2022-07-06T02:38:44.030981Z",
     "start_time": "2022-07-06T02:38:44.020011Z"
    }
   },
   "outputs": [],
   "source": [
    "df_et1 = df.loc[(df[\"event_type\"] == 1)]\n",
    "df_et2 = df.loc[(df[\"event_type\"] == 2)]\n",
    "df_et3 = df.loc[(df[\"event_type\"] == 3)]"
   ]
  },
  {
   "cell_type": "markdown",
   "id": "2f1ca63d",
   "metadata": {},
   "source": [
    "### 4.4.2 value_countsで要素数をカウントする"
   ]
  },
  {
   "cell_type": "code",
   "execution_count": null,
   "id": "682c583b",
   "metadata": {
    "ExecuteTime": {
     "end_time": "2022-07-06T02:38:44.154742Z",
     "start_time": "2022-07-06T02:38:44.031834Z"
    }
   },
   "outputs": [],
   "source": [
    "print(\"■df_et1のevent_typeの集計\")\n",
    "print(df_et1[\"event_type\"].value_counts())\n",
    "print(\"■df_et2のevent_typeの集計\")\n",
    "print(df_et2[\"event_type\"].value_counts())\n",
    "print(\"■df_et3のevent_typeの集計\")\n",
    "print(df_et3[\"event_type\"].value_counts())"
   ]
  },
  {
   "cell_type": "markdown",
   "id": "65f1818b",
   "metadata": {},
   "source": [
    "### 4.4.3 infoで詳細な情報を確認"
   ]
  },
  {
   "cell_type": "code",
   "execution_count": null,
   "id": "c32d997c",
   "metadata": {
    "ExecuteTime": {
     "end_time": "2022-07-06T02:38:44.170699Z",
     "start_time": "2022-07-06T02:38:44.155740Z"
    }
   },
   "outputs": [],
   "source": [
    "df_et1.info"
   ]
  },
  {
   "cell_type": "code",
   "execution_count": null,
   "id": "ef16e4cc",
   "metadata": {
    "ExecuteTime": {
     "end_time": "2022-07-06T02:38:44.178679Z",
     "start_time": "2022-07-06T02:38:44.171696Z"
    }
   },
   "outputs": [],
   "source": [
    "df_et1[\"customer_id\"].nunique()"
   ]
  },
  {
   "cell_type": "markdown",
   "id": "af7ad212",
   "metadata": {},
   "source": [
    "### 4.4.4 describeで要約統計量を確認"
   ]
  },
  {
   "cell_type": "code",
   "execution_count": null,
   "id": "17e0c030",
   "metadata": {
    "ExecuteTime": {
     "end_time": "2022-07-06T02:38:44.210593Z",
     "start_time": "2022-07-06T02:38:44.179675Z"
    }
   },
   "outputs": [],
   "source": [
    "df_et1.describe()"
   ]
  },
  {
   "cell_type": "markdown",
   "id": "14aaa5b5",
   "metadata": {},
   "source": [
    "## 4.5 histでヒストグラムを作成する"
   ]
  },
  {
   "cell_type": "markdown",
   "id": "1b206c73",
   "metadata": {},
   "source": [
    "### 4.5.1 histでヒストグラムを作成"
   ]
  },
  {
   "cell_type": "code",
   "execution_count": null,
   "id": "0d6237e1",
   "metadata": {
    "ExecuteTime": {
     "end_time": "2022-07-06T02:38:45.189974Z",
     "start_time": "2022-07-06T02:38:44.212587Z"
    }
   },
   "outputs": [],
   "source": [
    "plt.hist(df_et1[\"time_duration\"])\n",
    "plt.show()"
   ]
  },
  {
   "cell_type": "markdown",
   "id": "7d15afcd",
   "metadata": {},
   "source": [
    "### 4.5.2 histで解像度の高いヒストグラムを作成"
   ]
  },
  {
   "cell_type": "code",
   "execution_count": null,
   "id": "586945c6",
   "metadata": {
    "ExecuteTime": {
     "end_time": "2022-07-06T02:38:45.464773Z",
     "start_time": "2022-07-06T02:38:45.190971Z"
    }
   },
   "outputs": [],
   "source": [
    "bin_min = int(df_et1[\"time_duration\"].min())\n",
    "bin_max = int(df_et1[\"time_duration\"].max())\n",
    "edges = range(bin_min, bin_max, 5)\n",
    "plt.hist(df_et1[\"time_duration\"], bins=edges)\n",
    "plt.show()"
   ]
  },
  {
   "cell_type": "markdown",
   "id": "737703c3",
   "metadata": {},
   "source": [
    "## 4.6 boxplotで箱ひげ図を作成する"
   ]
  },
  {
   "cell_type": "markdown",
   "id": "d86c943e",
   "metadata": {},
   "source": [
    "### 4.6.1 boxplotで箱ひげ図を作成"
   ]
  },
  {
   "cell_type": "code",
   "execution_count": null,
   "id": "db25d953",
   "metadata": {
    "ExecuteTime": {
     "end_time": "2022-07-06T02:38:45.622356Z",
     "start_time": "2022-07-06T02:38:45.465771Z"
    }
   },
   "outputs": [],
   "source": [
    "plt.boxplot(df_et1[\"time_duration\"])\n",
    "plt.show()"
   ]
  },
  {
   "cell_type": "markdown",
   "id": "e896752a",
   "metadata": {},
   "source": [
    "### 4.6.3 「外れ値」について考えてみる"
   ]
  },
  {
   "cell_type": "code",
   "execution_count": null,
   "id": "e30a0152",
   "metadata": {
    "ExecuteTime": {
     "end_time": "2022-07-06T02:38:45.636319Z",
     "start_time": "2022-07-06T02:38:45.624350Z"
    }
   },
   "outputs": [],
   "source": [
    "print(\"■94.3秒よりも長いショッパー\")\n",
    "print(df_et1[df_et1[\"time_duration\"] > 94.3][\"customer_id\"].nunique())\n",
    "print(\"■94.3秒以下のショッパー\")\n",
    "print(df_et1[df_et1[\"time_duration\"] <= 94.3][\"customer_id\"].nunique())"
   ]
  },
  {
   "cell_type": "markdown",
   "id": "deba8855",
   "metadata": {},
   "source": [
    "## 4.7 astypeでデータ型を変換する"
   ]
  },
  {
   "cell_type": "markdown",
   "id": "6cce3cf5",
   "metadata": {},
   "source": [
    "### 4.7.1 dtypesでデータ型を確認"
   ]
  },
  {
   "cell_type": "code",
   "execution_count": null,
   "id": "0670b413",
   "metadata": {
    "ExecuteTime": {
     "end_time": "2022-07-06T02:38:45.644297Z",
     "start_time": "2022-07-06T02:38:45.637316Z"
    }
   },
   "outputs": [],
   "source": [
    "df.dtypes"
   ]
  },
  {
   "cell_type": "markdown",
   "id": "b1a0fe29",
   "metadata": {},
   "source": [
    "### 4.7.1 astypeでデータ型を変更"
   ]
  },
  {
   "cell_type": "code",
   "execution_count": null,
   "id": "dcaf2783",
   "metadata": {
    "ExecuteTime": {
     "end_time": "2022-07-06T02:38:45.710122Z",
     "start_time": "2022-07-06T02:38:45.646292Z"
    }
   },
   "outputs": [],
   "source": [
    "df[[\"store_id\", \"area_id\", \"event_type\", \"product_id\", \"num_touch\", \"buy_flag\"]] = df[[\"store_id\", \"area_id\", \"event_type\", \"product_id\", \"num_touch\", \"buy_flag\"]].astype(str)\n",
    "df.dtypes"
   ]
  },
  {
   "cell_type": "code",
   "execution_count": null,
   "id": "33199126",
   "metadata": {
    "ExecuteTime": {
     "end_time": "2022-07-06T02:38:45.722090Z",
     "start_time": "2022-07-06T02:38:45.714111Z"
    }
   },
   "outputs": [],
   "source": [
    "df.describe()"
   ]
  }
 ],
 "metadata": {
  "kernelspec": {
   "display_name": "Python 3 (ipykernel)",
   "language": "python",
   "name": "python3"
  },
  "language_info": {
   "codemirror_mode": {
    "name": "ipython",
    "version": 3
   },
   "file_extension": ".py",
   "mimetype": "text/x-python",
   "name": "python",
   "nbconvert_exporter": "python",
   "pygments_lexer": "ipython3",
   "version": "3.8.8"
  },
  "toc": {
   "base_numbering": 1,
   "nav_menu": {},
   "number_sections": true,
   "sideBar": true,
   "skip_h1_title": false,
   "title_cell": "Table of Contents",
   "title_sidebar": "Contents",
   "toc_cell": false,
   "toc_position": {
    "height": "calc(100% - 180px)",
    "left": "10px",
    "top": "150px",
    "width": "321.825px"
   },
   "toc_section_display": true,
   "toc_window_display": true
  },
  "varInspector": {
   "cols": {
    "lenName": 16,
    "lenType": 16,
    "lenVar": 40
   },
   "kernels_config": {
    "python": {
     "delete_cmd_postfix": "",
     "delete_cmd_prefix": "del ",
     "library": "var_list.py",
     "varRefreshCmd": "print(var_dic_list())"
    },
    "r": {
     "delete_cmd_postfix": ") ",
     "delete_cmd_prefix": "rm(",
     "library": "var_list.r",
     "varRefreshCmd": "cat(var_dic_list()) "
    }
   },
   "types_to_exclude": [
    "module",
    "function",
    "builtin_function_or_method",
    "instance",
    "_Feature"
   ],
   "window_display": false
  }
 },
 "nbformat": 4,
 "nbformat_minor": 5
}
